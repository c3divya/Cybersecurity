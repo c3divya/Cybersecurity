{
 "cells": [
  {
   "cell_type": "markdown",
   "metadata": {},
   "source": [
    "# Bro Network Monitor"
   ]
  },
  {
   "cell_type": "markdown",
   "metadata": {},
   "source": [
    "Data Link: https://www.dropbox.com/sh/7fo4efxhpenexqp/AACmuri_l-LDiVDUDJ3hVLqPa?dl=0\n",
    "\n",
    "This tutorial is based on one from ClickSecurity's Data_hacking repo: https://github.com/carriegardner428/data_hacking/blob/master/contagio_traffic_analysis/contagio_traffic_analysis.ipynb"
   ]
  },
  {
   "cell_type": "markdown",
   "metadata": {},
   "source": [
    "# Collect Data Samples"
   ]
  },
  {
   "cell_type": "markdown",
   "metadata": {},
   "source": [
    "This dataset represents samples of malicious network traffic from {}.  Samples are classified into \"APT\", \"CRIME\", and \"METASPLOIT\", and are further divided into sample grouping"
   ]
  },
  {
   "cell_type": "code",
   "execution_count": 30,
   "metadata": {
    "collapsed": true
   },
   "outputs": [],
   "source": [
    "import os\n",
    "import pandas as pd\n",
    "from datetime import datetime"
   ]
  },
  {
   "cell_type": "code",
   "execution_count": 58,
   "metadata": {
    "collapsed": true
   },
   "outputs": [],
   "source": [
    "# Mapping of fields of the files we want to read in and initial setup of pandas dataframes\n",
    "logs_to_process = {\n",
    "                    'conn.log' : ['ts','uid','id.orig_h','id.orig_p','id.resp_h','id.resp_p','proto','service','duration','orig_bytes','resp_bytes','conn_state','local_orig','missed_bytes','history','orig_pkts','orig_ip_bytes','resp_pkts','resp_ip_bytes','tunnel_parents','threat','sample'],\n",
    "                    'dns.log' : ['ts','uid','id.orig_h','id.orig_p','id.resp_h','id.resp_p','proto','trans_id','query','qclass','qclass_name','qtype','qtype_name','rcode','rcode_name','AA','TC','RD','RA','Z','answers','TTLs','rejected','threat','sample'],\n",
    "                    'files.log' : ['ts','fuid','tx_hosts','rx_hosts','conn_uids','source','depth','analyzers','mime_type','filename','duration','local_orig','is_orig','seen_bytes','total_bytes','missing_bytes','overflow_bytes','timedout','parent_fuid','md5','sha1','sha256','extracted','threat','sample'],\n",
    "                    'ftp.log' : ['ts','uid','id.orig_h','id.orig_p','id.resp_h','id.resp_p','user','password','command','arg','mime_type','file_size','reply_code','reply_msg','data_channel.passive','data_channel.orig_h','data_channel.resp_h','data_channel.resp_p','fuid','threat','sample'],\n",
    "                    'http.log' : ['ts','uid','id.orig_h','id.orig_p','id.resp_h','id.resp_p','trans_depth','method','host','uri','referrer','user_agent','request_body_len','response_body_len','status_code','status_msg','info_code','info_msg','filename','tags','username','password','proxied','orig_fuids','orig_mime_types','resp_fuids','resp_mime_types','threat','sample'],\n",
    "                    'notice.log' : ['ts','uid','id.orig_h','id.orig_p','id.resp_h','id.resp_p','fuid','file_mime_type','file_desc','proto','note','msg','sub','src','dst','p','n','peer_descr','actions','suppress_for','dropped','remote_location.country_code','remote_location.region','remote_location.city','remote_location.latitude','remote_location.longitude','threat','sample'],\n",
    "                    'signatures.log' : ['ts','src_addr','src_port','dst_addr','dst_port','note','sig_id','event_msg','sub_msg','sig_count','host_count','threat','sample'],\n",
    "                    'smtp.log' : ['ts','uid','id.orig_h','id.orig_p','id.resp_h','id.resp_p','trans_depth','helo','mailfrom','rcptto','date','from','to','reply_to','msg_id','in_reply_to','subject','x_originating_ip','first_received','second_received','last_reply','path','user_agent','fuids','is_webmail','threat','sample'],\n",
    "                    'ssl.log' : ['ts','uid','id.orig_h','id.orig_p','id.resp_h','id.resp_p','version','cipher','server_name','session_id','subject','issuer_subject','not_valid_before','not_valid_after','last_alert','client_subject','client_issuer_subject','cert_hash','validation_status','threat','sample'],\n",
    "                    'tunnel.log' : ['ts','uid','id.orig_h','id.orig_p','id.resp_h','id.resp_p','tunnel_type','action','threat','sample'],\n",
    "                    'weird.log' : ['ts','uid','id.orig_h','id.orig_p','id.resp_h','id.resp_p','name','addl','notice','peer','threat','sample']\n",
    "                  }\n",
    "\n",
    "conndf   = pd.DataFrame(columns=logs_to_process['conn.log'])\n",
    "dnsdf    = pd.DataFrame(columns=logs_to_process['dns.log'])\n",
    "filesdf  = pd.DataFrame(columns=logs_to_process['files.log'])\n",
    "ftpdf    = pd.DataFrame(columns=logs_to_process['ftp.log'])\n",
    "httpdf   = pd.DataFrame(columns=logs_to_process['http.log'])\n",
    "noticedf = pd.DataFrame(columns=logs_to_process['notice.log'])\n",
    "sigdf    = pd.DataFrame(columns=logs_to_process['signatures.log'])\n",
    "smtpdf   = pd.DataFrame(columns=logs_to_process['smtp.log'])\n",
    "ssldf    = pd.DataFrame(columns=logs_to_process['ssl.log'])\n",
    "tunneldf = pd.DataFrame(columns=logs_to_process['tunnel.log'])\n",
    "weirddf  = pd.DataFrame(columns=logs_to_process['weird.log'])"
   ]
  },
  {
   "cell_type": "code",
   "execution_count": 59,
   "metadata": {
    "collapsed": true
   },
   "outputs": [],
   "source": [
    "def clean_timestamp(df):\n",
    "    # Reference: https://github.com/carriegardner428/data_hacking/blob/master/contagio_traffic_analysis/contagio_traffic_analysis.ipynb\n",
    "    # DROP RECORDS THAT DON'T HAVE A TIMESTAMP ('#CLOSE')\n",
    "    df = df[df.ts.str.contains(\"#close\") == False]\n",
    "    df_time = [datetime.fromtimestamp(float(date)) for date in df['ts'].values ]\n",
    "    df['timestamp'] = pd.Series(df_time)\n",
    "    df.drop('ts', axis=1, inplace=True)\n",
    "    df.set_index('timestamp', inplace=True)\n",
    "    return df"
   ]
  },
  {
   "cell_type": "code",
   "execution_count": 60,
   "metadata": {},
   "outputs": [
    {
     "name": "stderr",
     "output_type": "stream",
     "text": [
      "/Users/carrie/anaconda/envs/mlbook/lib/python3.5/site-packages/ipykernel/__main__.py:6: SettingWithCopyWarning: \n",
      "A value is trying to be set on a copy of a slice from a DataFrame.\n",
      "Try using .loc[row_indexer,col_indexer] = value instead\n",
      "\n",
      "See the caveats in the documentation: http://pandas.pydata.org/pandas-docs/stable/indexing.html#indexing-view-versus-copy\n",
      "/Users/carrie/anaconda/envs/mlbook/lib/python3.5/site-packages/ipykernel/__main__.py:7: SettingWithCopyWarning: \n",
      "A value is trying to be set on a copy of a slice from a DataFrame\n",
      "\n",
      "See the caveats in the documentation: http://pandas.pydata.org/pandas-docs/stable/indexing.html#indexing-view-versus-copy\n",
      "/Users/carrie/anaconda/envs/mlbook/lib/python3.5/site-packages/IPython/core/interactiveshell.py:2717: DtypeWarning: Columns (0) have mixed types. Specify dtype option on import or set low_memory=False.\n",
      "  interactivity=interactivity, compiler=compiler, result=result)\n"
     ]
    }
   ],
   "source": [
    "for dirName, subdirList, fileList in os.walk('./data/PCAPS_TRAFFIC_PATTERNS/'):\n",
    "    for fname in fileList:\n",
    "        tags = dirName.split('/')\n",
    "        if len(tags) == 5 and fname in logs_to_process:\n",
    "            logname = fname.split('.')\n",
    "            try:\n",
    "                tempdf = pd.read_csv(dirName+'/'+fname, sep='\\t',skiprows=8, header=None, \n",
    "                                     names=logs_to_process[fname][:-2])\n",
    "                tempdf['threat'] = tags[3]\n",
    "                tempdf['sample'] = tags[4]\n",
    "                tempdf = clean_timestamp(tempdf)\n",
    "                if tags[2] == \"0\":\n",
    "                    print ('%s/%s' %(dirName, fname))\n",
    "                if fname == 'conn.log':\n",
    "                    conndf = conndf.append(tempdf)\n",
    "                if fname == 'dns.log':\n",
    "                    dnsdf = dnsdf.append(tempdf)\n",
    "                if fname == 'files.log':\n",
    "                    filesdf = filesdf.append(tempdf)\n",
    "                if fname == 'ftp.log':\n",
    "                    ftpdf = ftpdf.append(tempdf)\n",
    "                if fname == 'http.log':\n",
    "                    httpdf = httpdf.append(tempdf)\n",
    "                if fname == 'notice.log':\n",
    "                    noticedf = noticedf.append(tempdf)\n",
    "                if fname == 'signatures.log':\n",
    "                    sigdf = sigdf.append(tempdf)\n",
    "                if fname == 'smtp.log':\n",
    "                    smtpdf = smtpdf.append(tempdf)\n",
    "                if fname == 'ssl.log':\n",
    "                    ssldf = ssldf.append(tempdf)\n",
    "                if fname == 'tunnel.log':\n",
    "                    tunneldf = tunneldf.append(tempdf)\n",
    "                if fname == 'weird.log':\n",
    "                    weirddf = weirddf.append(tempdf)\n",
    "            except Exception as e:\n",
    "                print(\"Error: {}, on {}/{}\".format(str(e), dirName, fname))"
   ]
  },
  {
   "cell_type": "markdown",
   "metadata": {},
   "source": [
    "# Handling BAD, DIRTY Data!!!"
   ]
  },
  {
   "cell_type": "markdown",
   "metadata": {},
   "source": [
    "### Let's check the timestamp column"
   ]
  },
  {
   "cell_type": "code",
   "execution_count": 69,
   "metadata": {},
   "outputs": [
    {
     "data": {
      "text/plain": [
       "(51743, 22)"
      ]
     },
     "execution_count": 69,
     "metadata": {},
     "output_type": "execute_result"
    }
   ],
   "source": [
    "conndf.shape"
   ]
  },
  {
   "cell_type": "code",
   "execution_count": 74,
   "metadata": {},
   "outputs": [
    {
     "data": {
      "text/plain": [
       "Int64Index([2008, 2010, 2011, 2012, 2013], dtype='int64')"
      ]
     },
     "execution_count": 74,
     "metadata": {},
     "output_type": "execute_result"
    }
   ],
   "source": [
    "conndf.sort_index(inplace=True)\n",
    "conndf.index.year.unique()"
   ]
  },
  {
   "cell_type": "markdown",
   "metadata": {},
   "source": [
    "*Where computers even around in 1969?*\n",
    "\n",
    "(Yes, LOL ;) ).  But this sample is from roughly 2008-2013.  Let's make a new df with records just in that time interval"
   ]
  },
  {
   "cell_type": "code",
   "execution_count": 68,
   "metadata": {},
   "outputs": [
    {
     "data": {
      "text/plain": [
       "(51743, 22)"
      ]
     },
     "execution_count": 68,
     "metadata": {},
     "output_type": "execute_result"
    }
   ],
   "source": [
    "conndf = conndf['2008':'2013']\n",
    "conndf.shape"
   ]
  },
  {
   "cell_type": "markdown",
   "metadata": {},
   "source": [
    "you can use df['start_time/date':'end_time/date'] to subset a collection of records in a timeframe"
   ]
  },
  {
   "cell_type": "code",
   "execution_count": 75,
   "metadata": {},
   "outputs": [
    {
     "data": {
      "text/plain": [
       "Int64Index([2008, 2010, 2011, 2012, 2013], dtype='int64')"
      ]
     },
     "execution_count": 75,
     "metadata": {},
     "output_type": "execute_result"
    }
   ],
   "source": [
    "conndf.index.year.unique()"
   ]
  },
  {
   "cell_type": "markdown",
   "metadata": {},
   "source": [
    "### Let's check the times of the other dataframes"
   ]
  },
  {
   "cell_type": "markdown",
   "metadata": {},
   "source": [
    "dns.log"
   ]
  },
  {
   "cell_type": "code",
   "execution_count": 77,
   "metadata": {},
   "outputs": [
    {
     "data": {
      "text/plain": [
       "Float64Index([1969.0, 2010.0, 2011.0, 2012.0, 2013.0, nan], dtype='float64')"
      ]
     },
     "execution_count": 77,
     "metadata": {},
     "output_type": "execute_result"
    }
   ],
   "source": [
    "dnsdf.sort_index(inplace=True)\n",
    "dnsdf.index.year.unique()"
   ]
  },
  {
   "cell_type": "code",
   "execution_count": 87,
   "metadata": {},
   "outputs": [
    {
     "data": {
      "text/plain": [
       "(42835, 25)"
      ]
     },
     "execution_count": 87,
     "metadata": {},
     "output_type": "execute_result"
    }
   ],
   "source": [
    "dnsdf.shape"
   ]
  },
  {
   "cell_type": "code",
   "execution_count": 88,
   "metadata": {},
   "outputs": [
    {
     "data": {
      "text/plain": [
       "(35101, 25)"
      ]
     },
     "execution_count": 88,
     "metadata": {},
     "output_type": "execute_result"
    }
   ],
   "source": [
    "dnsdf = dnsdf['2010':'2013']\n",
    "dnsdf.shape"
   ]
  },
  {
   "cell_type": "markdown",
   "metadata": {},
   "source": [
    "files.log"
   ]
  },
  {
   "cell_type": "code",
   "execution_count": 78,
   "metadata": {},
   "outputs": [
    {
     "data": {
      "text/plain": [
       "Int64Index([1969, 2008, 2010, 2011, 2012, 2013], dtype='int64')"
      ]
     },
     "execution_count": 78,
     "metadata": {},
     "output_type": "execute_result"
    }
   ],
   "source": [
    "filesdf.sort_index(inplace=True)\n",
    "filesdf.index.year.unique()"
   ]
  },
  {
   "cell_type": "code",
   "execution_count": 89,
   "metadata": {},
   "outputs": [
    {
     "data": {
      "text/plain": [
       "(19289, 25)"
      ]
     },
     "execution_count": 89,
     "metadata": {},
     "output_type": "execute_result"
    }
   ],
   "source": [
    "filesdf.shape"
   ]
  },
  {
   "cell_type": "code",
   "execution_count": 90,
   "metadata": {},
   "outputs": [
    {
     "data": {
      "text/plain": [
       "(19087, 25)"
      ]
     },
     "execution_count": 90,
     "metadata": {},
     "output_type": "execute_result"
    }
   ],
   "source": [
    "filesdf = filesdf['2008':'2013']\n",
    "filesdf.shape"
   ]
  },
  {
   "cell_type": "markdown",
   "metadata": {},
   "source": [
    "ftp.log"
   ]
  },
  {
   "cell_type": "code",
   "execution_count": 79,
   "metadata": {},
   "outputs": [
    {
     "data": {
      "text/plain": [
       "Int64Index([1969, 2013], dtype='int64')"
      ]
     },
     "execution_count": 79,
     "metadata": {},
     "output_type": "execute_result"
    }
   ],
   "source": [
    "ftpdf.sort_index(inplace=True)\n",
    "ftpdf.index.year.unique()"
   ]
  },
  {
   "cell_type": "code",
   "execution_count": 91,
   "metadata": {},
   "outputs": [
    {
     "data": {
      "text/plain": [
       "(3, 21)"
      ]
     },
     "execution_count": 91,
     "metadata": {},
     "output_type": "execute_result"
    }
   ],
   "source": [
    "ftpdf.shape"
   ]
  },
  {
   "cell_type": "code",
   "execution_count": 92,
   "metadata": {},
   "outputs": [
    {
     "data": {
      "text/plain": [
       "(2, 21)"
      ]
     },
     "execution_count": 92,
     "metadata": {},
     "output_type": "execute_result"
    }
   ],
   "source": [
    "ftpdf = ftpdf['2013']\n",
    "ftpdf.shape"
   ]
  },
  {
   "cell_type": "markdown",
   "metadata": {},
   "source": [
    "http.log"
   ]
  },
  {
   "cell_type": "code",
   "execution_count": 80,
   "metadata": {},
   "outputs": [
    {
     "data": {
      "text/plain": [
       "Int64Index([1969, 2008, 2010, 2011, 2012, 2013], dtype='int64')"
      ]
     },
     "execution_count": 80,
     "metadata": {},
     "output_type": "execute_result"
    }
   ],
   "source": [
    "httpdf.sort_index(inplace=True)\n",
    "httpdf.index.year.unique()"
   ]
  },
  {
   "cell_type": "code",
   "execution_count": 93,
   "metadata": {},
   "outputs": [
    {
     "data": {
      "text/plain": [
       "(22927, 29)"
      ]
     },
     "execution_count": 93,
     "metadata": {},
     "output_type": "execute_result"
    }
   ],
   "source": [
    "httpdf.shape"
   ]
  },
  {
   "cell_type": "code",
   "execution_count": 94,
   "metadata": {},
   "outputs": [
    {
     "data": {
      "text/plain": [
       "(22798, 29)"
      ]
     },
     "execution_count": 94,
     "metadata": {},
     "output_type": "execute_result"
    }
   ],
   "source": [
    "httpdf = httpdf['2008':'2013']\n",
    "httpdf.shape"
   ]
  },
  {
   "cell_type": "markdown",
   "metadata": {},
   "source": [
    "notice.log"
   ]
  },
  {
   "cell_type": "code",
   "execution_count": 81,
   "metadata": {},
   "outputs": [
    {
     "data": {
      "text/plain": [
       "Int64Index([1969, 2011, 2012, 2013], dtype='int64')"
      ]
     },
     "execution_count": 81,
     "metadata": {},
     "output_type": "execute_result"
    }
   ],
   "source": [
    "noticedf.sort_index(inplace=True)\n",
    "noticedf.index.year.unique()"
   ]
  },
  {
   "cell_type": "code",
   "execution_count": 95,
   "metadata": {},
   "outputs": [
    {
     "data": {
      "text/plain": [
       "(252, 28)"
      ]
     },
     "execution_count": 95,
     "metadata": {},
     "output_type": "execute_result"
    }
   ],
   "source": [
    "noticedf.shape"
   ]
  },
  {
   "cell_type": "code",
   "execution_count": 96,
   "metadata": {},
   "outputs": [
    {
     "data": {
      "text/plain": [
       "(248, 28)"
      ]
     },
     "execution_count": 96,
     "metadata": {},
     "output_type": "execute_result"
    }
   ],
   "source": [
    "noticedf = noticedf['2011':'2013']\n",
    "noticedf.shape"
   ]
  },
  {
   "cell_type": "markdown",
   "metadata": {},
   "source": [
    "sig.log"
   ]
  },
  {
   "cell_type": "code",
   "execution_count": 82,
   "metadata": {},
   "outputs": [
    {
     "data": {
      "text/plain": [
       "Int64Index([2012], dtype='int64')"
      ]
     },
     "execution_count": 82,
     "metadata": {},
     "output_type": "execute_result"
    }
   ],
   "source": [
    "sigdf.sort_index(inplace=True)\n",
    "sigdf.index.year.unique()"
   ]
  },
  {
   "cell_type": "code",
   "execution_count": 97,
   "metadata": {},
   "outputs": [
    {
     "data": {
      "text/plain": [
       "(1, 13)"
      ]
     },
     "execution_count": 97,
     "metadata": {},
     "output_type": "execute_result"
    }
   ],
   "source": [
    "sigdf.shape"
   ]
  },
  {
   "cell_type": "markdown",
   "metadata": {},
   "source": [
    "smtp.log"
   ]
  },
  {
   "cell_type": "code",
   "execution_count": 83,
   "metadata": {},
   "outputs": [
    {
     "data": {
      "text/plain": [
       "Int64Index([2012, 2013], dtype='int64')"
      ]
     },
     "execution_count": 83,
     "metadata": {},
     "output_type": "execute_result"
    }
   ],
   "source": [
    "smtpdf.sort_index(inplace=True)\n",
    "smtpdf.index.year.unique()"
   ]
  },
  {
   "cell_type": "code",
   "execution_count": 99,
   "metadata": {},
   "outputs": [
    {
     "data": {
      "text/plain": [
       "(4088, 27)"
      ]
     },
     "execution_count": 99,
     "metadata": {},
     "output_type": "execute_result"
    }
   ],
   "source": [
    "smtpdf.shape"
   ]
  },
  {
   "cell_type": "markdown",
   "metadata": {},
   "source": [
    "ssl.log"
   ]
  },
  {
   "cell_type": "code",
   "execution_count": 84,
   "metadata": {},
   "outputs": [
    {
     "data": {
      "text/plain": [
       "Int64Index([1969, 2011, 2012, 2013], dtype='int64')"
      ]
     },
     "execution_count": 84,
     "metadata": {},
     "output_type": "execute_result"
    }
   ],
   "source": [
    "ssldf.sort_index(inplace=True)\n",
    "ssldf.index.year.unique()"
   ]
  },
  {
   "cell_type": "code",
   "execution_count": 100,
   "metadata": {},
   "outputs": [
    {
     "data": {
      "text/plain": [
       "(351, 21)"
      ]
     },
     "execution_count": 100,
     "metadata": {},
     "output_type": "execute_result"
    }
   ],
   "source": [
    "ssldf.shape"
   ]
  },
  {
   "cell_type": "code",
   "execution_count": 101,
   "metadata": {},
   "outputs": [
    {
     "data": {
      "text/plain": [
       "(346, 21)"
      ]
     },
     "execution_count": 101,
     "metadata": {},
     "output_type": "execute_result"
    }
   ],
   "source": [
    "ssldf = ssldf['2011':'2013']\n",
    "ssldf.shape"
   ]
  },
  {
   "cell_type": "markdown",
   "metadata": {},
   "source": [
    "tunnel.log"
   ]
  },
  {
   "cell_type": "code",
   "execution_count": 85,
   "metadata": {},
   "outputs": [
    {
     "data": {
      "text/plain": [
       "Int64Index([2013], dtype='int64')"
      ]
     },
     "execution_count": 85,
     "metadata": {},
     "output_type": "execute_result"
    }
   ],
   "source": [
    "tunneldf.sort_index(inplace=True)\n",
    "tunneldf.index.year.unique()"
   ]
  },
  {
   "cell_type": "code",
   "execution_count": 102,
   "metadata": {},
   "outputs": [
    {
     "data": {
      "text/plain": [
       "(2, 10)"
      ]
     },
     "execution_count": 102,
     "metadata": {},
     "output_type": "execute_result"
    }
   ],
   "source": [
    "tunneldf.shape"
   ]
  },
  {
   "cell_type": "markdown",
   "metadata": {},
   "source": [
    "weird.log"
   ]
  },
  {
   "cell_type": "code",
   "execution_count": 86,
   "metadata": {},
   "outputs": [
    {
     "data": {
      "text/plain": [
       "Int64Index([1969, 2011, 2012, 2013], dtype='int64')"
      ]
     },
     "execution_count": 86,
     "metadata": {},
     "output_type": "execute_result"
    }
   ],
   "source": [
    "weirddf.sort_index(inplace=True)\n",
    "weirddf.index.year.unique()"
   ]
  },
  {
   "cell_type": "code",
   "execution_count": 103,
   "metadata": {},
   "outputs": [
    {
     "data": {
      "text/plain": [
       "(1081, 12)"
      ]
     },
     "execution_count": 103,
     "metadata": {},
     "output_type": "execute_result"
    }
   ],
   "source": [
    "weirddf.shape"
   ]
  },
  {
   "cell_type": "code",
   "execution_count": 105,
   "metadata": {},
   "outputs": [
    {
     "data": {
      "text/plain": [
       "(1037, 12)"
      ]
     },
     "execution_count": 105,
     "metadata": {},
     "output_type": "execute_result"
    }
   ],
   "source": [
    "weirddf = weirddf['2011':'2013']\n",
    "weirddf.shape"
   ]
  },
  {
   "cell_type": "markdown",
   "metadata": {},
   "source": [
    "## Checking Other Features\n",
    "- NaNs\n",
    "- Single value features"
   ]
  },
  {
   "cell_type": "markdown",
   "metadata": {},
   "source": [
    "### conn.log"
   ]
  },
  {
   "cell_type": "code",
   "execution_count": 34,
   "metadata": {},
   "outputs": [
    {
     "data": {
      "text/html": [
       "<div>\n",
       "<style>\n",
       "    .dataframe thead tr:only-child th {\n",
       "        text-align: right;\n",
       "    }\n",
       "\n",
       "    .dataframe thead th {\n",
       "        text-align: left;\n",
       "    }\n",
       "\n",
       "    .dataframe tbody tr th {\n",
       "        vertical-align: top;\n",
       "    }\n",
       "</style>\n",
       "<table border=\"1\" class=\"dataframe\">\n",
       "  <thead>\n",
       "    <tr style=\"text-align: right;\">\n",
       "      <th></th>\n",
       "      <th>conn_state</th>\n",
       "      <th>duration</th>\n",
       "      <th>history</th>\n",
       "      <th>id.orig_h</th>\n",
       "      <th>id.orig_p</th>\n",
       "      <th>id.resp_h</th>\n",
       "      <th>id.resp_p</th>\n",
       "      <th>local_orig</th>\n",
       "      <th>missed_bytes</th>\n",
       "      <th>orig_bytes</th>\n",
       "      <th>...</th>\n",
       "      <th>orig_pkts</th>\n",
       "      <th>proto</th>\n",
       "      <th>resp_bytes</th>\n",
       "      <th>resp_ip_bytes</th>\n",
       "      <th>resp_pkts</th>\n",
       "      <th>sample</th>\n",
       "      <th>service</th>\n",
       "      <th>threat</th>\n",
       "      <th>tunnel_parents</th>\n",
       "      <th>uid</th>\n",
       "    </tr>\n",
       "  </thead>\n",
       "  <tbody>\n",
       "    <tr>\n",
       "      <th>2013-02-03 17:20:28.793176</th>\n",
       "      <td>SF</td>\n",
       "      <td>21.708771</td>\n",
       "      <td>Dd</td>\n",
       "      <td>172.16.253.129</td>\n",
       "      <td>68.0</td>\n",
       "      <td>172.16.253.254</td>\n",
       "      <td>67.0</td>\n",
       "      <td>-</td>\n",
       "      <td>0.0</td>\n",
       "      <td>301</td>\n",
       "      <td>...</td>\n",
       "      <td>1.0</td>\n",
       "      <td>udp</td>\n",
       "      <td>900</td>\n",
       "      <td>984.0</td>\n",
       "      <td>3.0</td>\n",
       "      <td>BIN_8202_6d2c12085f0018daeb9c1a53e53fd4d1</td>\n",
       "      <td>dhcp</td>\n",
       "      <td>APT</td>\n",
       "      <td>(empty)</td>\n",
       "      <td>CI9ceD4wNSKUHA3wmd</td>\n",
       "    </tr>\n",
       "    <tr>\n",
       "      <th>2013-02-03 17:20:49.634244</th>\n",
       "      <td>S0</td>\n",
       "      <td>0.863748</td>\n",
       "      <td>D</td>\n",
       "      <td>0.0.0.0</td>\n",
       "      <td>68.0</td>\n",
       "      <td>255.255.255.255</td>\n",
       "      <td>67.0</td>\n",
       "      <td>-</td>\n",
       "      <td>0.0</td>\n",
       "      <td>613</td>\n",
       "      <td>...</td>\n",
       "      <td>2.0</td>\n",
       "      <td>udp</td>\n",
       "      <td>0</td>\n",
       "      <td>0.0</td>\n",
       "      <td>0.0</td>\n",
       "      <td>BIN_8202_6d2c12085f0018daeb9c1a53e53fd4d1</td>\n",
       "      <td>dhcp</td>\n",
       "      <td>APT</td>\n",
       "      <td>(empty)</td>\n",
       "      <td>CmHWaWNDdsoHVqVsk</td>\n",
       "    </tr>\n",
       "    <tr>\n",
       "      <th>2013-02-03 17:20:49.635240</th>\n",
       "      <td>OTH</td>\n",
       "      <td>0.000007</td>\n",
       "      <td>-</td>\n",
       "      <td>172.16.253.254</td>\n",
       "      <td>8.0</td>\n",
       "      <td>172.16.253.129</td>\n",
       "      <td>0.0</td>\n",
       "      <td>-</td>\n",
       "      <td>0.0</td>\n",
       "      <td>40</td>\n",
       "      <td>...</td>\n",
       "      <td>2.0</td>\n",
       "      <td>icmp</td>\n",
       "      <td>0</td>\n",
       "      <td>0.0</td>\n",
       "      <td>0.0</td>\n",
       "      <td>BIN_8202_6d2c12085f0018daeb9c1a53e53fd4d1</td>\n",
       "      <td>-</td>\n",
       "      <td>APT</td>\n",
       "      <td>(empty)</td>\n",
       "      <td>C82nAi1NNM7gxFM7T2</td>\n",
       "    </tr>\n",
       "    <tr>\n",
       "      <th>2013-02-03 17:22:44.875318</th>\n",
       "      <td>SF</td>\n",
       "      <td>0.115893</td>\n",
       "      <td>Dd</td>\n",
       "      <td>172.16.253.129</td>\n",
       "      <td>53.0</td>\n",
       "      <td>8.8.8.8</td>\n",
       "      <td>53.0</td>\n",
       "      <td>-</td>\n",
       "      <td>0.0</td>\n",
       "      <td>41</td>\n",
       "      <td>...</td>\n",
       "      <td>1.0</td>\n",
       "      <td>udp</td>\n",
       "      <td>57</td>\n",
       "      <td>85.0</td>\n",
       "      <td>1.0</td>\n",
       "      <td>BIN_8202_6d2c12085f0018daeb9c1a53e53fd4d1</td>\n",
       "      <td>dns</td>\n",
       "      <td>APT</td>\n",
       "      <td>(empty)</td>\n",
       "      <td>CgldPv2fme1uRfxBG4</td>\n",
       "    </tr>\n",
       "    <tr>\n",
       "      <th>2013-02-03 17:22:44.875379</th>\n",
       "      <td>SF</td>\n",
       "      <td>0.114048</td>\n",
       "      <td>Dd</td>\n",
       "      <td>172.16.253.129</td>\n",
       "      <td>53.0</td>\n",
       "      <td>4.2.2.2</td>\n",
       "      <td>53.0</td>\n",
       "      <td>-</td>\n",
       "      <td>0.0</td>\n",
       "      <td>41</td>\n",
       "      <td>...</td>\n",
       "      <td>1.0</td>\n",
       "      <td>udp</td>\n",
       "      <td>57</td>\n",
       "      <td>85.0</td>\n",
       "      <td>1.0</td>\n",
       "      <td>BIN_8202_6d2c12085f0018daeb9c1a53e53fd4d1</td>\n",
       "      <td>dns</td>\n",
       "      <td>APT</td>\n",
       "      <td>(empty)</td>\n",
       "      <td>CEAjpT2procZiZLkpl</td>\n",
       "    </tr>\n",
       "  </tbody>\n",
       "</table>\n",
       "<p>5 rows × 21 columns</p>\n",
       "</div>"
      ],
      "text/plain": [
       "                           conn_state   duration history       id.orig_h  \\\n",
       "2013-02-03 17:20:28.793176         SF  21.708771      Dd  172.16.253.129   \n",
       "2013-02-03 17:20:49.634244         S0   0.863748       D         0.0.0.0   \n",
       "2013-02-03 17:20:49.635240        OTH   0.000007       -  172.16.253.254   \n",
       "2013-02-03 17:22:44.875318         SF   0.115893      Dd  172.16.253.129   \n",
       "2013-02-03 17:22:44.875379         SF   0.114048      Dd  172.16.253.129   \n",
       "\n",
       "                            id.orig_p        id.resp_h  id.resp_p local_orig  \\\n",
       "2013-02-03 17:20:28.793176       68.0   172.16.253.254       67.0          -   \n",
       "2013-02-03 17:20:49.634244       68.0  255.255.255.255       67.0          -   \n",
       "2013-02-03 17:20:49.635240        8.0   172.16.253.129        0.0          -   \n",
       "2013-02-03 17:22:44.875318       53.0          8.8.8.8       53.0          -   \n",
       "2013-02-03 17:22:44.875379       53.0          4.2.2.2       53.0          -   \n",
       "\n",
       "                            missed_bytes orig_bytes         ...          \\\n",
       "2013-02-03 17:20:28.793176           0.0        301         ...           \n",
       "2013-02-03 17:20:49.634244           0.0        613         ...           \n",
       "2013-02-03 17:20:49.635240           0.0         40         ...           \n",
       "2013-02-03 17:22:44.875318           0.0         41         ...           \n",
       "2013-02-03 17:22:44.875379           0.0         41         ...           \n",
       "\n",
       "                            orig_pkts  proto resp_bytes resp_ip_bytes  \\\n",
       "2013-02-03 17:20:28.793176        1.0    udp        900         984.0   \n",
       "2013-02-03 17:20:49.634244        2.0    udp          0           0.0   \n",
       "2013-02-03 17:20:49.635240        2.0   icmp          0           0.0   \n",
       "2013-02-03 17:22:44.875318        1.0    udp         57          85.0   \n",
       "2013-02-03 17:22:44.875379        1.0    udp         57          85.0   \n",
       "\n",
       "                            resp_pkts  \\\n",
       "2013-02-03 17:20:28.793176        3.0   \n",
       "2013-02-03 17:20:49.634244        0.0   \n",
       "2013-02-03 17:20:49.635240        0.0   \n",
       "2013-02-03 17:22:44.875318        1.0   \n",
       "2013-02-03 17:22:44.875379        1.0   \n",
       "\n",
       "                                                               sample service  \\\n",
       "2013-02-03 17:20:28.793176  BIN_8202_6d2c12085f0018daeb9c1a53e53fd4d1    dhcp   \n",
       "2013-02-03 17:20:49.634244  BIN_8202_6d2c12085f0018daeb9c1a53e53fd4d1    dhcp   \n",
       "2013-02-03 17:20:49.635240  BIN_8202_6d2c12085f0018daeb9c1a53e53fd4d1       -   \n",
       "2013-02-03 17:22:44.875318  BIN_8202_6d2c12085f0018daeb9c1a53e53fd4d1     dns   \n",
       "2013-02-03 17:22:44.875379  BIN_8202_6d2c12085f0018daeb9c1a53e53fd4d1     dns   \n",
       "\n",
       "                           threat tunnel_parents                 uid  \n",
       "2013-02-03 17:20:28.793176    APT        (empty)  CI9ceD4wNSKUHA3wmd  \n",
       "2013-02-03 17:20:49.634244    APT        (empty)   CmHWaWNDdsoHVqVsk  \n",
       "2013-02-03 17:20:49.635240    APT        (empty)  C82nAi1NNM7gxFM7T2  \n",
       "2013-02-03 17:22:44.875318    APT        (empty)  CgldPv2fme1uRfxBG4  \n",
       "2013-02-03 17:22:44.875379    APT        (empty)  CEAjpT2procZiZLkpl  \n",
       "\n",
       "[5 rows x 21 columns]"
      ]
     },
     "execution_count": 34,
     "metadata": {},
     "output_type": "execute_result"
    }
   ],
   "source": [
    "conndf.head()"
   ]
  },
  {
   "cell_type": "code",
   "execution_count": 106,
   "metadata": {
    "scrolled": true
   },
   "outputs": [
    {
     "name": "stdout",
     "output_type": "stream",
     "text": [
      "<class 'pandas.core.frame.DataFrame'>\n",
      "DatetimeIndex: 51743 entries, 2008-08-29 14:13:19.056673 to 2013-09-25 22:44:06.949527\n",
      "Data columns (total 22 columns):\n",
      "conn_state        51743 non-null object\n",
      "duration          51743 non-null object\n",
      "history           51743 non-null object\n",
      "id.orig_h         51743 non-null object\n",
      "id.orig_p         51743 non-null float64\n",
      "id.resp_h         51743 non-null object\n",
      "id.resp_p         51743 non-null float64\n",
      "local_orig        51743 non-null object\n",
      "missed_bytes      51743 non-null float64\n",
      "orig_bytes        51743 non-null object\n",
      "orig_ip_bytes     51743 non-null float64\n",
      "orig_pkts         51743 non-null float64\n",
      "proto             51743 non-null object\n",
      "resp_bytes        51743 non-null object\n",
      "resp_ip_bytes     51743 non-null float64\n",
      "resp_pkts         51743 non-null float64\n",
      "sample            51743 non-null object\n",
      "service           51743 non-null object\n",
      "threat            51743 non-null object\n",
      "ts                0 non-null object\n",
      "tunnel_parents    51743 non-null object\n",
      "uid               51743 non-null object\n",
      "dtypes: float64(7), object(15)\n",
      "memory usage: 9.1+ MB\n"
     ]
    }
   ],
   "source": [
    "conndf.info()"
   ]
  },
  {
   "cell_type": "code",
   "execution_count": 131,
   "metadata": {},
   "outputs": [
    {
     "data": {
      "text/html": [
       "<div>\n",
       "<style>\n",
       "    .dataframe thead tr:only-child th {\n",
       "        text-align: right;\n",
       "    }\n",
       "\n",
       "    .dataframe thead th {\n",
       "        text-align: left;\n",
       "    }\n",
       "\n",
       "    .dataframe tbody tr th {\n",
       "        vertical-align: top;\n",
       "    }\n",
       "</style>\n",
       "<table border=\"1\" class=\"dataframe\">\n",
       "  <thead>\n",
       "    <tr style=\"text-align: right;\">\n",
       "      <th></th>\n",
       "      <th>conn_state</th>\n",
       "      <th>duration</th>\n",
       "      <th>history</th>\n",
       "      <th>id.orig_h</th>\n",
       "      <th>id.resp_h</th>\n",
       "      <th>local_orig</th>\n",
       "      <th>orig_bytes</th>\n",
       "      <th>proto</th>\n",
       "      <th>resp_bytes</th>\n",
       "      <th>sample</th>\n",
       "      <th>service</th>\n",
       "      <th>threat</th>\n",
       "      <th>tunnel_parents</th>\n",
       "      <th>uid</th>\n",
       "    </tr>\n",
       "  </thead>\n",
       "  <tbody>\n",
       "    <tr>\n",
       "      <th>count</th>\n",
       "      <td>51743</td>\n",
       "      <td>51743</td>\n",
       "      <td>51743</td>\n",
       "      <td>51743</td>\n",
       "      <td>51743</td>\n",
       "      <td>51743</td>\n",
       "      <td>51743</td>\n",
       "      <td>51743</td>\n",
       "      <td>51743</td>\n",
       "      <td>51743</td>\n",
       "      <td>51743</td>\n",
       "      <td>51743</td>\n",
       "      <td>51743</td>\n",
       "      <td>51743</td>\n",
       "    </tr>\n",
       "    <tr>\n",
       "      <th>unique</th>\n",
       "      <td>13</td>\n",
       "      <td>38352</td>\n",
       "      <td>174</td>\n",
       "      <td>111</td>\n",
       "      <td>3861</td>\n",
       "      <td>1</td>\n",
       "      <td>3479</td>\n",
       "      <td>3</td>\n",
       "      <td>4629</td>\n",
       "      <td>95</td>\n",
       "      <td>9</td>\n",
       "      <td>3</td>\n",
       "      <td>2</td>\n",
       "      <td>51743</td>\n",
       "    </tr>\n",
       "    <tr>\n",
       "      <th>top</th>\n",
       "      <td>RSTO</td>\n",
       "      <td>-</td>\n",
       "      <td>ShAfR</td>\n",
       "      <td>192.168.248.165</td>\n",
       "      <td>10.0.2.255</td>\n",
       "      <td>-</td>\n",
       "      <td>0</td>\n",
       "      <td>tcp</td>\n",
       "      <td>-</td>\n",
       "      <td>BIN_Kuluoz-Asprox_9F842AD20C50AD1AAB41F20B321B...</td>\n",
       "      <td>-</td>\n",
       "      <td>CRIME</td>\n",
       "      <td>(empty)</td>\n",
       "      <td>Ccf1Kq4YilW9TJ9di6</td>\n",
       "    </tr>\n",
       "    <tr>\n",
       "      <th>freq</th>\n",
       "      <td>20739</td>\n",
       "      <td>10920</td>\n",
       "      <td>9974</td>\n",
       "      <td>23641</td>\n",
       "      <td>2756</td>\n",
       "      <td>51743</td>\n",
       "      <td>21169</td>\n",
       "      <td>43381</td>\n",
       "      <td>10920</td>\n",
       "      <td>17510</td>\n",
       "      <td>31585</td>\n",
       "      <td>48725</td>\n",
       "      <td>51741</td>\n",
       "      <td>1</td>\n",
       "    </tr>\n",
       "  </tbody>\n",
       "</table>\n",
       "</div>"
      ],
      "text/plain": [
       "       conn_state duration history        id.orig_h   id.resp_h local_orig  \\\n",
       "count       51743    51743   51743            51743       51743      51743   \n",
       "unique         13    38352     174              111        3861          1   \n",
       "top          RSTO        -   ShAfR  192.168.248.165  10.0.2.255          -   \n",
       "freq        20739    10920    9974            23641        2756      51743   \n",
       "\n",
       "       orig_bytes  proto resp_bytes  \\\n",
       "count       51743  51743      51743   \n",
       "unique       3479      3       4629   \n",
       "top             0    tcp          -   \n",
       "freq        21169  43381      10920   \n",
       "\n",
       "                                                   sample service threat  \\\n",
       "count                                               51743   51743  51743   \n",
       "unique                                                 95       9      3   \n",
       "top     BIN_Kuluoz-Asprox_9F842AD20C50AD1AAB41F20B321B...       -  CRIME   \n",
       "freq                                                17510   31585  48725   \n",
       "\n",
       "       tunnel_parents                 uid  \n",
       "count           51743               51743  \n",
       "unique              2               51743  \n",
       "top           (empty)  Ccf1Kq4YilW9TJ9di6  \n",
       "freq            51741                   1  "
      ]
     },
     "execution_count": 131,
     "metadata": {},
     "output_type": "execute_result"
    }
   ],
   "source": [
    "# Get categorical, object-type variables\n",
    "conndf.select_dtypes(include=['object']).describe()"
   ]
  },
  {
   "cell_type": "code",
   "execution_count": null,
   "metadata": {
    "collapsed": true
   },
   "outputs": [],
   "source": [
    "conndf['local_orig'].unique()"
   ]
  },
  {
   "cell_type": "code",
   "execution_count": 135,
   "metadata": {},
   "outputs": [
    {
     "data": {
      "text/plain": [
       "(empty)              51741\n",
       "CDlYaUKSPEa6CZWm6        2\n",
       "Name: tunnel_parents, dtype: int64"
      ]
     },
     "execution_count": 135,
     "metadata": {},
     "output_type": "execute_result"
    }
   ],
   "source": [
    "conndf.tunnel_parents.value_counts()"
   ]
  },
  {
   "cell_type": "code",
   "execution_count": 136,
   "metadata": {},
   "outputs": [
    {
     "data": {
      "text/plain": [
       "RSTO      20739\n",
       "S0        11951\n",
       "SF        10882\n",
       "RSTRH      3269\n",
       "SHR        1416\n",
       "REJ        1253\n",
       "RSTR       1045\n",
       "OTH         479\n",
       "RSTOS0      255\n",
       "S3          128\n",
       "SH          127\n",
       "S1          117\n",
       "S2           82\n",
       "Name: conn_state, dtype: int64"
      ]
     },
     "execution_count": 136,
     "metadata": {},
     "output_type": "execute_result"
    }
   ],
   "source": [
    "conndf.conn_state.value_counts()"
   ]
  },
  {
   "cell_type": "code",
   "execution_count": 134,
   "metadata": {},
   "outputs": [
    {
     "data": {
      "text/html": [
       "<div>\n",
       "<style>\n",
       "    .dataframe thead tr:only-child th {\n",
       "        text-align: right;\n",
       "    }\n",
       "\n",
       "    .dataframe thead th {\n",
       "        text-align: left;\n",
       "    }\n",
       "\n",
       "    .dataframe tbody tr th {\n",
       "        vertical-align: top;\n",
       "    }\n",
       "</style>\n",
       "<table border=\"1\" class=\"dataframe\">\n",
       "  <thead>\n",
       "    <tr style=\"text-align: right;\">\n",
       "      <th></th>\n",
       "      <th>id.orig_p</th>\n",
       "      <th>id.resp_p</th>\n",
       "      <th>missed_bytes</th>\n",
       "      <th>orig_ip_bytes</th>\n",
       "      <th>orig_pkts</th>\n",
       "      <th>resp_ip_bytes</th>\n",
       "      <th>resp_pkts</th>\n",
       "    </tr>\n",
       "  </thead>\n",
       "  <tbody>\n",
       "    <tr>\n",
       "      <th>count</th>\n",
       "      <td>51743.000000</td>\n",
       "      <td>51743.000000</td>\n",
       "      <td>5.174300e+04</td>\n",
       "      <td>5.174300e+04</td>\n",
       "      <td>51743.000000</td>\n",
       "      <td>5.174300e+04</td>\n",
       "      <td>51743.000000</td>\n",
       "    </tr>\n",
       "    <tr>\n",
       "      <th>mean</th>\n",
       "      <td>3527.059892</td>\n",
       "      <td>1003.664302</td>\n",
       "      <td>1.562934e+02</td>\n",
       "      <td>1.257999e+03</td>\n",
       "      <td>6.740351</td>\n",
       "      <td>5.544762e+03</td>\n",
       "      <td>7.629109</td>\n",
       "    </tr>\n",
       "    <tr>\n",
       "      <th>std</th>\n",
       "      <td>7916.361162</td>\n",
       "      <td>3599.388695</td>\n",
       "      <td>3.542275e+04</td>\n",
       "      <td>5.133977e+04</td>\n",
       "      <td>86.552072</td>\n",
       "      <td>1.669139e+05</td>\n",
       "      <td>123.460882</td>\n",
       "    </tr>\n",
       "    <tr>\n",
       "      <th>min</th>\n",
       "      <td>1.000000</td>\n",
       "      <td>0.000000</td>\n",
       "      <td>0.000000e+00</td>\n",
       "      <td>0.000000e+00</td>\n",
       "      <td>0.000000</td>\n",
       "      <td>0.000000e+00</td>\n",
       "      <td>0.000000</td>\n",
       "    </tr>\n",
       "    <tr>\n",
       "      <th>25%</th>\n",
       "      <td>1356.000000</td>\n",
       "      <td>25.000000</td>\n",
       "      <td>0.000000e+00</td>\n",
       "      <td>7.800000e+01</td>\n",
       "      <td>1.000000</td>\n",
       "      <td>4.000000e+01</td>\n",
       "      <td>1.000000</td>\n",
       "    </tr>\n",
       "    <tr>\n",
       "      <th>50%</th>\n",
       "      <td>2207.000000</td>\n",
       "      <td>80.000000</td>\n",
       "      <td>0.000000e+00</td>\n",
       "      <td>1.680000e+02</td>\n",
       "      <td>4.000000</td>\n",
       "      <td>1.580000e+02</td>\n",
       "      <td>2.000000</td>\n",
       "    </tr>\n",
       "    <tr>\n",
       "      <th>75%</th>\n",
       "      <td>3319.000000</td>\n",
       "      <td>80.000000</td>\n",
       "      <td>0.000000e+00</td>\n",
       "      <td>5.080000e+02</td>\n",
       "      <td>5.000000</td>\n",
       "      <td>5.170000e+02</td>\n",
       "      <td>4.000000</td>\n",
       "    </tr>\n",
       "    <tr>\n",
       "      <th>max</th>\n",
       "      <td>65529.000000</td>\n",
       "      <td>63551.000000</td>\n",
       "      <td>8.057592e+06</td>\n",
       "      <td>1.074928e+07</td>\n",
       "      <td>13493.000000</td>\n",
       "      <td>3.046285e+07</td>\n",
       "      <td>20340.000000</td>\n",
       "    </tr>\n",
       "  </tbody>\n",
       "</table>\n",
       "</div>"
      ],
      "text/plain": [
       "          id.orig_p     id.resp_p  missed_bytes  orig_ip_bytes     orig_pkts  \\\n",
       "count  51743.000000  51743.000000  5.174300e+04   5.174300e+04  51743.000000   \n",
       "mean    3527.059892   1003.664302  1.562934e+02   1.257999e+03      6.740351   \n",
       "std     7916.361162   3599.388695  3.542275e+04   5.133977e+04     86.552072   \n",
       "min        1.000000      0.000000  0.000000e+00   0.000000e+00      0.000000   \n",
       "25%     1356.000000     25.000000  0.000000e+00   7.800000e+01      1.000000   \n",
       "50%     2207.000000     80.000000  0.000000e+00   1.680000e+02      4.000000   \n",
       "75%     3319.000000     80.000000  0.000000e+00   5.080000e+02      5.000000   \n",
       "max    65529.000000  63551.000000  8.057592e+06   1.074928e+07  13493.000000   \n",
       "\n",
       "       resp_ip_bytes     resp_pkts  \n",
       "count   5.174300e+04  51743.000000  \n",
       "mean    5.544762e+03      7.629109  \n",
       "std     1.669139e+05    123.460882  \n",
       "min     0.000000e+00      0.000000  \n",
       "25%     4.000000e+01      1.000000  \n",
       "50%     1.580000e+02      2.000000  \n",
       "75%     5.170000e+02      4.000000  \n",
       "max     3.046285e+07  20340.000000  "
      ]
     },
     "execution_count": 134,
     "metadata": {},
     "output_type": "execute_result"
    }
   ],
   "source": [
    "# Get categorical, object-type variables\n",
    "conndf.select_dtypes(exclude=['object']).describe()"
   ]
  },
  {
   "cell_type": "markdown",
   "metadata": {},
   "source": [
    "conndf TODOs:\n",
    "    - drop 'ts' column\n",
    "    - drop 'local_orig' column, 1 unique"
   ]
  },
  {
   "cell_type": "code",
   "execution_count": 126,
   "metadata": {},
   "outputs": [
    {
     "ename": "ValueError",
     "evalue": "labels ['ts'] not contained in axis",
     "output_type": "error",
     "traceback": [
      "\u001b[0;31m-------------\u001b[0m",
      "\u001b[0;31mValueError\u001b[0mTraceback (most recent call last)",
      "\u001b[0;32m<ipython-input-126-2f7e63671cac>\u001b[0m in \u001b[0;36m<module>\u001b[0;34m()\u001b[0m\n\u001b[0;32m----> 1\u001b[0;31m \u001b[0mconndf\u001b[0m\u001b[0;34m.\u001b[0m\u001b[0mdrop\u001b[0m\u001b[0;34m(\u001b[0m\u001b[0;34m'ts'\u001b[0m\u001b[0;34m,\u001b[0m \u001b[0maxis\u001b[0m\u001b[0;34m=\u001b[0m\u001b[0;36m1\u001b[0m\u001b[0;34m,\u001b[0m \u001b[0minplace\u001b[0m\u001b[0;34m=\u001b[0m\u001b[0;32mTrue\u001b[0m\u001b[0;34m)\u001b[0m\u001b[0;34m\u001b[0m\u001b[0m\n\u001b[0m\u001b[1;32m      2\u001b[0m \u001b[0mconndf\u001b[0m\u001b[0;34m.\u001b[0m\u001b[0mdrop\u001b[0m\u001b[0;34m(\u001b[0m\u001b[0;34m'local_orig'\u001b[0m\u001b[0;34m,\u001b[0m \u001b[0maxis\u001b[0m\u001b[0;34m=\u001b[0m\u001b[0;36m1\u001b[0m\u001b[0;34m,\u001b[0m \u001b[0minplace\u001b[0m\u001b[0;34m=\u001b[0m\u001b[0;32mTrue\u001b[0m\u001b[0;34m)\u001b[0m\u001b[0;34m\u001b[0m\u001b[0m\n\u001b[1;32m      3\u001b[0m \u001b[0mconndf\u001b[0m\u001b[0;34m.\u001b[0m\u001b[0minfo\u001b[0m\u001b[0;34m(\u001b[0m\u001b[0;34m)\u001b[0m\u001b[0;34m\u001b[0m\u001b[0m\n",
      "\u001b[0;32m/Users/carrie/anaconda/envs/mlbook/lib/python3.5/site-packages/pandas/core/generic.py\u001b[0m in \u001b[0;36mdrop\u001b[0;34m(self, labels, axis, level, inplace, errors)\u001b[0m\n\u001b[1;32m   2159\u001b[0m                 \u001b[0mnew_axis\u001b[0m \u001b[0;34m=\u001b[0m \u001b[0maxis\u001b[0m\u001b[0;34m.\u001b[0m\u001b[0mdrop\u001b[0m\u001b[0;34m(\u001b[0m\u001b[0mlabels\u001b[0m\u001b[0;34m,\u001b[0m \u001b[0mlevel\u001b[0m\u001b[0;34m=\u001b[0m\u001b[0mlevel\u001b[0m\u001b[0;34m,\u001b[0m \u001b[0merrors\u001b[0m\u001b[0;34m=\u001b[0m\u001b[0merrors\u001b[0m\u001b[0;34m)\u001b[0m\u001b[0;34m\u001b[0m\u001b[0m\n\u001b[1;32m   2160\u001b[0m             \u001b[0;32melse\u001b[0m\u001b[0;34m:\u001b[0m\u001b[0;34m\u001b[0m\u001b[0m\n\u001b[0;32m-> 2161\u001b[0;31m                 \u001b[0mnew_axis\u001b[0m \u001b[0;34m=\u001b[0m \u001b[0maxis\u001b[0m\u001b[0;34m.\u001b[0m\u001b[0mdrop\u001b[0m\u001b[0;34m(\u001b[0m\u001b[0mlabels\u001b[0m\u001b[0;34m,\u001b[0m \u001b[0merrors\u001b[0m\u001b[0;34m=\u001b[0m\u001b[0merrors\u001b[0m\u001b[0;34m)\u001b[0m\u001b[0;34m\u001b[0m\u001b[0m\n\u001b[0m\u001b[1;32m   2162\u001b[0m             \u001b[0mdropped\u001b[0m \u001b[0;34m=\u001b[0m \u001b[0mself\u001b[0m\u001b[0;34m.\u001b[0m\u001b[0mreindex\u001b[0m\u001b[0;34m(\u001b[0m\u001b[0;34m**\u001b[0m\u001b[0;34m{\u001b[0m\u001b[0maxis_name\u001b[0m\u001b[0;34m:\u001b[0m \u001b[0mnew_axis\u001b[0m\u001b[0;34m}\u001b[0m\u001b[0;34m)\u001b[0m\u001b[0;34m\u001b[0m\u001b[0m\n\u001b[1;32m   2163\u001b[0m             \u001b[0;32mtry\u001b[0m\u001b[0;34m:\u001b[0m\u001b[0;34m\u001b[0m\u001b[0m\n",
      "\u001b[0;32m/Users/carrie/anaconda/envs/mlbook/lib/python3.5/site-packages/pandas/core/indexes/base.py\u001b[0m in \u001b[0;36mdrop\u001b[0;34m(self, labels, errors)\u001b[0m\n\u001b[1;32m   3622\u001b[0m             \u001b[0;32mif\u001b[0m \u001b[0merrors\u001b[0m \u001b[0;34m!=\u001b[0m \u001b[0;34m'ignore'\u001b[0m\u001b[0;34m:\u001b[0m\u001b[0;34m\u001b[0m\u001b[0m\n\u001b[1;32m   3623\u001b[0m                 raise ValueError('labels %s not contained in axis' %\n\u001b[0;32m-> 3624\u001b[0;31m                                  labels[mask])\n\u001b[0m\u001b[1;32m   3625\u001b[0m             \u001b[0mindexer\u001b[0m \u001b[0;34m=\u001b[0m \u001b[0mindexer\u001b[0m\u001b[0;34m[\u001b[0m\u001b[0;34m~\u001b[0m\u001b[0mmask\u001b[0m\u001b[0;34m]\u001b[0m\u001b[0;34m\u001b[0m\u001b[0m\n\u001b[1;32m   3626\u001b[0m         \u001b[0;32mreturn\u001b[0m \u001b[0mself\u001b[0m\u001b[0;34m.\u001b[0m\u001b[0mdelete\u001b[0m\u001b[0;34m(\u001b[0m\u001b[0mindexer\u001b[0m\u001b[0;34m)\u001b[0m\u001b[0;34m\u001b[0m\u001b[0m\n",
      "\u001b[0;31mValueError\u001b[0m: labels ['ts'] not contained in axis"
     ]
    }
   ],
   "source": [
    "conndf.drop('ts', axis=1, inplace=True)\n",
    "conndf.drop('local_orig', axis=1, inplace=True)\n",
    "conndf.info()"
   ]
  },
  {
   "cell_type": "markdown",
   "metadata": {},
   "source": [
    "### dns.log"
   ]
  },
  {
   "cell_type": "code",
   "execution_count": 15,
   "metadata": {},
   "outputs": [
    {
     "data": {
      "text/html": [
       "<div>\n",
       "<style>\n",
       "    .dataframe thead tr:only-child th {\n",
       "        text-align: right;\n",
       "    }\n",
       "\n",
       "    .dataframe thead th {\n",
       "        text-align: left;\n",
       "    }\n",
       "\n",
       "    .dataframe tbody tr th {\n",
       "        vertical-align: top;\n",
       "    }\n",
       "</style>\n",
       "<table border=\"1\" class=\"dataframe\">\n",
       "  <thead>\n",
       "    <tr style=\"text-align: right;\">\n",
       "      <th></th>\n",
       "      <th>AA</th>\n",
       "      <th>RA</th>\n",
       "      <th>RD</th>\n",
       "      <th>TC</th>\n",
       "      <th>TTLs</th>\n",
       "      <th>Z</th>\n",
       "      <th>answers</th>\n",
       "      <th>id.orig_h</th>\n",
       "      <th>id.orig_p</th>\n",
       "      <th>id.resp_h</th>\n",
       "      <th>...</th>\n",
       "      <th>qtype</th>\n",
       "      <th>qtype_name</th>\n",
       "      <th>query</th>\n",
       "      <th>rcode</th>\n",
       "      <th>rcode_name</th>\n",
       "      <th>rejected</th>\n",
       "      <th>sample</th>\n",
       "      <th>threat</th>\n",
       "      <th>trans_id</th>\n",
       "      <th>uid</th>\n",
       "    </tr>\n",
       "  </thead>\n",
       "  <tbody>\n",
       "    <tr>\n",
       "      <th>2013-02-03 17:22:44.875379</th>\n",
       "      <td>F</td>\n",
       "      <td>T</td>\n",
       "      <td>T</td>\n",
       "      <td>F</td>\n",
       "      <td>700</td>\n",
       "      <td>0.0</td>\n",
       "      <td>192.200.99.194</td>\n",
       "      <td>172.16.253.129</td>\n",
       "      <td>53.0</td>\n",
       "      <td>4.2.2.2</td>\n",
       "      <td>...</td>\n",
       "      <td>1</td>\n",
       "      <td>A</td>\n",
       "      <td>sa.foundcloudsearch.com</td>\n",
       "      <td>0</td>\n",
       "      <td>NOERROR</td>\n",
       "      <td>F</td>\n",
       "      <td>BIN_8202_6d2c12085f0018daeb9c1a53e53fd4d1</td>\n",
       "      <td>APT</td>\n",
       "      <td>27825.0</td>\n",
       "      <td>CEAjpT2procZiZLkpl</td>\n",
       "    </tr>\n",
       "    <tr>\n",
       "      <th>2013-02-03 17:22:44.875318</th>\n",
       "      <td>F</td>\n",
       "      <td>T</td>\n",
       "      <td>T</td>\n",
       "      <td>F</td>\n",
       "      <td>2502</td>\n",
       "      <td>0.0</td>\n",
       "      <td>192.200.99.194</td>\n",
       "      <td>172.16.253.129</td>\n",
       "      <td>53.0</td>\n",
       "      <td>8.8.8.8</td>\n",
       "      <td>...</td>\n",
       "      <td>1</td>\n",
       "      <td>A</td>\n",
       "      <td>sa.foundcloudsearch.com</td>\n",
       "      <td>0</td>\n",
       "      <td>NOERROR</td>\n",
       "      <td>F</td>\n",
       "      <td>BIN_8202_6d2c12085f0018daeb9c1a53e53fd4d1</td>\n",
       "      <td>APT</td>\n",
       "      <td>27825.0</td>\n",
       "      <td>CgldPv2fme1uRfxBG4</td>\n",
       "    </tr>\n",
       "    <tr>\n",
       "      <th>2013-01-05 22:45:24.874503</th>\n",
       "      <td>F</td>\n",
       "      <td>F</td>\n",
       "      <td>F</td>\n",
       "      <td>F</td>\n",
       "      <td>-</td>\n",
       "      <td>0.0</td>\n",
       "      <td>-</td>\n",
       "      <td>172.16.253.129</td>\n",
       "      <td>1143.0</td>\n",
       "      <td>199.36.76.113</td>\n",
       "      <td>...</td>\n",
       "      <td>-</td>\n",
       "      <td>-</td>\n",
       "      <td>-</td>\n",
       "      <td>0</td>\n",
       "      <td>NOERROR</td>\n",
       "      <td>F</td>\n",
       "      <td>BIN_9002_D4ED654BCDA42576FDDFE03361608CAA_2013...</td>\n",
       "      <td>APT</td>\n",
       "      <td>0.0</td>\n",
       "      <td>CbH3Rf1eTZNnvfSek7</td>\n",
       "    </tr>\n",
       "    <tr>\n",
       "      <th>2013-01-05 22:45:44.391876</th>\n",
       "      <td>F</td>\n",
       "      <td>F</td>\n",
       "      <td>F</td>\n",
       "      <td>F</td>\n",
       "      <td>-</td>\n",
       "      <td>0.0</td>\n",
       "      <td>-</td>\n",
       "      <td>172.16.253.129</td>\n",
       "      <td>1143.0</td>\n",
       "      <td>199.36.76.113</td>\n",
       "      <td>...</td>\n",
       "      <td>-</td>\n",
       "      <td>-</td>\n",
       "      <td>-</td>\n",
       "      <td>-</td>\n",
       "      <td>-</td>\n",
       "      <td>T</td>\n",
       "      <td>BIN_9002_D4ED654BCDA42576FDDFE03361608CAA_2013...</td>\n",
       "      <td>APT</td>\n",
       "      <td>0.0</td>\n",
       "      <td>CbH3Rf1eTZNnvfSek7</td>\n",
       "    </tr>\n",
       "    <tr>\n",
       "      <th>2013-01-05 22:47:24.922913</th>\n",
       "      <td>F</td>\n",
       "      <td>F</td>\n",
       "      <td>F</td>\n",
       "      <td>F</td>\n",
       "      <td>-</td>\n",
       "      <td>0.0</td>\n",
       "      <td>-</td>\n",
       "      <td>172.16.253.129</td>\n",
       "      <td>1143.0</td>\n",
       "      <td>199.36.76.113</td>\n",
       "      <td>...</td>\n",
       "      <td>-</td>\n",
       "      <td>-</td>\n",
       "      <td>-</td>\n",
       "      <td>-</td>\n",
       "      <td>-</td>\n",
       "      <td>F</td>\n",
       "      <td>BIN_9002_D4ED654BCDA42576FDDFE03361608CAA_2013...</td>\n",
       "      <td>APT</td>\n",
       "      <td>0.0</td>\n",
       "      <td>CbH3Rf1eTZNnvfSek7</td>\n",
       "    </tr>\n",
       "  </tbody>\n",
       "</table>\n",
       "<p>5 rows × 24 columns</p>\n",
       "</div>"
      ],
      "text/plain": [
       "                           AA RA RD TC  TTLs    Z         answers  \\\n",
       "2013-02-03 17:22:44.875379  F  T  T  F   700  0.0  192.200.99.194   \n",
       "2013-02-03 17:22:44.875318  F  T  T  F  2502  0.0  192.200.99.194   \n",
       "2013-01-05 22:45:24.874503  F  F  F  F     -  0.0               -   \n",
       "2013-01-05 22:45:44.391876  F  F  F  F     -  0.0               -   \n",
       "2013-01-05 22:47:24.922913  F  F  F  F     -  0.0               -   \n",
       "\n",
       "                                 id.orig_h  id.orig_p      id.resp_h  \\\n",
       "2013-02-03 17:22:44.875379  172.16.253.129       53.0        4.2.2.2   \n",
       "2013-02-03 17:22:44.875318  172.16.253.129       53.0        8.8.8.8   \n",
       "2013-01-05 22:45:24.874503  172.16.253.129     1143.0  199.36.76.113   \n",
       "2013-01-05 22:45:44.391876  172.16.253.129     1143.0  199.36.76.113   \n",
       "2013-01-05 22:47:24.922913  172.16.253.129     1143.0  199.36.76.113   \n",
       "\n",
       "                                   ...          qtype qtype_name  \\\n",
       "2013-02-03 17:22:44.875379         ...              1          A   \n",
       "2013-02-03 17:22:44.875318         ...              1          A   \n",
       "2013-01-05 22:45:24.874503         ...              -          -   \n",
       "2013-01-05 22:45:44.391876         ...              -          -   \n",
       "2013-01-05 22:47:24.922913         ...              -          -   \n",
       "\n",
       "                                              query rcode rcode_name rejected  \\\n",
       "2013-02-03 17:22:44.875379  sa.foundcloudsearch.com     0    NOERROR        F   \n",
       "2013-02-03 17:22:44.875318  sa.foundcloudsearch.com     0    NOERROR        F   \n",
       "2013-01-05 22:45:24.874503                        -     0    NOERROR        F   \n",
       "2013-01-05 22:45:44.391876                        -     -          -        T   \n",
       "2013-01-05 22:47:24.922913                        -     -          -        F   \n",
       "\n",
       "                                                                       sample  \\\n",
       "2013-02-03 17:22:44.875379          BIN_8202_6d2c12085f0018daeb9c1a53e53fd4d1   \n",
       "2013-02-03 17:22:44.875318          BIN_8202_6d2c12085f0018daeb9c1a53e53fd4d1   \n",
       "2013-01-05 22:45:24.874503  BIN_9002_D4ED654BCDA42576FDDFE03361608CAA_2013...   \n",
       "2013-01-05 22:45:44.391876  BIN_9002_D4ED654BCDA42576FDDFE03361608CAA_2013...   \n",
       "2013-01-05 22:47:24.922913  BIN_9002_D4ED654BCDA42576FDDFE03361608CAA_2013...   \n",
       "\n",
       "                           threat trans_id                 uid  \n",
       "2013-02-03 17:22:44.875379    APT  27825.0  CEAjpT2procZiZLkpl  \n",
       "2013-02-03 17:22:44.875318    APT  27825.0  CgldPv2fme1uRfxBG4  \n",
       "2013-01-05 22:45:24.874503    APT      0.0  CbH3Rf1eTZNnvfSek7  \n",
       "2013-01-05 22:45:44.391876    APT      0.0  CbH3Rf1eTZNnvfSek7  \n",
       "2013-01-05 22:47:24.922913    APT      0.0  CbH3Rf1eTZNnvfSek7  \n",
       "\n",
       "[5 rows x 24 columns]"
      ]
     },
     "execution_count": 15,
     "metadata": {},
     "output_type": "execute_result"
    }
   ],
   "source": [
    "dnsdf.head()"
   ]
  },
  {
   "cell_type": "code",
   "execution_count": 137,
   "metadata": {},
   "outputs": [
    {
     "name": "stdout",
     "output_type": "stream",
     "text": [
      "<class 'pandas.core.frame.DataFrame'>\n",
      "DatetimeIndex: 35101 entries, 2010-02-13 09:23:18.490261 to 2013-09-25 22:37:25.795640\n",
      "Data columns (total 25 columns):\n",
      "AA             35101 non-null object\n",
      "RA             35101 non-null object\n",
      "RD             35101 non-null object\n",
      "TC             35101 non-null object\n",
      "TTLs           35101 non-null object\n",
      "Z              35101 non-null float64\n",
      "answers        35101 non-null object\n",
      "id.orig_h      35101 non-null object\n",
      "id.orig_p      35101 non-null float64\n",
      "id.resp_h      35101 non-null object\n",
      "id.resp_p      35101 non-null float64\n",
      "proto          35101 non-null object\n",
      "qclass         35101 non-null object\n",
      "qclass_name    35101 non-null object\n",
      "qtype          35101 non-null object\n",
      "qtype_name     35101 non-null object\n",
      "query          35101 non-null object\n",
      "rcode          35101 non-null object\n",
      "rcode_name     35101 non-null object\n",
      "rejected       35101 non-null object\n",
      "sample         35101 non-null object\n",
      "threat         35101 non-null object\n",
      "trans_id       35101 non-null float64\n",
      "ts             0 non-null object\n",
      "uid            35101 non-null object\n",
      "dtypes: float64(4), object(21)\n",
      "memory usage: 7.0+ MB\n"
     ]
    }
   ],
   "source": [
    "dnsdf.info()"
   ]
  },
  {
   "cell_type": "code",
   "execution_count": 138,
   "metadata": {},
   "outputs": [
    {
     "data": {
      "text/html": [
       "<div>\n",
       "<style>\n",
       "    .dataframe thead tr:only-child th {\n",
       "        text-align: right;\n",
       "    }\n",
       "\n",
       "    .dataframe thead th {\n",
       "        text-align: left;\n",
       "    }\n",
       "\n",
       "    .dataframe tbody tr th {\n",
       "        vertical-align: top;\n",
       "    }\n",
       "</style>\n",
       "<table border=\"1\" class=\"dataframe\">\n",
       "  <thead>\n",
       "    <tr style=\"text-align: right;\">\n",
       "      <th></th>\n",
       "      <th>AA</th>\n",
       "      <th>RA</th>\n",
       "      <th>RD</th>\n",
       "      <th>TC</th>\n",
       "      <th>TTLs</th>\n",
       "      <th>answers</th>\n",
       "      <th>id.orig_h</th>\n",
       "      <th>id.resp_h</th>\n",
       "      <th>proto</th>\n",
       "      <th>qclass</th>\n",
       "      <th>...</th>\n",
       "      <th>qtype</th>\n",
       "      <th>qtype_name</th>\n",
       "      <th>query</th>\n",
       "      <th>rcode</th>\n",
       "      <th>rcode_name</th>\n",
       "      <th>rejected</th>\n",
       "      <th>sample</th>\n",
       "      <th>threat</th>\n",
       "      <th>ts</th>\n",
       "      <th>uid</th>\n",
       "    </tr>\n",
       "  </thead>\n",
       "  <tbody>\n",
       "    <tr>\n",
       "      <th>count</th>\n",
       "      <td>35101</td>\n",
       "      <td>35101</td>\n",
       "      <td>35101</td>\n",
       "      <td>35101</td>\n",
       "      <td>35101</td>\n",
       "      <td>35101</td>\n",
       "      <td>35101</td>\n",
       "      <td>35101</td>\n",
       "      <td>35101</td>\n",
       "      <td>35101</td>\n",
       "      <td>...</td>\n",
       "      <td>35101</td>\n",
       "      <td>35101</td>\n",
       "      <td>35101</td>\n",
       "      <td>35101</td>\n",
       "      <td>35101</td>\n",
       "      <td>35101</td>\n",
       "      <td>35101</td>\n",
       "      <td>35101</td>\n",
       "      <td>0.0</td>\n",
       "      <td>35101</td>\n",
       "    </tr>\n",
       "    <tr>\n",
       "      <th>unique</th>\n",
       "      <td>2</td>\n",
       "      <td>2</td>\n",
       "      <td>2</td>\n",
       "      <td>1</td>\n",
       "      <td>3937</td>\n",
       "      <td>3164</td>\n",
       "      <td>42</td>\n",
       "      <td>50</td>\n",
       "      <td>2</td>\n",
       "      <td>3</td>\n",
       "      <td>...</td>\n",
       "      <td>13</td>\n",
       "      <td>9</td>\n",
       "      <td>3195</td>\n",
       "      <td>10</td>\n",
       "      <td>7</td>\n",
       "      <td>2</td>\n",
       "      <td>82</td>\n",
       "      <td>2</td>\n",
       "      <td>0.0</td>\n",
       "      <td>4803</td>\n",
       "    </tr>\n",
       "    <tr>\n",
       "      <th>top</th>\n",
       "      <td>F</td>\n",
       "      <td>F</td>\n",
       "      <td>T</td>\n",
       "      <td>F</td>\n",
       "      <td>-</td>\n",
       "      <td>-</td>\n",
       "      <td>192.168.248.165</td>\n",
       "      <td>10.0.2.255</td>\n",
       "      <td>udp</td>\n",
       "      <td>1</td>\n",
       "      <td>...</td>\n",
       "      <td>32</td>\n",
       "      <td>NB</td>\n",
       "      <td>NOLOGO1093.COM</td>\n",
       "      <td>-</td>\n",
       "      <td>-</td>\n",
       "      <td>F</td>\n",
       "      <td>BIN_CitadelPacked_2012-05</td>\n",
       "      <td>CRIME</td>\n",
       "      <td>NaN</td>\n",
       "      <td>CEAizT2ntuLyinqtPa</td>\n",
       "    </tr>\n",
       "    <tr>\n",
       "      <th>freq</th>\n",
       "      <td>35098</td>\n",
       "      <td>27552</td>\n",
       "      <td>32444</td>\n",
       "      <td>35101</td>\n",
       "      <td>27706</td>\n",
       "      <td>27706</td>\n",
       "      <td>13673</td>\n",
       "      <td>13013</td>\n",
       "      <td>34714</td>\n",
       "      <td>26103</td>\n",
       "      <td>...</td>\n",
       "      <td>13875</td>\n",
       "      <td>15167</td>\n",
       "      <td>6544</td>\n",
       "      <td>22183</td>\n",
       "      <td>22183</td>\n",
       "      <td>34395</td>\n",
       "      <td>13395</td>\n",
       "      <td>33893</td>\n",
       "      <td>NaN</td>\n",
       "      <td>3415</td>\n",
       "    </tr>\n",
       "  </tbody>\n",
       "</table>\n",
       "<p>4 rows × 21 columns</p>\n",
       "</div>"
      ],
      "text/plain": [
       "           AA     RA     RD     TC   TTLs answers        id.orig_h  \\\n",
       "count   35101  35101  35101  35101  35101   35101            35101   \n",
       "unique      2      2      2      1   3937    3164               42   \n",
       "top         F      F      T      F      -       -  192.168.248.165   \n",
       "freq    35098  27552  32444  35101  27706   27706            13673   \n",
       "\n",
       "         id.resp_h  proto qclass         ...          qtype qtype_name  \\\n",
       "count        35101  35101  35101         ...          35101      35101   \n",
       "unique          50      2      3         ...             13          9   \n",
       "top     10.0.2.255    udp      1         ...             32         NB   \n",
       "freq         13013  34714  26103         ...          13875      15167   \n",
       "\n",
       "                 query  rcode rcode_name rejected                     sample  \\\n",
       "count            35101  35101      35101    35101                      35101   \n",
       "unique            3195     10          7        2                         82   \n",
       "top     NOLOGO1093.COM      -          -        F  BIN_CitadelPacked_2012-05   \n",
       "freq              6544  22183      22183    34395                      13395   \n",
       "\n",
       "       threat   ts                 uid  \n",
       "count   35101  0.0               35101  \n",
       "unique      2  0.0                4803  \n",
       "top     CRIME  NaN  CEAizT2ntuLyinqtPa  \n",
       "freq    33893  NaN                3415  \n",
       "\n",
       "[4 rows x 21 columns]"
      ]
     },
     "execution_count": 138,
     "metadata": {},
     "output_type": "execute_result"
    }
   ],
   "source": [
    "# Get categorical, object-type variables\n",
    "dnsdf.select_dtypes(include=['object']).describe()"
   ]
  },
  {
   "cell_type": "code",
   "execution_count": 139,
   "metadata": {},
   "outputs": [
    {
     "data": {
      "text/plain": [
       "F    34395\n",
       "T      706\n",
       "Name: rejected, dtype: int64"
      ]
     },
     "execution_count": 139,
     "metadata": {},
     "output_type": "execute_result"
    }
   ],
   "source": [
    "dnsdf.rejected.value_counts()"
   ]
  },
  {
   "cell_type": "code",
   "execution_count": 140,
   "metadata": {},
   "outputs": [
    {
     "data": {
      "text/plain": [
       "C_INTERNET    34563\n",
       "-               538\n",
       "Name: qclass_name, dtype: int64"
      ]
     },
     "execution_count": 140,
     "metadata": {},
     "output_type": "execute_result"
    }
   ],
   "source": [
    "dnsdf.qclass_name.value_counts()"
   ]
  },
  {
   "cell_type": "code",
   "execution_count": 141,
   "metadata": {},
   "outputs": [
    {
     "data": {
      "text/plain": [
       "F    35101\n",
       "Name: TC, dtype: int64"
      ]
     },
     "execution_count": 141,
     "metadata": {},
     "output_type": "execute_result"
    }
   ],
   "source": [
    "dnsdf.TC.value_counts()"
   ]
  },
  {
   "cell_type": "code",
   "execution_count": 142,
   "metadata": {},
   "outputs": [
    {
     "data": {
      "text/html": [
       "<div>\n",
       "<style>\n",
       "    .dataframe thead tr:only-child th {\n",
       "        text-align: right;\n",
       "    }\n",
       "\n",
       "    .dataframe thead th {\n",
       "        text-align: left;\n",
       "    }\n",
       "\n",
       "    .dataframe tbody tr th {\n",
       "        vertical-align: top;\n",
       "    }\n",
       "</style>\n",
       "<table border=\"1\" class=\"dataframe\">\n",
       "  <thead>\n",
       "    <tr style=\"text-align: right;\">\n",
       "      <th></th>\n",
       "      <th>Z</th>\n",
       "      <th>id.orig_p</th>\n",
       "      <th>id.resp_p</th>\n",
       "      <th>trans_id</th>\n",
       "    </tr>\n",
       "  </thead>\n",
       "  <tbody>\n",
       "    <tr>\n",
       "      <th>count</th>\n",
       "      <td>35101.000000</td>\n",
       "      <td>35101.000000</td>\n",
       "      <td>35101.000000</td>\n",
       "      <td>35101.000000</td>\n",
       "    </tr>\n",
       "    <tr>\n",
       "      <th>mean</th>\n",
       "      <td>0.396257</td>\n",
       "      <td>1486.173984</td>\n",
       "      <td>121.646705</td>\n",
       "      <td>32466.772314</td>\n",
       "    </tr>\n",
       "    <tr>\n",
       "      <th>std</th>\n",
       "      <td>0.489126</td>\n",
       "      <td>8516.369410</td>\n",
       "      <td>411.977287</td>\n",
       "      <td>13436.185471</td>\n",
       "    </tr>\n",
       "    <tr>\n",
       "      <th>min</th>\n",
       "      <td>0.000000</td>\n",
       "      <td>53.000000</td>\n",
       "      <td>53.000000</td>\n",
       "      <td>0.000000</td>\n",
       "    </tr>\n",
       "    <tr>\n",
       "      <th>25%</th>\n",
       "      <td>0.000000</td>\n",
       "      <td>53.000000</td>\n",
       "      <td>53.000000</td>\n",
       "      <td>27352.000000</td>\n",
       "    </tr>\n",
       "    <tr>\n",
       "      <th>50%</th>\n",
       "      <td>0.000000</td>\n",
       "      <td>137.000000</td>\n",
       "      <td>53.000000</td>\n",
       "      <td>33968.000000</td>\n",
       "    </tr>\n",
       "    <tr>\n",
       "      <th>75%</th>\n",
       "      <td>1.000000</td>\n",
       "      <td>137.000000</td>\n",
       "      <td>137.000000</td>\n",
       "      <td>36884.000000</td>\n",
       "    </tr>\n",
       "    <tr>\n",
       "      <th>max</th>\n",
       "      <td>1.000000</td>\n",
       "      <td>65529.000000</td>\n",
       "      <td>5355.000000</td>\n",
       "      <td>65534.000000</td>\n",
       "    </tr>\n",
       "  </tbody>\n",
       "</table>\n",
       "</div>"
      ],
      "text/plain": [
       "                  Z     id.orig_p     id.resp_p      trans_id\n",
       "count  35101.000000  35101.000000  35101.000000  35101.000000\n",
       "mean       0.396257   1486.173984    121.646705  32466.772314\n",
       "std        0.489126   8516.369410    411.977287  13436.185471\n",
       "min        0.000000     53.000000     53.000000      0.000000\n",
       "25%        0.000000     53.000000     53.000000  27352.000000\n",
       "50%        0.000000    137.000000     53.000000  33968.000000\n",
       "75%        1.000000    137.000000    137.000000  36884.000000\n",
       "max        1.000000  65529.000000   5355.000000  65534.000000"
      ]
     },
     "execution_count": 142,
     "metadata": {},
     "output_type": "execute_result"
    }
   ],
   "source": [
    "# Get categorical, object-type variables\n",
    "dnsdf.select_dtypes(exclude=['object']).describe()"
   ]
  },
  {
   "cell_type": "code",
   "execution_count": 143,
   "metadata": {},
   "outputs": [
    {
     "data": {
      "text/plain": [
       "0.0    21192\n",
       "1.0    13909\n",
       "Name: Z, dtype: int64"
      ]
     },
     "execution_count": 143,
     "metadata": {},
     "output_type": "execute_result"
    }
   ],
   "source": [
    "dnsdf.Z.value_counts()"
   ]
  },
  {
   "cell_type": "markdown",
   "metadata": {},
   "source": [
    "dnsdf TODOs:\n",
    "    - drop 'ts' column\n",
    "    - drop 'tc' column, 1 unique"
   ]
  },
  {
   "cell_type": "code",
   "execution_count": 145,
   "metadata": {},
   "outputs": [
    {
     "ename": "ValueError",
     "evalue": "labels ['ts'] not contained in axis",
     "output_type": "error",
     "traceback": [
      "\u001b[0;31m-------------\u001b[0m",
      "\u001b[0;31mValueError\u001b[0mTraceback (most recent call last)",
      "\u001b[0;32m<ipython-input-145-d2c7e3d6b3ef>\u001b[0m in \u001b[0;36m<module>\u001b[0;34m()\u001b[0m\n\u001b[0;32m----> 1\u001b[0;31m \u001b[0mdnsdf\u001b[0m\u001b[0;34m.\u001b[0m\u001b[0mdrop\u001b[0m\u001b[0;34m(\u001b[0m\u001b[0;34m'ts'\u001b[0m\u001b[0;34m,\u001b[0m \u001b[0maxis\u001b[0m\u001b[0;34m=\u001b[0m\u001b[0;36m1\u001b[0m\u001b[0;34m,\u001b[0m \u001b[0minplace\u001b[0m\u001b[0;34m=\u001b[0m\u001b[0;32mTrue\u001b[0m\u001b[0;34m)\u001b[0m\u001b[0;34m\u001b[0m\u001b[0m\n\u001b[0m\u001b[1;32m      2\u001b[0m \u001b[0mdnsdf\u001b[0m\u001b[0;34m.\u001b[0m\u001b[0mdrop\u001b[0m\u001b[0;34m(\u001b[0m\u001b[0;34m'TC'\u001b[0m\u001b[0;34m,\u001b[0m \u001b[0maxis\u001b[0m\u001b[0;34m=\u001b[0m\u001b[0;36m1\u001b[0m\u001b[0;34m,\u001b[0m \u001b[0minplace\u001b[0m\u001b[0;34m=\u001b[0m\u001b[0;32mTrue\u001b[0m\u001b[0;34m)\u001b[0m\u001b[0;34m\u001b[0m\u001b[0m\n\u001b[1;32m      3\u001b[0m \u001b[0mdnsdf\u001b[0m\u001b[0;34m.\u001b[0m\u001b[0mhead\u001b[0m\u001b[0;34m(\u001b[0m\u001b[0;34m)\u001b[0m\u001b[0;34m\u001b[0m\u001b[0m\n",
      "\u001b[0;32m/Users/carrie/anaconda/envs/mlbook/lib/python3.5/site-packages/pandas/core/generic.py\u001b[0m in \u001b[0;36mdrop\u001b[0;34m(self, labels, axis, level, inplace, errors)\u001b[0m\n\u001b[1;32m   2159\u001b[0m                 \u001b[0mnew_axis\u001b[0m \u001b[0;34m=\u001b[0m \u001b[0maxis\u001b[0m\u001b[0;34m.\u001b[0m\u001b[0mdrop\u001b[0m\u001b[0;34m(\u001b[0m\u001b[0mlabels\u001b[0m\u001b[0;34m,\u001b[0m \u001b[0mlevel\u001b[0m\u001b[0;34m=\u001b[0m\u001b[0mlevel\u001b[0m\u001b[0;34m,\u001b[0m \u001b[0merrors\u001b[0m\u001b[0;34m=\u001b[0m\u001b[0merrors\u001b[0m\u001b[0;34m)\u001b[0m\u001b[0;34m\u001b[0m\u001b[0m\n\u001b[1;32m   2160\u001b[0m             \u001b[0;32melse\u001b[0m\u001b[0;34m:\u001b[0m\u001b[0;34m\u001b[0m\u001b[0m\n\u001b[0;32m-> 2161\u001b[0;31m                 \u001b[0mnew_axis\u001b[0m \u001b[0;34m=\u001b[0m \u001b[0maxis\u001b[0m\u001b[0;34m.\u001b[0m\u001b[0mdrop\u001b[0m\u001b[0;34m(\u001b[0m\u001b[0mlabels\u001b[0m\u001b[0;34m,\u001b[0m \u001b[0merrors\u001b[0m\u001b[0;34m=\u001b[0m\u001b[0merrors\u001b[0m\u001b[0;34m)\u001b[0m\u001b[0;34m\u001b[0m\u001b[0m\n\u001b[0m\u001b[1;32m   2162\u001b[0m             \u001b[0mdropped\u001b[0m \u001b[0;34m=\u001b[0m \u001b[0mself\u001b[0m\u001b[0;34m.\u001b[0m\u001b[0mreindex\u001b[0m\u001b[0;34m(\u001b[0m\u001b[0;34m**\u001b[0m\u001b[0;34m{\u001b[0m\u001b[0maxis_name\u001b[0m\u001b[0;34m:\u001b[0m \u001b[0mnew_axis\u001b[0m\u001b[0;34m}\u001b[0m\u001b[0;34m)\u001b[0m\u001b[0;34m\u001b[0m\u001b[0m\n\u001b[1;32m   2163\u001b[0m             \u001b[0;32mtry\u001b[0m\u001b[0;34m:\u001b[0m\u001b[0;34m\u001b[0m\u001b[0m\n",
      "\u001b[0;32m/Users/carrie/anaconda/envs/mlbook/lib/python3.5/site-packages/pandas/core/indexes/base.py\u001b[0m in \u001b[0;36mdrop\u001b[0;34m(self, labels, errors)\u001b[0m\n\u001b[1;32m   3622\u001b[0m             \u001b[0;32mif\u001b[0m \u001b[0merrors\u001b[0m \u001b[0;34m!=\u001b[0m \u001b[0;34m'ignore'\u001b[0m\u001b[0;34m:\u001b[0m\u001b[0;34m\u001b[0m\u001b[0m\n\u001b[1;32m   3623\u001b[0m                 raise ValueError('labels %s not contained in axis' %\n\u001b[0;32m-> 3624\u001b[0;31m                                  labels[mask])\n\u001b[0m\u001b[1;32m   3625\u001b[0m             \u001b[0mindexer\u001b[0m \u001b[0;34m=\u001b[0m \u001b[0mindexer\u001b[0m\u001b[0;34m[\u001b[0m\u001b[0;34m~\u001b[0m\u001b[0mmask\u001b[0m\u001b[0;34m]\u001b[0m\u001b[0;34m\u001b[0m\u001b[0m\n\u001b[1;32m   3626\u001b[0m         \u001b[0;32mreturn\u001b[0m \u001b[0mself\u001b[0m\u001b[0;34m.\u001b[0m\u001b[0mdelete\u001b[0m\u001b[0;34m(\u001b[0m\u001b[0mindexer\u001b[0m\u001b[0;34m)\u001b[0m\u001b[0;34m\u001b[0m\u001b[0m\n",
      "\u001b[0;31mValueError\u001b[0m: labels ['ts'] not contained in axis"
     ]
    }
   ],
   "source": [
    "dnsdf.drop('ts', axis=1, inplace=True)\n",
    "dnsdf.drop('TC', axis=1, inplace=True)\n",
    "dnsdf.head()"
   ]
  },
  {
   "cell_type": "markdown",
   "metadata": {},
   "source": [
    "### file.log"
   ]
  },
  {
   "cell_type": "code",
   "execution_count": 16,
   "metadata": {},
   "outputs": [
    {
     "data": {
      "text/html": [
       "<div>\n",
       "<style>\n",
       "    .dataframe thead tr:only-child th {\n",
       "        text-align: right;\n",
       "    }\n",
       "\n",
       "    .dataframe thead th {\n",
       "        text-align: left;\n",
       "    }\n",
       "\n",
       "    .dataframe tbody tr th {\n",
       "        vertical-align: top;\n",
       "    }\n",
       "</style>\n",
       "<table border=\"1\" class=\"dataframe\">\n",
       "  <thead>\n",
       "    <tr style=\"text-align: right;\">\n",
       "      <th></th>\n",
       "      <th>analyzers</th>\n",
       "      <th>conn_uids</th>\n",
       "      <th>depth</th>\n",
       "      <th>duration</th>\n",
       "      <th>extracted</th>\n",
       "      <th>filename</th>\n",
       "      <th>fuid</th>\n",
       "      <th>is_orig</th>\n",
       "      <th>local_orig</th>\n",
       "      <th>md5</th>\n",
       "      <th>...</th>\n",
       "      <th>rx_hosts</th>\n",
       "      <th>sample</th>\n",
       "      <th>seen_bytes</th>\n",
       "      <th>sha1</th>\n",
       "      <th>sha256</th>\n",
       "      <th>source</th>\n",
       "      <th>threat</th>\n",
       "      <th>timedout</th>\n",
       "      <th>total_bytes</th>\n",
       "      <th>tx_hosts</th>\n",
       "    </tr>\n",
       "  </thead>\n",
       "  <tbody>\n",
       "    <tr>\n",
       "      <th>2012-10-07 10:45:05.260590</th>\n",
       "      <td>MD5,SHA1</td>\n",
       "      <td>ClpERK2U3EJh2Sp7zj</td>\n",
       "      <td>0.0</td>\n",
       "      <td>0.000000</td>\n",
       "      <td>-</td>\n",
       "      <td>-</td>\n",
       "      <td>FF3ky62ppNbz5xz0Z2</td>\n",
       "      <td>F</td>\n",
       "      <td>-</td>\n",
       "      <td>4dec45889e09ec3ceb63fd65825d0f11</td>\n",
       "      <td>...</td>\n",
       "      <td>172.16.253.130</td>\n",
       "      <td>BIN_DNSWatch_protux_4F8A44EF66384CCFAB737C8D7A...</td>\n",
       "      <td>564.0</td>\n",
       "      <td>d80eaf048573a410cb6c49ebb859280d04b6113c</td>\n",
       "      <td>-</td>\n",
       "      <td>HTTP</td>\n",
       "      <td>APT</td>\n",
       "      <td>F</td>\n",
       "      <td>564</td>\n",
       "      <td>82.96.118.210</td>\n",
       "    </tr>\n",
       "    <tr>\n",
       "      <th>2011-07-19 19:25:04.678615</th>\n",
       "      <td>SHA1,MD5</td>\n",
       "      <td>CFxQyaLHN8gDJbqQ3</td>\n",
       "      <td>0.0</td>\n",
       "      <td>0.000000</td>\n",
       "      <td>-</td>\n",
       "      <td>-</td>\n",
       "      <td>Fx05J53kcY5j1YUwfc</td>\n",
       "      <td>F</td>\n",
       "      <td>-</td>\n",
       "      <td>7eb1866f3e37ba63e7d9a2762536d0e4</td>\n",
       "      <td>...</td>\n",
       "      <td>172.29.0.116</td>\n",
       "      <td>BIN_LetsGo_yahoosb_b21ba443726385c11802a8ad731...</td>\n",
       "      <td>131.0</td>\n",
       "      <td>413dcf4056b982ffd385a92d265458fc66f1ac5d</td>\n",
       "      <td>-</td>\n",
       "      <td>HTTP</td>\n",
       "      <td>APT</td>\n",
       "      <td>F</td>\n",
       "      <td>131</td>\n",
       "      <td>58.64.232.19</td>\n",
       "    </tr>\n",
       "    <tr>\n",
       "      <th>2011-07-19 19:25:04.974835</th>\n",
       "      <td>SHA1,MD5</td>\n",
       "      <td>CFxQyaLHN8gDJbqQ3</td>\n",
       "      <td>0.0</td>\n",
       "      <td>11.564372</td>\n",
       "      <td>-</td>\n",
       "      <td>-</td>\n",
       "      <td>F5Vnf2F0SEKDwTpKb</td>\n",
       "      <td>F</td>\n",
       "      <td>-</td>\n",
       "      <td>2eca000bd0a628a6905f898343a4a449</td>\n",
       "      <td>...</td>\n",
       "      <td>172.29.0.116</td>\n",
       "      <td>BIN_LetsGo_yahoosb_b21ba443726385c11802a8ad731...</td>\n",
       "      <td>282317.0</td>\n",
       "      <td>49ded6741d9996eb759c5e2b6ab2f6ec2e5faf13</td>\n",
       "      <td>-</td>\n",
       "      <td>HTTP</td>\n",
       "      <td>APT</td>\n",
       "      <td>F</td>\n",
       "      <td>289628</td>\n",
       "      <td>58.64.232.19</td>\n",
       "    </tr>\n",
       "    <tr>\n",
       "      <th>2012-10-07 10:34:52.937534</th>\n",
       "      <td>MD5,SHA1</td>\n",
       "      <td>CUBtNl42Jz57iOSkb5</td>\n",
       "      <td>0.0</td>\n",
       "      <td>0.000000</td>\n",
       "      <td>-</td>\n",
       "      <td>-</td>\n",
       "      <td>F6UVLD2KuRsWDNNgRj</td>\n",
       "      <td>F</td>\n",
       "      <td>-</td>\n",
       "      <td>23d6b92bc7eb100fc1294e6b124b7e75</td>\n",
       "      <td>...</td>\n",
       "      <td>172.16.253.129</td>\n",
       "      <td>BIN_Likseput_E019E37F19040059AB5662563F06B609_...</td>\n",
       "      <td>1635.0</td>\n",
       "      <td>f0649f9495d1f566a3f690002050b87800b4bce2</td>\n",
       "      <td>-</td>\n",
       "      <td>HTTP</td>\n",
       "      <td>APT</td>\n",
       "      <td>F</td>\n",
       "      <td>1635</td>\n",
       "      <td>205.209.161.13</td>\n",
       "    </tr>\n",
       "    <tr>\n",
       "      <th>2012-10-07 17:50:41.483734</th>\n",
       "      <td>SHA1,MD5</td>\n",
       "      <td>CtH2QO2HwW4Zu2gVl1</td>\n",
       "      <td>0.0</td>\n",
       "      <td>0.000000</td>\n",
       "      <td>-</td>\n",
       "      <td>-</td>\n",
       "      <td>FOvQBu21DhExBT6OAh</td>\n",
       "      <td>F</td>\n",
       "      <td>-</td>\n",
       "      <td>2e8ba2d348ff0ae9e930efd1c7218d25</td>\n",
       "      <td>...</td>\n",
       "      <td>172.16.253.240</td>\n",
       "      <td>BIN_Mediana_0AE47E3261EA0A2DBCE471B28DFFE007_2...</td>\n",
       "      <td>522.0</td>\n",
       "      <td>ad5c88987c80091eff1cf7915ef346016dcd644b</td>\n",
       "      <td>-</td>\n",
       "      <td>HTTP</td>\n",
       "      <td>APT</td>\n",
       "      <td>F</td>\n",
       "      <td>522</td>\n",
       "      <td>118.69.36.139</td>\n",
       "    </tr>\n",
       "  </tbody>\n",
       "</table>\n",
       "<p>5 rows × 24 columns</p>\n",
       "</div>"
      ],
      "text/plain": [
       "                           analyzers           conn_uids  depth   duration  \\\n",
       "2012-10-07 10:45:05.260590  MD5,SHA1  ClpERK2U3EJh2Sp7zj    0.0   0.000000   \n",
       "2011-07-19 19:25:04.678615  SHA1,MD5   CFxQyaLHN8gDJbqQ3    0.0   0.000000   \n",
       "2011-07-19 19:25:04.974835  SHA1,MD5   CFxQyaLHN8gDJbqQ3    0.0  11.564372   \n",
       "2012-10-07 10:34:52.937534  MD5,SHA1  CUBtNl42Jz57iOSkb5    0.0   0.000000   \n",
       "2012-10-07 17:50:41.483734  SHA1,MD5  CtH2QO2HwW4Zu2gVl1    0.0   0.000000   \n",
       "\n",
       "                           extracted filename                fuid is_orig  \\\n",
       "2012-10-07 10:45:05.260590         -        -  FF3ky62ppNbz5xz0Z2       F   \n",
       "2011-07-19 19:25:04.678615         -        -  Fx05J53kcY5j1YUwfc       F   \n",
       "2011-07-19 19:25:04.974835         -        -   F5Vnf2F0SEKDwTpKb       F   \n",
       "2012-10-07 10:34:52.937534         -        -  F6UVLD2KuRsWDNNgRj       F   \n",
       "2012-10-07 17:50:41.483734         -        -  FOvQBu21DhExBT6OAh       F   \n",
       "\n",
       "                           local_orig                               md5  \\\n",
       "2012-10-07 10:45:05.260590          -  4dec45889e09ec3ceb63fd65825d0f11   \n",
       "2011-07-19 19:25:04.678615          -  7eb1866f3e37ba63e7d9a2762536d0e4   \n",
       "2011-07-19 19:25:04.974835          -  2eca000bd0a628a6905f898343a4a449   \n",
       "2012-10-07 10:34:52.937534          -  23d6b92bc7eb100fc1294e6b124b7e75   \n",
       "2012-10-07 17:50:41.483734          -  2e8ba2d348ff0ae9e930efd1c7218d25   \n",
       "\n",
       "                                 ...              rx_hosts  \\\n",
       "2012-10-07 10:45:05.260590       ...        172.16.253.130   \n",
       "2011-07-19 19:25:04.678615       ...          172.29.0.116   \n",
       "2011-07-19 19:25:04.974835       ...          172.29.0.116   \n",
       "2012-10-07 10:34:52.937534       ...        172.16.253.129   \n",
       "2012-10-07 17:50:41.483734       ...        172.16.253.240   \n",
       "\n",
       "                                                                       sample  \\\n",
       "2012-10-07 10:45:05.260590  BIN_DNSWatch_protux_4F8A44EF66384CCFAB737C8D7A...   \n",
       "2011-07-19 19:25:04.678615  BIN_LetsGo_yahoosb_b21ba443726385c11802a8ad731...   \n",
       "2011-07-19 19:25:04.974835  BIN_LetsGo_yahoosb_b21ba443726385c11802a8ad731...   \n",
       "2012-10-07 10:34:52.937534  BIN_Likseput_E019E37F19040059AB5662563F06B609_...   \n",
       "2012-10-07 17:50:41.483734  BIN_Mediana_0AE47E3261EA0A2DBCE471B28DFFE007_2...   \n",
       "\n",
       "                            seen_bytes  \\\n",
       "2012-10-07 10:45:05.260590       564.0   \n",
       "2011-07-19 19:25:04.678615       131.0   \n",
       "2011-07-19 19:25:04.974835    282317.0   \n",
       "2012-10-07 10:34:52.937534      1635.0   \n",
       "2012-10-07 17:50:41.483734       522.0   \n",
       "\n",
       "                                                                sha1 sha256  \\\n",
       "2012-10-07 10:45:05.260590  d80eaf048573a410cb6c49ebb859280d04b6113c      -   \n",
       "2011-07-19 19:25:04.678615  413dcf4056b982ffd385a92d265458fc66f1ac5d      -   \n",
       "2011-07-19 19:25:04.974835  49ded6741d9996eb759c5e2b6ab2f6ec2e5faf13      -   \n",
       "2012-10-07 10:34:52.937534  f0649f9495d1f566a3f690002050b87800b4bce2      -   \n",
       "2012-10-07 17:50:41.483734  ad5c88987c80091eff1cf7915ef346016dcd644b      -   \n",
       "\n",
       "                           source  threat timedout total_bytes        tx_hosts  \n",
       "2012-10-07 10:45:05.260590   HTTP     APT        F         564   82.96.118.210  \n",
       "2011-07-19 19:25:04.678615   HTTP     APT        F         131    58.64.232.19  \n",
       "2011-07-19 19:25:04.974835   HTTP     APT        F      289628    58.64.232.19  \n",
       "2012-10-07 10:34:52.937534   HTTP     APT        F        1635  205.209.161.13  \n",
       "2012-10-07 17:50:41.483734   HTTP     APT        F         522   118.69.36.139  \n",
       "\n",
       "[5 rows x 24 columns]"
      ]
     },
     "execution_count": 16,
     "metadata": {},
     "output_type": "execute_result"
    }
   ],
   "source": [
    "filesdf.head()"
   ]
  },
  {
   "cell_type": "code",
   "execution_count": 147,
   "metadata": {},
   "outputs": [
    {
     "name": "stdout",
     "output_type": "stream",
     "text": [
      "<class 'pandas.core.frame.DataFrame'>\n",
      "DatetimeIndex: 19087 entries, 2008-08-29 14:13:19.062835 to 2013-09-25 22:22:33.349323\n",
      "Data columns (total 25 columns):\n",
      "analyzers         19087 non-null object\n",
      "conn_uids         19087 non-null object\n",
      "depth             19087 non-null float64\n",
      "duration          19087 non-null float64\n",
      "extracted         19087 non-null object\n",
      "filename          19087 non-null object\n",
      "fuid              19087 non-null object\n",
      "is_orig           19087 non-null object\n",
      "local_orig        19087 non-null object\n",
      "md5               19087 non-null object\n",
      "mime_type         19087 non-null object\n",
      "missing_bytes     19087 non-null float64\n",
      "overflow_bytes    19087 non-null float64\n",
      "parent_fuid       19087 non-null object\n",
      "rx_hosts          19087 non-null object\n",
      "sample            19087 non-null object\n",
      "seen_bytes        19087 non-null float64\n",
      "sha1              19087 non-null object\n",
      "sha256            19087 non-null object\n",
      "source            19087 non-null object\n",
      "threat            19087 non-null object\n",
      "timedout          19087 non-null object\n",
      "total_bytes       19087 non-null object\n",
      "ts                0 non-null object\n",
      "tx_hosts          19087 non-null object\n",
      "dtypes: float64(5), object(20)\n",
      "memory usage: 3.8+ MB\n"
     ]
    }
   ],
   "source": [
    "filesdf.info()"
   ]
  },
  {
   "cell_type": "code",
   "execution_count": 148,
   "metadata": {},
   "outputs": [
    {
     "data": {
      "text/html": [
       "<div>\n",
       "<style>\n",
       "    .dataframe thead tr:only-child th {\n",
       "        text-align: right;\n",
       "    }\n",
       "\n",
       "    .dataframe thead th {\n",
       "        text-align: left;\n",
       "    }\n",
       "\n",
       "    .dataframe tbody tr th {\n",
       "        vertical-align: top;\n",
       "    }\n",
       "</style>\n",
       "<table border=\"1\" class=\"dataframe\">\n",
       "  <thead>\n",
       "    <tr style=\"text-align: right;\">\n",
       "      <th></th>\n",
       "      <th>analyzers</th>\n",
       "      <th>conn_uids</th>\n",
       "      <th>extracted</th>\n",
       "      <th>filename</th>\n",
       "      <th>fuid</th>\n",
       "      <th>is_orig</th>\n",
       "      <th>local_orig</th>\n",
       "      <th>md5</th>\n",
       "      <th>mime_type</th>\n",
       "      <th>parent_fuid</th>\n",
       "      <th>rx_hosts</th>\n",
       "      <th>sample</th>\n",
       "      <th>sha1</th>\n",
       "      <th>sha256</th>\n",
       "      <th>source</th>\n",
       "      <th>threat</th>\n",
       "      <th>timedout</th>\n",
       "      <th>total_bytes</th>\n",
       "      <th>ts</th>\n",
       "      <th>tx_hosts</th>\n",
       "    </tr>\n",
       "  </thead>\n",
       "  <tbody>\n",
       "    <tr>\n",
       "      <th>count</th>\n",
       "      <td>19087</td>\n",
       "      <td>19087</td>\n",
       "      <td>19087</td>\n",
       "      <td>19087</td>\n",
       "      <td>19087</td>\n",
       "      <td>19087</td>\n",
       "      <td>19087</td>\n",
       "      <td>19087</td>\n",
       "      <td>19087</td>\n",
       "      <td>19087</td>\n",
       "      <td>19087</td>\n",
       "      <td>19087</td>\n",
       "      <td>19087</td>\n",
       "      <td>19087</td>\n",
       "      <td>19087</td>\n",
       "      <td>19087</td>\n",
       "      <td>19087</td>\n",
       "      <td>19087</td>\n",
       "      <td>0.0</td>\n",
       "      <td>19087</td>\n",
       "    </tr>\n",
       "    <tr>\n",
       "      <th>unique</th>\n",
       "      <td>3</td>\n",
       "      <td>10005</td>\n",
       "      <td>1</td>\n",
       "      <td>54</td>\n",
       "      <td>19076</td>\n",
       "      <td>2</td>\n",
       "      <td>1</td>\n",
       "      <td>8884</td>\n",
       "      <td>26</td>\n",
       "      <td>1</td>\n",
       "      <td>363</td>\n",
       "      <td>77</td>\n",
       "      <td>8884</td>\n",
       "      <td>1</td>\n",
       "      <td>3</td>\n",
       "      <td>3</td>\n",
       "      <td>2</td>\n",
       "      <td>3552</td>\n",
       "      <td>0.0</td>\n",
       "      <td>1449</td>\n",
       "    </tr>\n",
       "    <tr>\n",
       "      <th>top</th>\n",
       "      <td>SHA1,MD5</td>\n",
       "      <td>CH79DM3zLqVjZZQTe4</td>\n",
       "      <td>-</td>\n",
       "      <td>-</td>\n",
       "      <td>FwQUph2Sl6wHRXzhNj</td>\n",
       "      <td>F</td>\n",
       "      <td>-</td>\n",
       "      <td>e6e2b839691b59a1f28adbe3946ed168</td>\n",
       "      <td>text/plain</td>\n",
       "      <td>-</td>\n",
       "      <td>172.29.0.116</td>\n",
       "      <td>purplehaze</td>\n",
       "      <td>f82bbc37c4deec14342dc6bb83ccf5fa3453d55a</td>\n",
       "      <td>-</td>\n",
       "      <td>HTTP</td>\n",
       "      <td>CRIME</td>\n",
       "      <td>F</td>\n",
       "      <td>-</td>\n",
       "      <td>NaN</td>\n",
       "      <td>65.55.37.120</td>\n",
       "    </tr>\n",
       "    <tr>\n",
       "      <th>freq</th>\n",
       "      <td>11665</td>\n",
       "      <td>180</td>\n",
       "      <td>19087</td>\n",
       "      <td>19023</td>\n",
       "      <td>9</td>\n",
       "      <td>16738</td>\n",
       "      <td>19087</td>\n",
       "      <td>1889</td>\n",
       "      <td>7351</td>\n",
       "      <td>19087</td>\n",
       "      <td>9241</td>\n",
       "      <td>9141</td>\n",
       "      <td>1889</td>\n",
       "      <td>19087</td>\n",
       "      <td>15281</td>\n",
       "      <td>18972</td>\n",
       "      <td>19081</td>\n",
       "      <td>6910</td>\n",
       "      <td>NaN</td>\n",
       "      <td>1856</td>\n",
       "    </tr>\n",
       "  </tbody>\n",
       "</table>\n",
       "</div>"
      ],
      "text/plain": [
       "       analyzers           conn_uids extracted filename                fuid  \\\n",
       "count      19087               19087     19087    19087               19087   \n",
       "unique         3               10005         1       54               19076   \n",
       "top     SHA1,MD5  CH79DM3zLqVjZZQTe4         -        -  FwQUph2Sl6wHRXzhNj   \n",
       "freq       11665                 180     19087    19023                   9   \n",
       "\n",
       "       is_orig local_orig                               md5   mime_type  \\\n",
       "count    19087      19087                             19087       19087   \n",
       "unique       2          1                              8884          26   \n",
       "top          F          -  e6e2b839691b59a1f28adbe3946ed168  text/plain   \n",
       "freq     16738      19087                              1889        7351   \n",
       "\n",
       "       parent_fuid      rx_hosts      sample  \\\n",
       "count        19087         19087       19087   \n",
       "unique           1           363          77   \n",
       "top              -  172.29.0.116  purplehaze   \n",
       "freq         19087          9241        9141   \n",
       "\n",
       "                                            sha1 sha256 source threat  \\\n",
       "count                                      19087  19087  19087  19087   \n",
       "unique                                      8884      1      3      3   \n",
       "top     f82bbc37c4deec14342dc6bb83ccf5fa3453d55a      -   HTTP  CRIME   \n",
       "freq                                        1889  19087  15281  18972   \n",
       "\n",
       "       timedout total_bytes   ts      tx_hosts  \n",
       "count     19087       19087  0.0         19087  \n",
       "unique        2        3552  0.0          1449  \n",
       "top           F           -  NaN  65.55.37.120  \n",
       "freq      19081        6910  NaN          1856  "
      ]
     },
     "execution_count": 148,
     "metadata": {},
     "output_type": "execute_result"
    }
   ],
   "source": [
    "# Get categorical, object-type variables\n",
    "filesdf.select_dtypes(include=['object']).describe()"
   ]
  },
  {
   "cell_type": "code",
   "execution_count": 149,
   "metadata": {},
   "outputs": [
    {
     "data": {
      "text/html": [
       "<div>\n",
       "<style>\n",
       "    .dataframe thead tr:only-child th {\n",
       "        text-align: right;\n",
       "    }\n",
       "\n",
       "    .dataframe thead th {\n",
       "        text-align: left;\n",
       "    }\n",
       "\n",
       "    .dataframe tbody tr th {\n",
       "        vertical-align: top;\n",
       "    }\n",
       "</style>\n",
       "<table border=\"1\" class=\"dataframe\">\n",
       "  <thead>\n",
       "    <tr style=\"text-align: right;\">\n",
       "      <th></th>\n",
       "      <th>depth</th>\n",
       "      <th>duration</th>\n",
       "      <th>missing_bytes</th>\n",
       "      <th>overflow_bytes</th>\n",
       "      <th>seen_bytes</th>\n",
       "    </tr>\n",
       "  </thead>\n",
       "  <tbody>\n",
       "    <tr>\n",
       "      <th>count</th>\n",
       "      <td>19087.000000</td>\n",
       "      <td>19087.000000</td>\n",
       "      <td>19087.00000</td>\n",
       "      <td>19087.0</td>\n",
       "      <td>1.908700e+04</td>\n",
       "    </tr>\n",
       "    <tr>\n",
       "      <th>mean</th>\n",
       "      <td>0.516058</td>\n",
       "      <td>0.074782</td>\n",
       "      <td>1.66967</td>\n",
       "      <td>0.0</td>\n",
       "      <td>1.103566e+04</td>\n",
       "    </tr>\n",
       "    <tr>\n",
       "      <th>std</th>\n",
       "      <td>1.193498</td>\n",
       "      <td>1.264469</td>\n",
       "      <td>212.06107</td>\n",
       "      <td>0.0</td>\n",
       "      <td>1.374042e+05</td>\n",
       "    </tr>\n",
       "    <tr>\n",
       "      <th>min</th>\n",
       "      <td>0.000000</td>\n",
       "      <td>0.000000</td>\n",
       "      <td>0.00000</td>\n",
       "      <td>0.0</td>\n",
       "      <td>0.000000e+00</td>\n",
       "    </tr>\n",
       "    <tr>\n",
       "      <th>25%</th>\n",
       "      <td>0.000000</td>\n",
       "      <td>0.000000</td>\n",
       "      <td>0.00000</td>\n",
       "      <td>0.0</td>\n",
       "      <td>1.250000e+02</td>\n",
       "    </tr>\n",
       "    <tr>\n",
       "      <th>50%</th>\n",
       "      <td>0.000000</td>\n",
       "      <td>0.000000</td>\n",
       "      <td>0.00000</td>\n",
       "      <td>0.0</td>\n",
       "      <td>7.500000e+02</td>\n",
       "    </tr>\n",
       "    <tr>\n",
       "      <th>75%</th>\n",
       "      <td>0.000000</td>\n",
       "      <td>0.000561</td>\n",
       "      <td>0.00000</td>\n",
       "      <td>0.0</td>\n",
       "      <td>2.139000e+03</td>\n",
       "    </tr>\n",
       "    <tr>\n",
       "      <th>max</th>\n",
       "      <td>28.000000</td>\n",
       "      <td>96.395087</td>\n",
       "      <td>29200.00000</td>\n",
       "      <td>0.0</td>\n",
       "      <td>9.823962e+06</td>\n",
       "    </tr>\n",
       "  </tbody>\n",
       "</table>\n",
       "</div>"
      ],
      "text/plain": [
       "              depth      duration  missing_bytes  overflow_bytes    seen_bytes\n",
       "count  19087.000000  19087.000000    19087.00000         19087.0  1.908700e+04\n",
       "mean       0.516058      0.074782        1.66967             0.0  1.103566e+04\n",
       "std        1.193498      1.264469      212.06107             0.0  1.374042e+05\n",
       "min        0.000000      0.000000        0.00000             0.0  0.000000e+00\n",
       "25%        0.000000      0.000000        0.00000             0.0  1.250000e+02\n",
       "50%        0.000000      0.000000        0.00000             0.0  7.500000e+02\n",
       "75%        0.000000      0.000561        0.00000             0.0  2.139000e+03\n",
       "max       28.000000     96.395087    29200.00000             0.0  9.823962e+06"
      ]
     },
     "execution_count": 149,
     "metadata": {},
     "output_type": "execute_result"
    }
   ],
   "source": [
    "# Get numerical, object-type variables\n",
    "filesdf.select_dtypes(exclude=['object']).describe()"
   ]
  },
  {
   "cell_type": "code",
   "execution_count": 150,
   "metadata": {},
   "outputs": [
    {
     "data": {
      "text/plain": [
       "0.0    19087\n",
       "Name: overflow_bytes, dtype: int64"
      ]
     },
     "execution_count": 150,
     "metadata": {},
     "output_type": "execute_result"
    }
   ],
   "source": [
    "filesdf.overflow_bytes.value_counts()"
   ]
  },
  {
   "cell_type": "markdown",
   "metadata": {},
   "source": [
    "filesdf TODOs:\n",
    "    - drop 'ts' column\n",
    "    - drop 'extracted' column, 1 unique\n",
    "    - drop 'local_orig' column, 1 unique\n",
    "    - drop 'parent_fuid' column, 1 unique\n",
    "    - drop 'sha256' column, 1 unique\n",
    "    - drop 'overflow_bytes', column, 1 unique"
   ]
  },
  {
   "cell_type": "code",
   "execution_count": 151,
   "metadata": {},
   "outputs": [
    {
     "data": {
      "text/html": [
       "<div>\n",
       "<style>\n",
       "    .dataframe thead tr:only-child th {\n",
       "        text-align: right;\n",
       "    }\n",
       "\n",
       "    .dataframe thead th {\n",
       "        text-align: left;\n",
       "    }\n",
       "\n",
       "    .dataframe tbody tr th {\n",
       "        vertical-align: top;\n",
       "    }\n",
       "</style>\n",
       "<table border=\"1\" class=\"dataframe\">\n",
       "  <thead>\n",
       "    <tr style=\"text-align: right;\">\n",
       "      <th></th>\n",
       "      <th>analyzers</th>\n",
       "      <th>conn_uids</th>\n",
       "      <th>depth</th>\n",
       "      <th>duration</th>\n",
       "      <th>filename</th>\n",
       "      <th>fuid</th>\n",
       "      <th>is_orig</th>\n",
       "      <th>md5</th>\n",
       "      <th>mime_type</th>\n",
       "      <th>missing_bytes</th>\n",
       "      <th>rx_hosts</th>\n",
       "      <th>sample</th>\n",
       "      <th>seen_bytes</th>\n",
       "      <th>sha1</th>\n",
       "      <th>source</th>\n",
       "      <th>threat</th>\n",
       "      <th>timedout</th>\n",
       "      <th>total_bytes</th>\n",
       "      <th>tx_hosts</th>\n",
       "    </tr>\n",
       "  </thead>\n",
       "  <tbody>\n",
       "    <tr>\n",
       "      <th>2008-08-29 14:13:19.062835</th>\n",
       "      <td>MD5,SHA1</td>\n",
       "      <td>CPeRxP175U0yYVakOb</td>\n",
       "      <td>0.0</td>\n",
       "      <td>0.000000</td>\n",
       "      <td>-</td>\n",
       "      <td>Fnkq5O2AudT9jKaGzf</td>\n",
       "      <td>F</td>\n",
       "      <td>832121a4d54b100333d1a735105f88c2</td>\n",
       "      <td>text/html</td>\n",
       "      <td>0.0</td>\n",
       "      <td>192.168.0.22</td>\n",
       "      <td>Microsoft_SQL_Server_Distributed_Management_Ob...</td>\n",
       "      <td>2767.0</td>\n",
       "      <td>d631518d7222a213a38a0c6f269bc7f6aeebd047</td>\n",
       "      <td>HTTP</td>\n",
       "      <td>METASPLOIT</td>\n",
       "      <td>F</td>\n",
       "      <td>2767</td>\n",
       "      <td>192.168.0.15</td>\n",
       "    </tr>\n",
       "    <tr>\n",
       "      <th>2008-08-29 14:17:24.426910</th>\n",
       "      <td>MD5,SHA1</td>\n",
       "      <td>C7ihYF3xcZL9DKkei</td>\n",
       "      <td>0.0</td>\n",
       "      <td>1.825023</td>\n",
       "      <td>-</td>\n",
       "      <td>Fef9fG1P0WvDiHsgW</td>\n",
       "      <td>F</td>\n",
       "      <td>f30dbac8dfb321cc3ad7c8d80d131104</td>\n",
       "      <td>text/plain</td>\n",
       "      <td>0.0</td>\n",
       "      <td>192.168.0.22</td>\n",
       "      <td>iMesh_7.1.0.x(IMWeb.dll_7.0.0.x)_Remote_Heap_O...</td>\n",
       "      <td>4831.0</td>\n",
       "      <td>9cc71a6c6e1608a6e44b3f4128e932f15e12108e</td>\n",
       "      <td>HTTP</td>\n",
       "      <td>METASPLOIT</td>\n",
       "      <td>F</td>\n",
       "      <td>4831</td>\n",
       "      <td>192.168.0.15</td>\n",
       "    </tr>\n",
       "    <tr>\n",
       "      <th>2008-08-29 14:18:47.261285</th>\n",
       "      <td>MD5,SHA1</td>\n",
       "      <td>CNHkrR3vyXKjNqqqgh</td>\n",
       "      <td>0.0</td>\n",
       "      <td>0.000000</td>\n",
       "      <td>-</td>\n",
       "      <td>FXdjVH10pT9gjAt2p6</td>\n",
       "      <td>F</td>\n",
       "      <td>ea95d16406510979d2dbcba148ec65d4</td>\n",
       "      <td>text/html</td>\n",
       "      <td>0.0</td>\n",
       "      <td>192.168.0.22</td>\n",
       "      <td>NUVICO_DVR_NVDV4__PdvrAtl_Module_(PdvrAt.DLL_1...</td>\n",
       "      <td>2494.0</td>\n",
       "      <td>8f41aa8ac666cbdefede034a7a3cd8a23270646b</td>\n",
       "      <td>HTTP</td>\n",
       "      <td>METASPLOIT</td>\n",
       "      <td>F</td>\n",
       "      <td>2494</td>\n",
       "      <td>192.168.0.15</td>\n",
       "    </tr>\n",
       "    <tr>\n",
       "      <th>2008-08-29 14:20:28.469907</th>\n",
       "      <td>SHA1,MD5</td>\n",
       "      <td>CGAPRy3uHLtMEv0hh4</td>\n",
       "      <td>0.0</td>\n",
       "      <td>0.000000</td>\n",
       "      <td>-</td>\n",
       "      <td>FPZcO9wMy7NtiMek</td>\n",
       "      <td>F</td>\n",
       "      <td>b6455078596a63579edd93053688c664</td>\n",
       "      <td>text/html</td>\n",
       "      <td>0.0</td>\n",
       "      <td>192.168.0.22</td>\n",
       "      <td>Sejoong_Namo_ActiveSquare_6_NamoInstaller.dll-...</td>\n",
       "      <td>1550.0</td>\n",
       "      <td>6bc5bf13ecf95a7f0f151789bcb099408569bed5</td>\n",
       "      <td>HTTP</td>\n",
       "      <td>METASPLOIT</td>\n",
       "      <td>F</td>\n",
       "      <td>1550</td>\n",
       "      <td>192.168.0.15</td>\n",
       "    </tr>\n",
       "    <tr>\n",
       "      <th>2008-08-29 14:20:32.933439</th>\n",
       "      <td>SHA1,MD5</td>\n",
       "      <td>CUBJsy3BQVEkizsKtc</td>\n",
       "      <td>0.0</td>\n",
       "      <td>0.000000</td>\n",
       "      <td>-</td>\n",
       "      <td>FC0N0T2JFiZcFr63x6</td>\n",
       "      <td>F</td>\n",
       "      <td>60784130c96e15301590ed3d757dbed7</td>\n",
       "      <td>text/html</td>\n",
       "      <td>0.0</td>\n",
       "      <td>192.168.0.22</td>\n",
       "      <td>Yahoo_Music_Jukebox_2.2-AddImage()_ActiveX_Rem...</td>\n",
       "      <td>2811.0</td>\n",
       "      <td>0745e344d2b7ff1ed21ee9bb5fbf4bcca06d5c4c</td>\n",
       "      <td>HTTP</td>\n",
       "      <td>METASPLOIT</td>\n",
       "      <td>F</td>\n",
       "      <td>2811</td>\n",
       "      <td>192.168.0.15</td>\n",
       "    </tr>\n",
       "  </tbody>\n",
       "</table>\n",
       "</div>"
      ],
      "text/plain": [
       "                           analyzers           conn_uids  depth  duration  \\\n",
       "2008-08-29 14:13:19.062835  MD5,SHA1  CPeRxP175U0yYVakOb    0.0  0.000000   \n",
       "2008-08-29 14:17:24.426910  MD5,SHA1   C7ihYF3xcZL9DKkei    0.0  1.825023   \n",
       "2008-08-29 14:18:47.261285  MD5,SHA1  CNHkrR3vyXKjNqqqgh    0.0  0.000000   \n",
       "2008-08-29 14:20:28.469907  SHA1,MD5  CGAPRy3uHLtMEv0hh4    0.0  0.000000   \n",
       "2008-08-29 14:20:32.933439  SHA1,MD5  CUBJsy3BQVEkizsKtc    0.0  0.000000   \n",
       "\n",
       "                           filename                fuid is_orig  \\\n",
       "2008-08-29 14:13:19.062835        -  Fnkq5O2AudT9jKaGzf       F   \n",
       "2008-08-29 14:17:24.426910        -   Fef9fG1P0WvDiHsgW       F   \n",
       "2008-08-29 14:18:47.261285        -  FXdjVH10pT9gjAt2p6       F   \n",
       "2008-08-29 14:20:28.469907        -    FPZcO9wMy7NtiMek       F   \n",
       "2008-08-29 14:20:32.933439        -  FC0N0T2JFiZcFr63x6       F   \n",
       "\n",
       "                                                         md5   mime_type  \\\n",
       "2008-08-29 14:13:19.062835  832121a4d54b100333d1a735105f88c2   text/html   \n",
       "2008-08-29 14:17:24.426910  f30dbac8dfb321cc3ad7c8d80d131104  text/plain   \n",
       "2008-08-29 14:18:47.261285  ea95d16406510979d2dbcba148ec65d4   text/html   \n",
       "2008-08-29 14:20:28.469907  b6455078596a63579edd93053688c664   text/html   \n",
       "2008-08-29 14:20:32.933439  60784130c96e15301590ed3d757dbed7   text/html   \n",
       "\n",
       "                            missing_bytes      rx_hosts  \\\n",
       "2008-08-29 14:13:19.062835            0.0  192.168.0.22   \n",
       "2008-08-29 14:17:24.426910            0.0  192.168.0.22   \n",
       "2008-08-29 14:18:47.261285            0.0  192.168.0.22   \n",
       "2008-08-29 14:20:28.469907            0.0  192.168.0.22   \n",
       "2008-08-29 14:20:32.933439            0.0  192.168.0.22   \n",
       "\n",
       "                                                                       sample  \\\n",
       "2008-08-29 14:13:19.062835  Microsoft_SQL_Server_Distributed_Management_Ob...   \n",
       "2008-08-29 14:17:24.426910  iMesh_7.1.0.x(IMWeb.dll_7.0.0.x)_Remote_Heap_O...   \n",
       "2008-08-29 14:18:47.261285  NUVICO_DVR_NVDV4__PdvrAtl_Module_(PdvrAt.DLL_1...   \n",
       "2008-08-29 14:20:28.469907  Sejoong_Namo_ActiveSquare_6_NamoInstaller.dll-...   \n",
       "2008-08-29 14:20:32.933439  Yahoo_Music_Jukebox_2.2-AddImage()_ActiveX_Rem...   \n",
       "\n",
       "                            seen_bytes  \\\n",
       "2008-08-29 14:13:19.062835      2767.0   \n",
       "2008-08-29 14:17:24.426910      4831.0   \n",
       "2008-08-29 14:18:47.261285      2494.0   \n",
       "2008-08-29 14:20:28.469907      1550.0   \n",
       "2008-08-29 14:20:32.933439      2811.0   \n",
       "\n",
       "                                                                sha1 source  \\\n",
       "2008-08-29 14:13:19.062835  d631518d7222a213a38a0c6f269bc7f6aeebd047   HTTP   \n",
       "2008-08-29 14:17:24.426910  9cc71a6c6e1608a6e44b3f4128e932f15e12108e   HTTP   \n",
       "2008-08-29 14:18:47.261285  8f41aa8ac666cbdefede034a7a3cd8a23270646b   HTTP   \n",
       "2008-08-29 14:20:28.469907  6bc5bf13ecf95a7f0f151789bcb099408569bed5   HTTP   \n",
       "2008-08-29 14:20:32.933439  0745e344d2b7ff1ed21ee9bb5fbf4bcca06d5c4c   HTTP   \n",
       "\n",
       "                                threat timedout total_bytes      tx_hosts  \n",
       "2008-08-29 14:13:19.062835  METASPLOIT        F        2767  192.168.0.15  \n",
       "2008-08-29 14:17:24.426910  METASPLOIT        F        4831  192.168.0.15  \n",
       "2008-08-29 14:18:47.261285  METASPLOIT        F        2494  192.168.0.15  \n",
       "2008-08-29 14:20:28.469907  METASPLOIT        F        1550  192.168.0.15  \n",
       "2008-08-29 14:20:32.933439  METASPLOIT        F        2811  192.168.0.15  "
      ]
     },
     "execution_count": 151,
     "metadata": {},
     "output_type": "execute_result"
    }
   ],
   "source": [
    "filesdf.drop('ts', axis=1, inplace=True)\n",
    "filesdf.drop('extracted', axis=1, inplace=True)\n",
    "filesdf.drop('local_orig', axis=1, inplace=True)\n",
    "filesdf.drop('parent_fuid', axis=1, inplace=True)\n",
    "filesdf.drop('sha256', axis=1, inplace=True)\n",
    "filesdf.drop('overflow_bytes', axis=1, inplace=True)\n",
    "filesdf.head()"
   ]
  },
  {
   "cell_type": "markdown",
   "metadata": {},
   "source": [
    "### ftp.log"
   ]
  },
  {
   "cell_type": "code",
   "execution_count": 18,
   "metadata": {},
   "outputs": [
    {
     "data": {
      "text/html": [
       "<div>\n",
       "<style>\n",
       "    .dataframe thead tr:only-child th {\n",
       "        text-align: right;\n",
       "    }\n",
       "\n",
       "    .dataframe thead th {\n",
       "        text-align: left;\n",
       "    }\n",
       "\n",
       "    .dataframe tbody tr th {\n",
       "        vertical-align: top;\n",
       "    }\n",
       "</style>\n",
       "<table border=\"1\" class=\"dataframe\">\n",
       "  <thead>\n",
       "    <tr style=\"text-align: right;\">\n",
       "      <th></th>\n",
       "      <th>arg</th>\n",
       "      <th>command</th>\n",
       "      <th>data_channel.orig_h</th>\n",
       "      <th>data_channel.passive</th>\n",
       "      <th>data_channel.resp_h</th>\n",
       "      <th>data_channel.resp_p</th>\n",
       "      <th>file_size</th>\n",
       "      <th>fuid</th>\n",
       "      <th>id.orig_h</th>\n",
       "      <th>id.orig_p</th>\n",
       "      <th>id.resp_h</th>\n",
       "      <th>id.resp_p</th>\n",
       "      <th>mime_type</th>\n",
       "      <th>password</th>\n",
       "      <th>reply_code</th>\n",
       "      <th>reply_msg</th>\n",
       "      <th>sample</th>\n",
       "      <th>threat</th>\n",
       "      <th>uid</th>\n",
       "      <th>user</th>\n",
       "    </tr>\n",
       "  </thead>\n",
       "  <tbody>\n",
       "    <tr>\n",
       "      <th>1969-12-31 19:00:25.910034</th>\n",
       "      <td>10,0,2,15,4,24</td>\n",
       "      <td>PORT</td>\n",
       "      <td>109.234.159.254</td>\n",
       "      <td>F</td>\n",
       "      <td>10.0.2.15</td>\n",
       "      <td>1048</td>\n",
       "      <td>-</td>\n",
       "      <td>-</td>\n",
       "      <td>10.0.2.15</td>\n",
       "      <td>1047.0</td>\n",
       "      <td>109.234.159.254</td>\n",
       "      <td>21.0</td>\n",
       "      <td>-</td>\n",
       "      <td>&lt;hidden&gt;</td>\n",
       "      <td>500.0</td>\n",
       "      <td>\\xd0\\x9d\\xd0\\xb5\\xd0\\xbf\\xd1\\x80\\xd0\\xb0\\xd0\\x...</td>\n",
       "      <td>BIN_Reedum_0ca4f93a848cf01348336a8c6ff22daf_20...</td>\n",
       "      <td>CRIME</td>\n",
       "      <td>Cgtteu3aOCDB2bcjXb</td>\n",
       "      <td>user37704</td>\n",
       "    </tr>\n",
       "    <tr>\n",
       "      <th>2013-03-07 05:58:39.873228</th>\n",
       "      <td>-</td>\n",
       "      <td>PASV</td>\n",
       "      <td>10.0.2.15</td>\n",
       "      <td>T</td>\n",
       "      <td>193.109.247.77</td>\n",
       "      <td>44279</td>\n",
       "      <td>-</td>\n",
       "      <td>-</td>\n",
       "      <td>10.0.2.15</td>\n",
       "      <td>1040.0</td>\n",
       "      <td>193.109.247.77</td>\n",
       "      <td>21.0</td>\n",
       "      <td>-</td>\n",
       "      <td>&lt;hidden&gt;</td>\n",
       "      <td>227.0</td>\n",
       "      <td>Entering Passive Mode (193,109,247,77,172,247)</td>\n",
       "      <td>BIN_UStealD_2b796f11f15e8c73f8f69180cf74b39d</td>\n",
       "      <td>CRIME</td>\n",
       "      <td>CD9RqvrS2B3ppkDXf</td>\n",
       "      <td>0jeck1072</td>\n",
       "    </tr>\n",
       "    <tr>\n",
       "      <th>2013-03-07 05:58:40.110549</th>\n",
       "      <td>ftp://193.109.247.77/./home/zxcvb/sdfhdrjf/NO_...</td>\n",
       "      <td>STOR</td>\n",
       "      <td>-</td>\n",
       "      <td>-</td>\n",
       "      <td>-</td>\n",
       "      <td>-</td>\n",
       "      <td>-</td>\n",
       "      <td>F0Lt5h2pYsjpmv03el</td>\n",
       "      <td>10.0.2.15</td>\n",
       "      <td>1040.0</td>\n",
       "      <td>193.109.247.77</td>\n",
       "      <td>21.0</td>\n",
       "      <td>binary</td>\n",
       "      <td>&lt;hidden&gt;</td>\n",
       "      <td>226.0</td>\n",
       "      <td>Logout.</td>\n",
       "      <td>BIN_UStealD_2b796f11f15e8c73f8f69180cf74b39d</td>\n",
       "      <td>CRIME</td>\n",
       "      <td>CD9RqvrS2B3ppkDXf</td>\n",
       "      <td>0jeck1072</td>\n",
       "    </tr>\n",
       "  </tbody>\n",
       "</table>\n",
       "</div>"
      ],
      "text/plain": [
       "                                                                          arg  \\\n",
       "1969-12-31 19:00:25.910034                                     10,0,2,15,4,24   \n",
       "2013-03-07 05:58:39.873228                                                  -   \n",
       "2013-03-07 05:58:40.110549  ftp://193.109.247.77/./home/zxcvb/sdfhdrjf/NO_...   \n",
       "\n",
       "                           command data_channel.orig_h data_channel.passive  \\\n",
       "1969-12-31 19:00:25.910034    PORT     109.234.159.254                    F   \n",
       "2013-03-07 05:58:39.873228    PASV           10.0.2.15                    T   \n",
       "2013-03-07 05:58:40.110549    STOR                   -                    -   \n",
       "\n",
       "                           data_channel.resp_h data_channel.resp_p file_size  \\\n",
       "1969-12-31 19:00:25.910034           10.0.2.15                1048         -   \n",
       "2013-03-07 05:58:39.873228      193.109.247.77               44279         -   \n",
       "2013-03-07 05:58:40.110549                   -                   -         -   \n",
       "\n",
       "                                          fuid  id.orig_h  id.orig_p  \\\n",
       "1969-12-31 19:00:25.910034                   -  10.0.2.15     1047.0   \n",
       "2013-03-07 05:58:39.873228                   -  10.0.2.15     1040.0   \n",
       "2013-03-07 05:58:40.110549  F0Lt5h2pYsjpmv03el  10.0.2.15     1040.0   \n",
       "\n",
       "                                  id.resp_h  id.resp_p mime_type  password  \\\n",
       "1969-12-31 19:00:25.910034  109.234.159.254       21.0         -  <hidden>   \n",
       "2013-03-07 05:58:39.873228   193.109.247.77       21.0         -  <hidden>   \n",
       "2013-03-07 05:58:40.110549   193.109.247.77       21.0    binary  <hidden>   \n",
       "\n",
       "                            reply_code  \\\n",
       "1969-12-31 19:00:25.910034       500.0   \n",
       "2013-03-07 05:58:39.873228       227.0   \n",
       "2013-03-07 05:58:40.110549       226.0   \n",
       "\n",
       "                                                                    reply_msg  \\\n",
       "1969-12-31 19:00:25.910034  \\xd0\\x9d\\xd0\\xb5\\xd0\\xbf\\xd1\\x80\\xd0\\xb0\\xd0\\x...   \n",
       "2013-03-07 05:58:39.873228     Entering Passive Mode (193,109,247,77,172,247)   \n",
       "2013-03-07 05:58:40.110549                                            Logout.   \n",
       "\n",
       "                                                                       sample  \\\n",
       "1969-12-31 19:00:25.910034  BIN_Reedum_0ca4f93a848cf01348336a8c6ff22daf_20...   \n",
       "2013-03-07 05:58:39.873228       BIN_UStealD_2b796f11f15e8c73f8f69180cf74b39d   \n",
       "2013-03-07 05:58:40.110549       BIN_UStealD_2b796f11f15e8c73f8f69180cf74b39d   \n",
       "\n",
       "                           threat                 uid       user  \n",
       "1969-12-31 19:00:25.910034  CRIME  Cgtteu3aOCDB2bcjXb  user37704  \n",
       "2013-03-07 05:58:39.873228  CRIME   CD9RqvrS2B3ppkDXf  0jeck1072  \n",
       "2013-03-07 05:58:40.110549  CRIME   CD9RqvrS2B3ppkDXf  0jeck1072  "
      ]
     },
     "execution_count": 18,
     "metadata": {},
     "output_type": "execute_result"
    }
   ],
   "source": [
    "ftpdf.head(5)  # there are only 3 records"
   ]
  },
  {
   "cell_type": "code",
   "execution_count": 152,
   "metadata": {},
   "outputs": [
    {
     "name": "stdout",
     "output_type": "stream",
     "text": [
      "<class 'pandas.core.frame.DataFrame'>\n",
      "DatetimeIndex: 2 entries, 2013-03-07 05:58:39.873228 to 2013-03-07 05:58:40.110549\n",
      "Data columns (total 21 columns):\n",
      "arg                     2 non-null object\n",
      "command                 2 non-null object\n",
      "data_channel.orig_h     2 non-null object\n",
      "data_channel.passive    2 non-null object\n",
      "data_channel.resp_h     2 non-null object\n",
      "data_channel.resp_p     2 non-null object\n",
      "file_size               2 non-null object\n",
      "fuid                    2 non-null object\n",
      "id.orig_h               2 non-null object\n",
      "id.orig_p               2 non-null float64\n",
      "id.resp_h               2 non-null object\n",
      "id.resp_p               2 non-null float64\n",
      "mime_type               2 non-null object\n",
      "password                2 non-null object\n",
      "reply_code              2 non-null float64\n",
      "reply_msg               2 non-null object\n",
      "sample                  2 non-null object\n",
      "threat                  2 non-null object\n",
      "ts                      0 non-null object\n",
      "uid                     2 non-null object\n",
      "user                    2 non-null object\n",
      "dtypes: float64(3), object(18)\n",
      "memory usage: 352.0+ bytes\n"
     ]
    }
   ],
   "source": [
    "ftpdf.info()"
   ]
  },
  {
   "cell_type": "code",
   "execution_count": 153,
   "metadata": {},
   "outputs": [
    {
     "data": {
      "text/html": [
       "<div>\n",
       "<style>\n",
       "    .dataframe thead tr:only-child th {\n",
       "        text-align: right;\n",
       "    }\n",
       "\n",
       "    .dataframe thead th {\n",
       "        text-align: left;\n",
       "    }\n",
       "\n",
       "    .dataframe tbody tr th {\n",
       "        vertical-align: top;\n",
       "    }\n",
       "</style>\n",
       "<table border=\"1\" class=\"dataframe\">\n",
       "  <thead>\n",
       "    <tr style=\"text-align: right;\">\n",
       "      <th></th>\n",
       "      <th>arg</th>\n",
       "      <th>command</th>\n",
       "      <th>data_channel.orig_h</th>\n",
       "      <th>data_channel.passive</th>\n",
       "      <th>data_channel.resp_h</th>\n",
       "      <th>data_channel.resp_p</th>\n",
       "      <th>file_size</th>\n",
       "      <th>fuid</th>\n",
       "      <th>id.orig_h</th>\n",
       "      <th>id.resp_h</th>\n",
       "      <th>mime_type</th>\n",
       "      <th>password</th>\n",
       "      <th>reply_msg</th>\n",
       "      <th>sample</th>\n",
       "      <th>threat</th>\n",
       "      <th>ts</th>\n",
       "      <th>uid</th>\n",
       "      <th>user</th>\n",
       "    </tr>\n",
       "  </thead>\n",
       "  <tbody>\n",
       "    <tr>\n",
       "      <th>count</th>\n",
       "      <td>2</td>\n",
       "      <td>2</td>\n",
       "      <td>2</td>\n",
       "      <td>2</td>\n",
       "      <td>2</td>\n",
       "      <td>2</td>\n",
       "      <td>2</td>\n",
       "      <td>2</td>\n",
       "      <td>2</td>\n",
       "      <td>2</td>\n",
       "      <td>2</td>\n",
       "      <td>2</td>\n",
       "      <td>2</td>\n",
       "      <td>2</td>\n",
       "      <td>2</td>\n",
       "      <td>0.0</td>\n",
       "      <td>2</td>\n",
       "      <td>2</td>\n",
       "    </tr>\n",
       "    <tr>\n",
       "      <th>unique</th>\n",
       "      <td>2</td>\n",
       "      <td>2</td>\n",
       "      <td>2</td>\n",
       "      <td>2</td>\n",
       "      <td>2</td>\n",
       "      <td>2</td>\n",
       "      <td>1</td>\n",
       "      <td>2</td>\n",
       "      <td>1</td>\n",
       "      <td>1</td>\n",
       "      <td>2</td>\n",
       "      <td>1</td>\n",
       "      <td>2</td>\n",
       "      <td>1</td>\n",
       "      <td>1</td>\n",
       "      <td>0.0</td>\n",
       "      <td>1</td>\n",
       "      <td>1</td>\n",
       "    </tr>\n",
       "    <tr>\n",
       "      <th>top</th>\n",
       "      <td>ftp://193.109.247.77/./home/zxcvb/sdfhdrjf/NO_...</td>\n",
       "      <td>STOR</td>\n",
       "      <td>-</td>\n",
       "      <td>T</td>\n",
       "      <td>193.109.247.77</td>\n",
       "      <td>44279</td>\n",
       "      <td>-</td>\n",
       "      <td>F0Lt5h2pYsjpmv03el</td>\n",
       "      <td>10.0.2.15</td>\n",
       "      <td>193.109.247.77</td>\n",
       "      <td>binary</td>\n",
       "      <td>&lt;hidden&gt;</td>\n",
       "      <td>Entering Passive Mode (193,109,247,77,172,247)</td>\n",
       "      <td>BIN_UStealD_2b796f11f15e8c73f8f69180cf74b39d</td>\n",
       "      <td>CRIME</td>\n",
       "      <td>NaN</td>\n",
       "      <td>CD9RqvrS2B3ppkDXf</td>\n",
       "      <td>0jeck1072</td>\n",
       "    </tr>\n",
       "    <tr>\n",
       "      <th>freq</th>\n",
       "      <td>1</td>\n",
       "      <td>1</td>\n",
       "      <td>1</td>\n",
       "      <td>1</td>\n",
       "      <td>1</td>\n",
       "      <td>1</td>\n",
       "      <td>2</td>\n",
       "      <td>1</td>\n",
       "      <td>2</td>\n",
       "      <td>2</td>\n",
       "      <td>1</td>\n",
       "      <td>2</td>\n",
       "      <td>1</td>\n",
       "      <td>2</td>\n",
       "      <td>2</td>\n",
       "      <td>NaN</td>\n",
       "      <td>2</td>\n",
       "      <td>2</td>\n",
       "    </tr>\n",
       "  </tbody>\n",
       "</table>\n",
       "</div>"
      ],
      "text/plain": [
       "                                                      arg command  \\\n",
       "count                                                   2       2   \n",
       "unique                                                  2       2   \n",
       "top     ftp://193.109.247.77/./home/zxcvb/sdfhdrjf/NO_...    STOR   \n",
       "freq                                                    1       1   \n",
       "\n",
       "       data_channel.orig_h data_channel.passive data_channel.resp_h  \\\n",
       "count                    2                    2                   2   \n",
       "unique                   2                    2                   2   \n",
       "top                      -                    T      193.109.247.77   \n",
       "freq                     1                    1                   1   \n",
       "\n",
       "       data_channel.resp_p file_size                fuid  id.orig_h  \\\n",
       "count                    2         2                   2          2   \n",
       "unique                   2         1                   2          1   \n",
       "top                  44279         -  F0Lt5h2pYsjpmv03el  10.0.2.15   \n",
       "freq                     1         2                   1          2   \n",
       "\n",
       "             id.resp_h mime_type  password  \\\n",
       "count                2         2         2   \n",
       "unique               1         2         1   \n",
       "top     193.109.247.77    binary  <hidden>   \n",
       "freq                 2         1         2   \n",
       "\n",
       "                                             reply_msg  \\\n",
       "count                                                2   \n",
       "unique                                               2   \n",
       "top     Entering Passive Mode (193,109,247,77,172,247)   \n",
       "freq                                                 1   \n",
       "\n",
       "                                              sample threat   ts  \\\n",
       "count                                              2      2  0.0   \n",
       "unique                                             1      1  0.0   \n",
       "top     BIN_UStealD_2b796f11f15e8c73f8f69180cf74b39d  CRIME  NaN   \n",
       "freq                                               2      2  NaN   \n",
       "\n",
       "                      uid       user  \n",
       "count                   2          2  \n",
       "unique                  1          1  \n",
       "top     CD9RqvrS2B3ppkDXf  0jeck1072  \n",
       "freq                    2          2  "
      ]
     },
     "execution_count": 153,
     "metadata": {},
     "output_type": "execute_result"
    }
   ],
   "source": [
    "# Get categorical, object-type variables\n",
    "ftpdf.select_dtypes(include=['object']).describe()"
   ]
  },
  {
   "cell_type": "code",
   "execution_count": 154,
   "metadata": {},
   "outputs": [
    {
     "data": {
      "text/html": [
       "<div>\n",
       "<style>\n",
       "    .dataframe thead tr:only-child th {\n",
       "        text-align: right;\n",
       "    }\n",
       "\n",
       "    .dataframe thead th {\n",
       "        text-align: left;\n",
       "    }\n",
       "\n",
       "    .dataframe tbody tr th {\n",
       "        vertical-align: top;\n",
       "    }\n",
       "</style>\n",
       "<table border=\"1\" class=\"dataframe\">\n",
       "  <thead>\n",
       "    <tr style=\"text-align: right;\">\n",
       "      <th></th>\n",
       "      <th>id.orig_p</th>\n",
       "      <th>id.resp_p</th>\n",
       "      <th>reply_code</th>\n",
       "    </tr>\n",
       "  </thead>\n",
       "  <tbody>\n",
       "    <tr>\n",
       "      <th>count</th>\n",
       "      <td>2.0</td>\n",
       "      <td>2.0</td>\n",
       "      <td>2.000000</td>\n",
       "    </tr>\n",
       "    <tr>\n",
       "      <th>mean</th>\n",
       "      <td>1040.0</td>\n",
       "      <td>21.0</td>\n",
       "      <td>226.500000</td>\n",
       "    </tr>\n",
       "    <tr>\n",
       "      <th>std</th>\n",
       "      <td>0.0</td>\n",
       "      <td>0.0</td>\n",
       "      <td>0.707107</td>\n",
       "    </tr>\n",
       "    <tr>\n",
       "      <th>min</th>\n",
       "      <td>1040.0</td>\n",
       "      <td>21.0</td>\n",
       "      <td>226.000000</td>\n",
       "    </tr>\n",
       "    <tr>\n",
       "      <th>25%</th>\n",
       "      <td>1040.0</td>\n",
       "      <td>21.0</td>\n",
       "      <td>226.250000</td>\n",
       "    </tr>\n",
       "    <tr>\n",
       "      <th>50%</th>\n",
       "      <td>1040.0</td>\n",
       "      <td>21.0</td>\n",
       "      <td>226.500000</td>\n",
       "    </tr>\n",
       "    <tr>\n",
       "      <th>75%</th>\n",
       "      <td>1040.0</td>\n",
       "      <td>21.0</td>\n",
       "      <td>226.750000</td>\n",
       "    </tr>\n",
       "    <tr>\n",
       "      <th>max</th>\n",
       "      <td>1040.0</td>\n",
       "      <td>21.0</td>\n",
       "      <td>227.000000</td>\n",
       "    </tr>\n",
       "  </tbody>\n",
       "</table>\n",
       "</div>"
      ],
      "text/plain": [
       "       id.orig_p  id.resp_p  reply_code\n",
       "count        2.0        2.0    2.000000\n",
       "mean      1040.0       21.0  226.500000\n",
       "std          0.0        0.0    0.707107\n",
       "min       1040.0       21.0  226.000000\n",
       "25%       1040.0       21.0  226.250000\n",
       "50%       1040.0       21.0  226.500000\n",
       "75%       1040.0       21.0  226.750000\n",
       "max       1040.0       21.0  227.000000"
      ]
     },
     "execution_count": 154,
     "metadata": {},
     "output_type": "execute_result"
    }
   ],
   "source": [
    "# Get numerical, object-type variables\n",
    "ftpdf.select_dtypes(exclude=['object']).describe()"
   ]
  },
  {
   "cell_type": "markdown",
   "metadata": {},
   "source": [
    "ftpdf TODOs:\n",
    "    - drop 'ts' column\n",
    "    - drop 'file_size' column, 1 unique\n",
    "    - drop 'id.orig_h' column, 1 unique\n",
    "    - drop 'id.resp_h' column, 1 unique\n",
    "    - drop 'password' column, 1 unique\n",
    "    - drop 'user', column, 1 unique"
   ]
  },
  {
   "cell_type": "code",
   "execution_count": 155,
   "metadata": {},
   "outputs": [
    {
     "data": {
      "text/html": [
       "<div>\n",
       "<style>\n",
       "    .dataframe thead tr:only-child th {\n",
       "        text-align: right;\n",
       "    }\n",
       "\n",
       "    .dataframe thead th {\n",
       "        text-align: left;\n",
       "    }\n",
       "\n",
       "    .dataframe tbody tr th {\n",
       "        vertical-align: top;\n",
       "    }\n",
       "</style>\n",
       "<table border=\"1\" class=\"dataframe\">\n",
       "  <thead>\n",
       "    <tr style=\"text-align: right;\">\n",
       "      <th></th>\n",
       "      <th>arg</th>\n",
       "      <th>command</th>\n",
       "      <th>data_channel.orig_h</th>\n",
       "      <th>data_channel.passive</th>\n",
       "      <th>data_channel.resp_h</th>\n",
       "      <th>data_channel.resp_p</th>\n",
       "      <th>fuid</th>\n",
       "      <th>id.orig_p</th>\n",
       "      <th>id.resp_p</th>\n",
       "      <th>mime_type</th>\n",
       "      <th>reply_code</th>\n",
       "      <th>reply_msg</th>\n",
       "      <th>sample</th>\n",
       "      <th>threat</th>\n",
       "      <th>uid</th>\n",
       "    </tr>\n",
       "  </thead>\n",
       "  <tbody>\n",
       "    <tr>\n",
       "      <th>2013-03-07 05:58:39.873228</th>\n",
       "      <td>-</td>\n",
       "      <td>PASV</td>\n",
       "      <td>10.0.2.15</td>\n",
       "      <td>T</td>\n",
       "      <td>193.109.247.77</td>\n",
       "      <td>44279</td>\n",
       "      <td>-</td>\n",
       "      <td>1040.0</td>\n",
       "      <td>21.0</td>\n",
       "      <td>-</td>\n",
       "      <td>227.0</td>\n",
       "      <td>Entering Passive Mode (193,109,247,77,172,247)</td>\n",
       "      <td>BIN_UStealD_2b796f11f15e8c73f8f69180cf74b39d</td>\n",
       "      <td>CRIME</td>\n",
       "      <td>CD9RqvrS2B3ppkDXf</td>\n",
       "    </tr>\n",
       "    <tr>\n",
       "      <th>2013-03-07 05:58:40.110549</th>\n",
       "      <td>ftp://193.109.247.77/./home/zxcvb/sdfhdrjf/NO_...</td>\n",
       "      <td>STOR</td>\n",
       "      <td>-</td>\n",
       "      <td>-</td>\n",
       "      <td>-</td>\n",
       "      <td>-</td>\n",
       "      <td>F0Lt5h2pYsjpmv03el</td>\n",
       "      <td>1040.0</td>\n",
       "      <td>21.0</td>\n",
       "      <td>binary</td>\n",
       "      <td>226.0</td>\n",
       "      <td>Logout.</td>\n",
       "      <td>BIN_UStealD_2b796f11f15e8c73f8f69180cf74b39d</td>\n",
       "      <td>CRIME</td>\n",
       "      <td>CD9RqvrS2B3ppkDXf</td>\n",
       "    </tr>\n",
       "  </tbody>\n",
       "</table>\n",
       "</div>"
      ],
      "text/plain": [
       "                                                                          arg  \\\n",
       "2013-03-07 05:58:39.873228                                                  -   \n",
       "2013-03-07 05:58:40.110549  ftp://193.109.247.77/./home/zxcvb/sdfhdrjf/NO_...   \n",
       "\n",
       "                           command data_channel.orig_h data_channel.passive  \\\n",
       "2013-03-07 05:58:39.873228    PASV           10.0.2.15                    T   \n",
       "2013-03-07 05:58:40.110549    STOR                   -                    -   \n",
       "\n",
       "                           data_channel.resp_h data_channel.resp_p  \\\n",
       "2013-03-07 05:58:39.873228      193.109.247.77               44279   \n",
       "2013-03-07 05:58:40.110549                   -                   -   \n",
       "\n",
       "                                          fuid  id.orig_p  id.resp_p  \\\n",
       "2013-03-07 05:58:39.873228                   -     1040.0       21.0   \n",
       "2013-03-07 05:58:40.110549  F0Lt5h2pYsjpmv03el     1040.0       21.0   \n",
       "\n",
       "                           mime_type  reply_code  \\\n",
       "2013-03-07 05:58:39.873228         -       227.0   \n",
       "2013-03-07 05:58:40.110549    binary       226.0   \n",
       "\n",
       "                                                                 reply_msg  \\\n",
       "2013-03-07 05:58:39.873228  Entering Passive Mode (193,109,247,77,172,247)   \n",
       "2013-03-07 05:58:40.110549                                         Logout.   \n",
       "\n",
       "                                                                  sample  \\\n",
       "2013-03-07 05:58:39.873228  BIN_UStealD_2b796f11f15e8c73f8f69180cf74b39d   \n",
       "2013-03-07 05:58:40.110549  BIN_UStealD_2b796f11f15e8c73f8f69180cf74b39d   \n",
       "\n",
       "                           threat                uid  \n",
       "2013-03-07 05:58:39.873228  CRIME  CD9RqvrS2B3ppkDXf  \n",
       "2013-03-07 05:58:40.110549  CRIME  CD9RqvrS2B3ppkDXf  "
      ]
     },
     "execution_count": 155,
     "metadata": {},
     "output_type": "execute_result"
    }
   ],
   "source": [
    "ftpdf.drop('ts', axis=1, inplace=True)\n",
    "ftpdf.drop('file_size', axis=1, inplace=True)\n",
    "ftpdf.drop('id.orig_h', axis=1, inplace=True)\n",
    "ftpdf.drop('id.resp_h', axis=1, inplace=True)\n",
    "ftpdf.drop('password', axis=1, inplace=True)\n",
    "ftpdf.drop('user', axis=1, inplace=True)\n",
    "ftpdf.head()"
   ]
  },
  {
   "cell_type": "markdown",
   "metadata": {},
   "source": [
    "### http.log"
   ]
  },
  {
   "cell_type": "code",
   "execution_count": 174,
   "metadata": {},
   "outputs": [
    {
     "data": {
      "text/html": [
       "<div>\n",
       "<style>\n",
       "    .dataframe thead tr:only-child th {\n",
       "        text-align: right;\n",
       "    }\n",
       "\n",
       "    .dataframe thead th {\n",
       "        text-align: left;\n",
       "    }\n",
       "\n",
       "    .dataframe tbody tr th {\n",
       "        vertical-align: top;\n",
       "    }\n",
       "</style>\n",
       "<table border=\"1\" class=\"dataframe\">\n",
       "  <thead>\n",
       "    <tr style=\"text-align: right;\">\n",
       "      <th></th>\n",
       "      <th>filename</th>\n",
       "      <th>host</th>\n",
       "      <th>id.orig_h</th>\n",
       "      <th>id.orig_p</th>\n",
       "      <th>id.resp_h</th>\n",
       "      <th>id.resp_p</th>\n",
       "      <th>info_code</th>\n",
       "      <th>info_msg</th>\n",
       "      <th>method</th>\n",
       "      <th>orig_fuids</th>\n",
       "      <th>...</th>\n",
       "      <th>status_code</th>\n",
       "      <th>status_msg</th>\n",
       "      <th>tags</th>\n",
       "      <th>threat</th>\n",
       "      <th>trans_depth</th>\n",
       "      <th>ts</th>\n",
       "      <th>uid</th>\n",
       "      <th>uri</th>\n",
       "      <th>user_agent</th>\n",
       "      <th>username</th>\n",
       "    </tr>\n",
       "  </thead>\n",
       "  <tbody>\n",
       "    <tr>\n",
       "      <th>2008-08-29 14:13:19.060122</th>\n",
       "      <td>-</td>\n",
       "      <td>freak</td>\n",
       "      <td>192.168.0.22</td>\n",
       "      <td>3590.0</td>\n",
       "      <td>192.168.0.15</td>\n",
       "      <td>80.0</td>\n",
       "      <td>-</td>\n",
       "      <td>-</td>\n",
       "      <td>GET</td>\n",
       "      <td>-</td>\n",
       "      <td>...</td>\n",
       "      <td>200</td>\n",
       "      <td>OK</td>\n",
       "      <td>(empty)</td>\n",
       "      <td>METASPLOIT</td>\n",
       "      <td>1.0</td>\n",
       "      <td>NaN</td>\n",
       "      <td>CPeRxP175U0yYVakOb</td>\n",
       "      <td>/spoil/4398.htm</td>\n",
       "      <td>Mozilla/4.0 (compatible; MSIE 7.0; Windows NT ...</td>\n",
       "      <td>-</td>\n",
       "    </tr>\n",
       "    <tr>\n",
       "      <th>2008-08-29 14:17:24.424171</th>\n",
       "      <td>-</td>\n",
       "      <td>freak</td>\n",
       "      <td>192.168.0.22</td>\n",
       "      <td>3750.0</td>\n",
       "      <td>192.168.0.15</td>\n",
       "      <td>80.0</td>\n",
       "      <td>-</td>\n",
       "      <td>-</td>\n",
       "      <td>GET</td>\n",
       "      <td>-</td>\n",
       "      <td>...</td>\n",
       "      <td>200</td>\n",
       "      <td>OK</td>\n",
       "      <td>(empty)</td>\n",
       "      <td>METASPLOIT</td>\n",
       "      <td>1.0</td>\n",
       "      <td>NaN</td>\n",
       "      <td>C7ihYF3xcZL9DKkei</td>\n",
       "      <td>/spoil/4752.htm</td>\n",
       "      <td>Mozilla/4.0 (compatible; MSIE 7.0; Windows NT ...</td>\n",
       "      <td>-</td>\n",
       "    </tr>\n",
       "    <tr>\n",
       "      <th>2008-08-29 14:18:47.259045</th>\n",
       "      <td>-</td>\n",
       "      <td>freak</td>\n",
       "      <td>192.168.0.22</td>\n",
       "      <td>3817.0</td>\n",
       "      <td>192.168.0.15</td>\n",
       "      <td>80.0</td>\n",
       "      <td>-</td>\n",
       "      <td>-</td>\n",
       "      <td>GET</td>\n",
       "      <td>-</td>\n",
       "      <td>...</td>\n",
       "      <td>200</td>\n",
       "      <td>OK</td>\n",
       "      <td>(empty)</td>\n",
       "      <td>METASPLOIT</td>\n",
       "      <td>1.0</td>\n",
       "      <td>NaN</td>\n",
       "      <td>CNHkrR3vyXKjNqqqgh</td>\n",
       "      <td>/spoil/4903.htm</td>\n",
       "      <td>Mozilla/4.0 (compatible; MSIE 7.0; Windows NT ...</td>\n",
       "      <td>-</td>\n",
       "    </tr>\n",
       "    <tr>\n",
       "      <th>2008-08-29 14:20:28.467682</th>\n",
       "      <td>-</td>\n",
       "      <td>freak</td>\n",
       "      <td>192.168.0.22</td>\n",
       "      <td>3912.0</td>\n",
       "      <td>192.168.0.15</td>\n",
       "      <td>80.0</td>\n",
       "      <td>-</td>\n",
       "      <td>-</td>\n",
       "      <td>GET</td>\n",
       "      <td>-</td>\n",
       "      <td>...</td>\n",
       "      <td>200</td>\n",
       "      <td>OK</td>\n",
       "      <td>(empty)</td>\n",
       "      <td>METASPLOIT</td>\n",
       "      <td>1.0</td>\n",
       "      <td>NaN</td>\n",
       "      <td>CGAPRy3uHLtMEv0hh4</td>\n",
       "      <td>/spoil/5045.htm</td>\n",
       "      <td>Mozilla/4.0 (compatible; MSIE 7.0; Windows NT ...</td>\n",
       "      <td>-</td>\n",
       "    </tr>\n",
       "    <tr>\n",
       "      <th>2008-08-29 14:20:32.930681</th>\n",
       "      <td>-</td>\n",
       "      <td>freak</td>\n",
       "      <td>192.168.0.22</td>\n",
       "      <td>3917.0</td>\n",
       "      <td>192.168.0.15</td>\n",
       "      <td>80.0</td>\n",
       "      <td>-</td>\n",
       "      <td>-</td>\n",
       "      <td>GET</td>\n",
       "      <td>-</td>\n",
       "      <td>...</td>\n",
       "      <td>200</td>\n",
       "      <td>OK</td>\n",
       "      <td>(empty)</td>\n",
       "      <td>METASPLOIT</td>\n",
       "      <td>1.0</td>\n",
       "      <td>NaN</td>\n",
       "      <td>CUBJsy3BQVEkizsKtc</td>\n",
       "      <td>/spoil/5048.htm</td>\n",
       "      <td>Mozilla/4.0 (compatible; MSIE 7.0; Windows NT ...</td>\n",
       "      <td>-</td>\n",
       "    </tr>\n",
       "  </tbody>\n",
       "</table>\n",
       "<p>5 rows × 29 columns</p>\n",
       "</div>"
      ],
      "text/plain": [
       "                           filename   host     id.orig_h  id.orig_p  \\\n",
       "2008-08-29 14:13:19.060122        -  freak  192.168.0.22     3590.0   \n",
       "2008-08-29 14:17:24.424171        -  freak  192.168.0.22     3750.0   \n",
       "2008-08-29 14:18:47.259045        -  freak  192.168.0.22     3817.0   \n",
       "2008-08-29 14:20:28.467682        -  freak  192.168.0.22     3912.0   \n",
       "2008-08-29 14:20:32.930681        -  freak  192.168.0.22     3917.0   \n",
       "\n",
       "                               id.resp_h  id.resp_p info_code info_msg method  \\\n",
       "2008-08-29 14:13:19.060122  192.168.0.15       80.0         -        -    GET   \n",
       "2008-08-29 14:17:24.424171  192.168.0.15       80.0         -        -    GET   \n",
       "2008-08-29 14:18:47.259045  192.168.0.15       80.0         -        -    GET   \n",
       "2008-08-29 14:20:28.467682  192.168.0.15       80.0         -        -    GET   \n",
       "2008-08-29 14:20:32.930681  192.168.0.15       80.0         -        -    GET   \n",
       "\n",
       "                           orig_fuids   ...    status_code status_msg  \\\n",
       "2008-08-29 14:13:19.060122          -   ...            200         OK   \n",
       "2008-08-29 14:17:24.424171          -   ...            200         OK   \n",
       "2008-08-29 14:18:47.259045          -   ...            200         OK   \n",
       "2008-08-29 14:20:28.467682          -   ...            200         OK   \n",
       "2008-08-29 14:20:32.930681          -   ...            200         OK   \n",
       "\n",
       "                               tags      threat  trans_depth   ts  \\\n",
       "2008-08-29 14:13:19.060122  (empty)  METASPLOIT          1.0  NaN   \n",
       "2008-08-29 14:17:24.424171  (empty)  METASPLOIT          1.0  NaN   \n",
       "2008-08-29 14:18:47.259045  (empty)  METASPLOIT          1.0  NaN   \n",
       "2008-08-29 14:20:28.467682  (empty)  METASPLOIT          1.0  NaN   \n",
       "2008-08-29 14:20:32.930681  (empty)  METASPLOIT          1.0  NaN   \n",
       "\n",
       "                                           uid              uri  \\\n",
       "2008-08-29 14:13:19.060122  CPeRxP175U0yYVakOb  /spoil/4398.htm   \n",
       "2008-08-29 14:17:24.424171   C7ihYF3xcZL9DKkei  /spoil/4752.htm   \n",
       "2008-08-29 14:18:47.259045  CNHkrR3vyXKjNqqqgh  /spoil/4903.htm   \n",
       "2008-08-29 14:20:28.467682  CGAPRy3uHLtMEv0hh4  /spoil/5045.htm   \n",
       "2008-08-29 14:20:32.930681  CUBJsy3BQVEkizsKtc  /spoil/5048.htm   \n",
       "\n",
       "                                                                   user_agent  \\\n",
       "2008-08-29 14:13:19.060122  Mozilla/4.0 (compatible; MSIE 7.0; Windows NT ...   \n",
       "2008-08-29 14:17:24.424171  Mozilla/4.0 (compatible; MSIE 7.0; Windows NT ...   \n",
       "2008-08-29 14:18:47.259045  Mozilla/4.0 (compatible; MSIE 7.0; Windows NT ...   \n",
       "2008-08-29 14:20:28.467682  Mozilla/4.0 (compatible; MSIE 7.0; Windows NT ...   \n",
       "2008-08-29 14:20:32.930681  Mozilla/4.0 (compatible; MSIE 7.0; Windows NT ...   \n",
       "\n",
       "                           username  \n",
       "2008-08-29 14:13:19.060122        -  \n",
       "2008-08-29 14:17:24.424171        -  \n",
       "2008-08-29 14:18:47.259045        -  \n",
       "2008-08-29 14:20:28.467682        -  \n",
       "2008-08-29 14:20:32.930681        -  \n",
       "\n",
       "[5 rows x 29 columns]"
      ]
     },
     "execution_count": 174,
     "metadata": {},
     "output_type": "execute_result"
    }
   ],
   "source": [
    "httpdf.head(5)"
   ]
  },
  {
   "cell_type": "code",
   "execution_count": 156,
   "metadata": {},
   "outputs": [
    {
     "name": "stdout",
     "output_type": "stream",
     "text": [
      "<class 'pandas.core.frame.DataFrame'>\n",
      "DatetimeIndex: 22798 entries, 2008-08-29 14:13:19.060122 to 2013-09-25 22:22:33.001145\n",
      "Data columns (total 29 columns):\n",
      "filename             22798 non-null object\n",
      "host                 22798 non-null object\n",
      "id.orig_h            22798 non-null object\n",
      "id.orig_p            22798 non-null float64\n",
      "id.resp_h            22798 non-null object\n",
      "id.resp_p            22798 non-null float64\n",
      "info_code            22798 non-null object\n",
      "info_msg             22798 non-null object\n",
      "method               22798 non-null object\n",
      "orig_fuids           22798 non-null object\n",
      "orig_mime_types      22798 non-null object\n",
      "password             22798 non-null object\n",
      "proxied              22798 non-null object\n",
      "referrer             22798 non-null object\n",
      "request_body_len     22798 non-null float64\n",
      "resp_fuids           22798 non-null object\n",
      "resp_mime_types      22798 non-null object\n",
      "response_body_len    22798 non-null float64\n",
      "sample               22798 non-null object\n",
      "status_code          22798 non-null object\n",
      "status_msg           22798 non-null object\n",
      "tags                 22798 non-null object\n",
      "threat               22798 non-null object\n",
      "trans_depth          22798 non-null float64\n",
      "ts                   0 non-null object\n",
      "uid                  22798 non-null object\n",
      "uri                  22798 non-null object\n",
      "user_agent           22798 non-null object\n",
      "username             22798 non-null object\n",
      "dtypes: float64(5), object(24)\n",
      "memory usage: 5.2+ MB\n"
     ]
    }
   ],
   "source": [
    "httpdf.info()"
   ]
  },
  {
   "cell_type": "code",
   "execution_count": null,
   "metadata": {
    "collapsed": true
   },
   "outputs": [],
   "source": []
  },
  {
   "cell_type": "code",
   "execution_count": null,
   "metadata": {
    "collapsed": true
   },
   "outputs": [],
   "source": []
  },
  {
   "cell_type": "code",
   "execution_count": null,
   "metadata": {
    "collapsed": true
   },
   "outputs": [],
   "source": []
  },
  {
   "cell_type": "code",
   "execution_count": 20,
   "metadata": {},
   "outputs": [
    {
     "data": {
      "text/html": [
       "<div>\n",
       "<style>\n",
       "    .dataframe thead tr:only-child th {\n",
       "        text-align: right;\n",
       "    }\n",
       "\n",
       "    .dataframe thead th {\n",
       "        text-align: left;\n",
       "    }\n",
       "\n",
       "    .dataframe tbody tr th {\n",
       "        vertical-align: top;\n",
       "    }\n",
       "</style>\n",
       "<table border=\"1\" class=\"dataframe\">\n",
       "  <thead>\n",
       "    <tr style=\"text-align: right;\">\n",
       "      <th></th>\n",
       "      <th>actions</th>\n",
       "      <th>dropped</th>\n",
       "      <th>dst</th>\n",
       "      <th>file_desc</th>\n",
       "      <th>file_mime_type</th>\n",
       "      <th>fuid</th>\n",
       "      <th>id.orig_h</th>\n",
       "      <th>id.orig_p</th>\n",
       "      <th>id.resp_h</th>\n",
       "      <th>id.resp_p</th>\n",
       "      <th>...</th>\n",
       "      <th>remote_location.country_code</th>\n",
       "      <th>remote_location.latitude</th>\n",
       "      <th>remote_location.longitude</th>\n",
       "      <th>remote_location.region</th>\n",
       "      <th>sample</th>\n",
       "      <th>src</th>\n",
       "      <th>sub</th>\n",
       "      <th>suppress_for</th>\n",
       "      <th>threat</th>\n",
       "      <th>uid</th>\n",
       "    </tr>\n",
       "  </thead>\n",
       "  <tbody>\n",
       "    <tr>\n",
       "      <th>2013-01-05 22:33:52.306981</th>\n",
       "      <td>Notice::ACTION_LOG</td>\n",
       "      <td>F</td>\n",
       "      <td>173.231.54.69</td>\n",
       "      <td>-</td>\n",
       "      <td>-</td>\n",
       "      <td>-</td>\n",
       "      <td>172.16.253.129</td>\n",
       "      <td>1144</td>\n",
       "      <td>173.231.54.69</td>\n",
       "      <td>443</td>\n",
       "      <td>...</td>\n",
       "      <td>-</td>\n",
       "      <td>-</td>\n",
       "      <td>-</td>\n",
       "      <td>-</td>\n",
       "      <td>BIN_Enfal_Lurid_0fb1b0833f723682346041d72ed112...</td>\n",
       "      <td>172.16.253.129</td>\n",
       "      <td>emailAddress=root@10_01.lvqiucai,CN=10_01.lvqi...</td>\n",
       "      <td>3600.0</td>\n",
       "      <td>APT</td>\n",
       "      <td>CA8hE83VihcR5GQhfl</td>\n",
       "    </tr>\n",
       "    <tr>\n",
       "      <th>2013-02-03 21:50:15.936942</th>\n",
       "      <td>Notice::ACTION_LOG</td>\n",
       "      <td>F</td>\n",
       "      <td>96.44.136.98</td>\n",
       "      <td>-</td>\n",
       "      <td>-</td>\n",
       "      <td>-</td>\n",
       "      <td>172.16.253.130</td>\n",
       "      <td>1068</td>\n",
       "      <td>96.44.136.98</td>\n",
       "      <td>443</td>\n",
       "      <td>...</td>\n",
       "      <td>-</td>\n",
       "      <td>-</td>\n",
       "      <td>-</td>\n",
       "      <td>-</td>\n",
       "      <td>BIN_TrojanPage_86893886C7CBC7310F7675F4EFDE0A29</td>\n",
       "      <td>172.16.253.130</td>\n",
       "      <td>CN=eric-office</td>\n",
       "      <td>3600.0</td>\n",
       "      <td>APT</td>\n",
       "      <td>CbjBsy1JWM4tZOK96h</td>\n",
       "    </tr>\n",
       "    <tr>\n",
       "      <th>2012-03-04 01:48:35.169930</th>\n",
       "      <td>Notice::ACTION_LOG</td>\n",
       "      <td>F</td>\n",
       "      <td>199.192.156.134</td>\n",
       "      <td>-</td>\n",
       "      <td>-</td>\n",
       "      <td>-</td>\n",
       "      <td>10.0.2.15</td>\n",
       "      <td>1381</td>\n",
       "      <td>199.192.156.134</td>\n",
       "      <td>443</td>\n",
       "      <td>...</td>\n",
       "      <td>-</td>\n",
       "      <td>-</td>\n",
       "      <td>-</td>\n",
       "      <td>-</td>\n",
       "      <td>Mswab_Yayih_FD1BE09E499E8E380424B3835FC973A8_2...</td>\n",
       "      <td>10.0.2.15</td>\n",
       "      <td>POST /bbs/info.asp HTTP/1.1^M^JHost: 199.192.1...</td>\n",
       "      <td>3600.0</td>\n",
       "      <td>APT</td>\n",
       "      <td>CjRS9R3lXpmpB3zoM1</td>\n",
       "    </tr>\n",
       "    <tr>\n",
       "      <th>2011-12-07 12:53:01.030172</th>\n",
       "      <td>Notice::ACTION_LOG</td>\n",
       "      <td>F</td>\n",
       "      <td>71.36.88.82</td>\n",
       "      <td>-</td>\n",
       "      <td>-</td>\n",
       "      <td>-</td>\n",
       "      <td>192.168.248.135</td>\n",
       "      <td>1080</td>\n",
       "      <td>71.36.88.82</td>\n",
       "      <td>443</td>\n",
       "      <td>...</td>\n",
       "      <td>-</td>\n",
       "      <td>-</td>\n",
       "      <td>-</td>\n",
       "      <td>-</td>\n",
       "      <td>PDF_CVE-2011-2462_Pdf_2011-12</td>\n",
       "      <td>192.168.248.135</td>\n",
       "      <td>emailAddress=marry.smith@ltu.edu,CN=ITU Server...</td>\n",
       "      <td>3600.0</td>\n",
       "      <td>APT</td>\n",
       "      <td>CvK5cnUyfWRYthydh</td>\n",
       "    </tr>\n",
       "    <tr>\n",
       "      <th>2012-10-04 10:27:06.802839</th>\n",
       "      <td>Notice::ACTION_LOG</td>\n",
       "      <td>F</td>\n",
       "      <td>62.65.252.16</td>\n",
       "      <td>-</td>\n",
       "      <td>-</td>\n",
       "      <td>-</td>\n",
       "      <td>192.168.248.165</td>\n",
       "      <td>1113</td>\n",
       "      <td>62.65.252.16</td>\n",
       "      <td>443</td>\n",
       "      <td>...</td>\n",
       "      <td>-</td>\n",
       "      <td>-</td>\n",
       "      <td>-</td>\n",
       "      <td>-</td>\n",
       "      <td>BIN_Cutwail-Pushdo(1)_582DE032477E099EB1024D84...</td>\n",
       "      <td>192.168.248.165</td>\n",
       "      <td>emailAddress=root@localhost.localdomain,CN=loc...</td>\n",
       "      <td>3600.0</td>\n",
       "      <td>CRIME</td>\n",
       "      <td>C3Z4pO1ogbk64yr3l3</td>\n",
       "    </tr>\n",
       "  </tbody>\n",
       "</table>\n",
       "<p>5 rows × 27 columns</p>\n",
       "</div>"
      ],
      "text/plain": [
       "                                       actions dropped              dst  \\\n",
       "2013-01-05 22:33:52.306981  Notice::ACTION_LOG       F    173.231.54.69   \n",
       "2013-02-03 21:50:15.936942  Notice::ACTION_LOG       F     96.44.136.98   \n",
       "2012-03-04 01:48:35.169930  Notice::ACTION_LOG       F  199.192.156.134   \n",
       "2011-12-07 12:53:01.030172  Notice::ACTION_LOG       F      71.36.88.82   \n",
       "2012-10-04 10:27:06.802839  Notice::ACTION_LOG       F     62.65.252.16   \n",
       "\n",
       "                           file_desc file_mime_type fuid        id.orig_h  \\\n",
       "2013-01-05 22:33:52.306981         -              -    -   172.16.253.129   \n",
       "2013-02-03 21:50:15.936942         -              -    -   172.16.253.130   \n",
       "2012-03-04 01:48:35.169930         -              -    -        10.0.2.15   \n",
       "2011-12-07 12:53:01.030172         -              -    -  192.168.248.135   \n",
       "2012-10-04 10:27:06.802839         -              -    -  192.168.248.165   \n",
       "\n",
       "                           id.orig_p        id.resp_h id.resp_p  \\\n",
       "2013-01-05 22:33:52.306981      1144    173.231.54.69       443   \n",
       "2013-02-03 21:50:15.936942      1068     96.44.136.98       443   \n",
       "2012-03-04 01:48:35.169930      1381  199.192.156.134       443   \n",
       "2011-12-07 12:53:01.030172      1080      71.36.88.82       443   \n",
       "2012-10-04 10:27:06.802839      1113     62.65.252.16       443   \n",
       "\n",
       "                                   ...         remote_location.country_code  \\\n",
       "2013-01-05 22:33:52.306981         ...                                    -   \n",
       "2013-02-03 21:50:15.936942         ...                                    -   \n",
       "2012-03-04 01:48:35.169930         ...                                    -   \n",
       "2011-12-07 12:53:01.030172         ...                                    -   \n",
       "2012-10-04 10:27:06.802839         ...                                    -   \n",
       "\n",
       "                           remote_location.latitude remote_location.longitude  \\\n",
       "2013-01-05 22:33:52.306981                        -                         -   \n",
       "2013-02-03 21:50:15.936942                        -                         -   \n",
       "2012-03-04 01:48:35.169930                        -                         -   \n",
       "2011-12-07 12:53:01.030172                        -                         -   \n",
       "2012-10-04 10:27:06.802839                        -                         -   \n",
       "\n",
       "                            remote_location.region  \\\n",
       "2013-01-05 22:33:52.306981                       -   \n",
       "2013-02-03 21:50:15.936942                       -   \n",
       "2012-03-04 01:48:35.169930                       -   \n",
       "2011-12-07 12:53:01.030172                       -   \n",
       "2012-10-04 10:27:06.802839                       -   \n",
       "\n",
       "                                                                       sample  \\\n",
       "2013-01-05 22:33:52.306981  BIN_Enfal_Lurid_0fb1b0833f723682346041d72ed112...   \n",
       "2013-02-03 21:50:15.936942    BIN_TrojanPage_86893886C7CBC7310F7675F4EFDE0A29   \n",
       "2012-03-04 01:48:35.169930  Mswab_Yayih_FD1BE09E499E8E380424B3835FC973A8_2...   \n",
       "2011-12-07 12:53:01.030172                      PDF_CVE-2011-2462_Pdf_2011-12   \n",
       "2012-10-04 10:27:06.802839  BIN_Cutwail-Pushdo(1)_582DE032477E099EB1024D84...   \n",
       "\n",
       "                                        src  \\\n",
       "2013-01-05 22:33:52.306981   172.16.253.129   \n",
       "2013-02-03 21:50:15.936942   172.16.253.130   \n",
       "2012-03-04 01:48:35.169930        10.0.2.15   \n",
       "2011-12-07 12:53:01.030172  192.168.248.135   \n",
       "2012-10-04 10:27:06.802839  192.168.248.165   \n",
       "\n",
       "                                                                          sub  \\\n",
       "2013-01-05 22:33:52.306981  emailAddress=root@10_01.lvqiucai,CN=10_01.lvqi...   \n",
       "2013-02-03 21:50:15.936942                                     CN=eric-office   \n",
       "2012-03-04 01:48:35.169930  POST /bbs/info.asp HTTP/1.1^M^JHost: 199.192.1...   \n",
       "2011-12-07 12:53:01.030172  emailAddress=marry.smith@ltu.edu,CN=ITU Server...   \n",
       "2012-10-04 10:27:06.802839  emailAddress=root@localhost.localdomain,CN=loc...   \n",
       "\n",
       "                           suppress_for threat                 uid  \n",
       "2013-01-05 22:33:52.306981       3600.0    APT  CA8hE83VihcR5GQhfl  \n",
       "2013-02-03 21:50:15.936942       3600.0    APT  CbjBsy1JWM4tZOK96h  \n",
       "2012-03-04 01:48:35.169930       3600.0    APT  CjRS9R3lXpmpB3zoM1  \n",
       "2011-12-07 12:53:01.030172       3600.0    APT   CvK5cnUyfWRYthydh  \n",
       "2012-10-04 10:27:06.802839       3600.0  CRIME  C3Z4pO1ogbk64yr3l3  \n",
       "\n",
       "[5 rows x 27 columns]"
      ]
     },
     "execution_count": 20,
     "metadata": {},
     "output_type": "execute_result"
    }
   ],
   "source": [
    "noticedf.head()"
   ]
  },
  {
   "cell_type": "code",
   "execution_count": 21,
   "metadata": {},
   "outputs": [
    {
     "data": {
      "text/html": [
       "<div>\n",
       "<style>\n",
       "    .dataframe thead tr:only-child th {\n",
       "        text-align: right;\n",
       "    }\n",
       "\n",
       "    .dataframe thead th {\n",
       "        text-align: left;\n",
       "    }\n",
       "\n",
       "    .dataframe tbody tr th {\n",
       "        vertical-align: top;\n",
       "    }\n",
       "</style>\n",
       "<table border=\"1\" class=\"dataframe\">\n",
       "  <thead>\n",
       "    <tr style=\"text-align: right;\">\n",
       "      <th></th>\n",
       "      <th>dst_addr</th>\n",
       "      <th>dst_port</th>\n",
       "      <th>event_msg</th>\n",
       "      <th>host_count</th>\n",
       "      <th>note</th>\n",
       "      <th>sample</th>\n",
       "      <th>sig_count</th>\n",
       "      <th>sig_id</th>\n",
       "      <th>src_addr</th>\n",
       "      <th>src_port</th>\n",
       "      <th>sub_msg</th>\n",
       "      <th>threat</th>\n",
       "    </tr>\n",
       "  </thead>\n",
       "  <tbody>\n",
       "    <tr>\n",
       "      <th>2012-03-04 01:48:35.169930</th>\n",
       "      <td>199.192.156.134</td>\n",
       "      <td>443.0</td>\n",
       "      <td>10.0.2.15: ATTACK-RESPONSES Microsoft cmd.exe ...</td>\n",
       "      <td>-</td>\n",
       "      <td>Signatures::Sensitive_Signature</td>\n",
       "      <td>Mswab_Yayih_FD1BE09E499E8E380424B3835FC973A8_2...</td>\n",
       "      <td>-</td>\n",
       "      <td>windows_reverse_shell</td>\n",
       "      <td>10.0.2.15</td>\n",
       "      <td>1381.0</td>\n",
       "      <td>POST /bbs/info.asp HTTP/1.1^M^JHost: 199.192.1...</td>\n",
       "      <td>APT</td>\n",
       "    </tr>\n",
       "  </tbody>\n",
       "</table>\n",
       "</div>"
      ],
      "text/plain": [
       "                                   dst_addr  dst_port  \\\n",
       "2012-03-04 01:48:35.169930  199.192.156.134     443.0   \n",
       "\n",
       "                                                                    event_msg  \\\n",
       "2012-03-04 01:48:35.169930  10.0.2.15: ATTACK-RESPONSES Microsoft cmd.exe ...   \n",
       "\n",
       "                           host_count                             note  \\\n",
       "2012-03-04 01:48:35.169930          -  Signatures::Sensitive_Signature   \n",
       "\n",
       "                                                                       sample  \\\n",
       "2012-03-04 01:48:35.169930  Mswab_Yayih_FD1BE09E499E8E380424B3835FC973A8_2...   \n",
       "\n",
       "                           sig_count                 sig_id   src_addr  \\\n",
       "2012-03-04 01:48:35.169930         -  windows_reverse_shell  10.0.2.15   \n",
       "\n",
       "                            src_port  \\\n",
       "2012-03-04 01:48:35.169930    1381.0   \n",
       "\n",
       "                                                                      sub_msg  \\\n",
       "2012-03-04 01:48:35.169930  POST /bbs/info.asp HTTP/1.1^M^JHost: 199.192.1...   \n",
       "\n",
       "                           threat  \n",
       "2012-03-04 01:48:35.169930    APT  "
      ]
     },
     "execution_count": 21,
     "metadata": {},
     "output_type": "execute_result"
    }
   ],
   "source": [
    "sigdf.head() # only 1 record"
   ]
  },
  {
   "cell_type": "code",
   "execution_count": 24,
   "metadata": {},
   "outputs": [
    {
     "data": {
      "text/html": [
       "<div>\n",
       "<style>\n",
       "    .dataframe thead tr:only-child th {\n",
       "        text-align: right;\n",
       "    }\n",
       "\n",
       "    .dataframe thead th {\n",
       "        text-align: left;\n",
       "    }\n",
       "\n",
       "    .dataframe tbody tr th {\n",
       "        vertical-align: top;\n",
       "    }\n",
       "</style>\n",
       "<table border=\"1\" class=\"dataframe\">\n",
       "  <thead>\n",
       "    <tr style=\"text-align: right;\">\n",
       "      <th></th>\n",
       "      <th>date</th>\n",
       "      <th>first_received</th>\n",
       "      <th>from</th>\n",
       "      <th>fuids</th>\n",
       "      <th>helo</th>\n",
       "      <th>id.orig_h</th>\n",
       "      <th>id.orig_p</th>\n",
       "      <th>id.resp_h</th>\n",
       "      <th>id.resp_p</th>\n",
       "      <th>in_reply_to</th>\n",
       "      <th>...</th>\n",
       "      <th>reply_to</th>\n",
       "      <th>sample</th>\n",
       "      <th>second_received</th>\n",
       "      <th>subject</th>\n",
       "      <th>threat</th>\n",
       "      <th>to</th>\n",
       "      <th>trans_depth</th>\n",
       "      <th>uid</th>\n",
       "      <th>user_agent</th>\n",
       "      <th>x_originating_ip</th>\n",
       "    </tr>\n",
       "  </thead>\n",
       "  <tbody>\n",
       "    <tr>\n",
       "      <th>2012-10-07 11:41:30.928559</th>\n",
       "      <td>-</td>\n",
       "      <td>-</td>\n",
       "      <td>-</td>\n",
       "      <td>(empty)</td>\n",
       "      <td>comxp</td>\n",
       "      <td>172.16.253.129</td>\n",
       "      <td>1138.0</td>\n",
       "      <td>119.161.5.253</td>\n",
       "      <td>25.0</td>\n",
       "      <td>-</td>\n",
       "      <td>...</td>\n",
       "      <td>-</td>\n",
       "      <td>BIN_Sanny-Daws_338D0B855421867732E05399A2D5667...</td>\n",
       "      <td>-</td>\n",
       "      <td>-</td>\n",
       "      <td>APT</td>\n",
       "      <td>-</td>\n",
       "      <td>1.0</td>\n",
       "      <td>CftBECCezhXLmn0mk</td>\n",
       "      <td>-</td>\n",
       "      <td>-</td>\n",
       "    </tr>\n",
       "    <tr>\n",
       "      <th>2012-10-07 11:41:25.734884</th>\n",
       "      <td>-</td>\n",
       "      <td>-</td>\n",
       "      <td>-</td>\n",
       "      <td>(empty)</td>\n",
       "      <td>comxp</td>\n",
       "      <td>172.16.253.129</td>\n",
       "      <td>1136.0</td>\n",
       "      <td>119.161.5.253</td>\n",
       "      <td>25.0</td>\n",
       "      <td>-</td>\n",
       "      <td>...</td>\n",
       "      <td>-</td>\n",
       "      <td>BIN_Sanny-Daws_338D0B855421867732E05399A2D5667...</td>\n",
       "      <td>-</td>\n",
       "      <td>-</td>\n",
       "      <td>APT</td>\n",
       "      <td>-</td>\n",
       "      <td>1.0</td>\n",
       "      <td>CbTJom4G7Z1VlFRTQ2</td>\n",
       "      <td>-</td>\n",
       "      <td>-</td>\n",
       "    </tr>\n",
       "    <tr>\n",
       "      <th>2013-02-03 17:21:34.988497</th>\n",
       "      <td>Thu, 6 Jun 2013 9:46:41 --0400</td>\n",
       "      <td>-</td>\n",
       "      <td>&lt;linux06400@yahoo.com&gt;</td>\n",
       "      <td>FzYuGG1z0tXTRdpYYa,FhyrAm2El1XO5EppKb,Fl1Nbz4c...</td>\n",
       "      <td>DELLXT</td>\n",
       "      <td>172.16.253.129</td>\n",
       "      <td>1043.0</td>\n",
       "      <td>63.250.193.228</td>\n",
       "      <td>587.0</td>\n",
       "      <td>-</td>\n",
       "      <td>...</td>\n",
       "      <td>-</td>\n",
       "      <td>BIN_ArdamaxKeylogger_E33AF9E602CBB7AC3634C2608...</td>\n",
       "      <td>-</td>\n",
       "      <td>Logs from \"Laura\"</td>\n",
       "      <td>CRIME</td>\n",
       "      <td>&lt;linux06400@yahoo.com&gt;</td>\n",
       "      <td>1.0</td>\n",
       "      <td>CTnh6S15ye0PetpT37</td>\n",
       "      <td>Microsoft Outlook Express 6.00.2900.2527</td>\n",
       "      <td>-</td>\n",
       "    </tr>\n",
       "    <tr>\n",
       "      <th>2012-10-04 10:31:21.846949</th>\n",
       "      <td>Fri, 05 Jul 2013  10:44:58 -0400</td>\n",
       "      <td>-</td>\n",
       "      <td>Next Day Air Saver &lt;message_id16@olgapost.com&gt;</td>\n",
       "      <td>F7H5tDVaYoYDcVV17,FOkGj71hWX7IW97PJf</td>\n",
       "      <td>olgapost.com</td>\n",
       "      <td>192.168.248.165</td>\n",
       "      <td>1136.0</td>\n",
       "      <td>65.54.188.72</td>\n",
       "      <td>25.0</td>\n",
       "      <td>-</td>\n",
       "      <td>...</td>\n",
       "      <td>-</td>\n",
       "      <td>BIN_Kuluoz-Asprox_9F842AD20C50AD1AAB41F20B321B...</td>\n",
       "      <td>-</td>\n",
       "      <td>Delivery Status Notification</td>\n",
       "      <td>CRIME</td>\n",
       "      <td>&lt;wackcircadian@hotmail.com&gt;</td>\n",
       "      <td>1.0</td>\n",
       "      <td>CgRXC74fB2u221w76</td>\n",
       "      <td>Microsoft Outlook Express 6.00.2900.2180</td>\n",
       "      <td>-</td>\n",
       "    </tr>\n",
       "    <tr>\n",
       "      <th>2012-10-04 10:31:21.851972</th>\n",
       "      <td>Fri, 05 Jul 2013  10:44:58 -0400</td>\n",
       "      <td>-</td>\n",
       "      <td>Expedited Shipping &lt;federal_id27@scooterspost....</td>\n",
       "      <td>FycO1144ov4qK4VXZ7,FClo3r2q71JhTXDjF2</td>\n",
       "      <td>scooterspost.com</td>\n",
       "      <td>192.168.248.165</td>\n",
       "      <td>1140.0</td>\n",
       "      <td>65.55.37.120</td>\n",
       "      <td>25.0</td>\n",
       "      <td>-</td>\n",
       "      <td>...</td>\n",
       "      <td>-</td>\n",
       "      <td>BIN_Kuluoz-Asprox_9F842AD20C50AD1AAB41F20B321B...</td>\n",
       "      <td>-</td>\n",
       "      <td>Delivery Status Notification ID#EN55073086P</td>\n",
       "      <td>CRIME</td>\n",
       "      <td>&lt;wackaloonusa@hotmail.com&gt;</td>\n",
       "      <td>1.0</td>\n",
       "      <td>CXa3qf4JoCVQyjmEG</td>\n",
       "      <td>Microsoft Outlook Express 6.00.2900.2180</td>\n",
       "      <td>-</td>\n",
       "    </tr>\n",
       "  </tbody>\n",
       "</table>\n",
       "<p>5 rows × 26 columns</p>\n",
       "</div>"
      ],
      "text/plain": [
       "                                                        date first_received  \\\n",
       "2012-10-07 11:41:30.928559                                 -              -   \n",
       "2012-10-07 11:41:25.734884                                 -              -   \n",
       "2013-02-03 17:21:34.988497    Thu, 6 Jun 2013 9:46:41 --0400              -   \n",
       "2012-10-04 10:31:21.846949  Fri, 05 Jul 2013  10:44:58 -0400              -   \n",
       "2012-10-04 10:31:21.851972  Fri, 05 Jul 2013  10:44:58 -0400              -   \n",
       "\n",
       "                                                                         from  \\\n",
       "2012-10-07 11:41:30.928559                                                  -   \n",
       "2012-10-07 11:41:25.734884                                                  -   \n",
       "2013-02-03 17:21:34.988497                             <linux06400@yahoo.com>   \n",
       "2012-10-04 10:31:21.846949     Next Day Air Saver <message_id16@olgapost.com>   \n",
       "2012-10-04 10:31:21.851972  Expedited Shipping <federal_id27@scooterspost....   \n",
       "\n",
       "                                                                        fuids  \\\n",
       "2012-10-07 11:41:30.928559                                            (empty)   \n",
       "2012-10-07 11:41:25.734884                                            (empty)   \n",
       "2013-02-03 17:21:34.988497  FzYuGG1z0tXTRdpYYa,FhyrAm2El1XO5EppKb,Fl1Nbz4c...   \n",
       "2012-10-04 10:31:21.846949               F7H5tDVaYoYDcVV17,FOkGj71hWX7IW97PJf   \n",
       "2012-10-04 10:31:21.851972              FycO1144ov4qK4VXZ7,FClo3r2q71JhTXDjF2   \n",
       "\n",
       "                                        helo        id.orig_h  id.orig_p  \\\n",
       "2012-10-07 11:41:30.928559             comxp   172.16.253.129     1138.0   \n",
       "2012-10-07 11:41:25.734884             comxp   172.16.253.129     1136.0   \n",
       "2013-02-03 17:21:34.988497            DELLXT   172.16.253.129     1043.0   \n",
       "2012-10-04 10:31:21.846949      olgapost.com  192.168.248.165     1136.0   \n",
       "2012-10-04 10:31:21.851972  scooterspost.com  192.168.248.165     1140.0   \n",
       "\n",
       "                                 id.resp_h  id.resp_p in_reply_to  \\\n",
       "2012-10-07 11:41:30.928559   119.161.5.253       25.0           -   \n",
       "2012-10-07 11:41:25.734884   119.161.5.253       25.0           -   \n",
       "2013-02-03 17:21:34.988497  63.250.193.228      587.0           -   \n",
       "2012-10-04 10:31:21.846949    65.54.188.72       25.0           -   \n",
       "2012-10-04 10:31:21.851972    65.55.37.120       25.0           -   \n",
       "\n",
       "                                 ...        reply_to  \\\n",
       "2012-10-07 11:41:30.928559       ...               -   \n",
       "2012-10-07 11:41:25.734884       ...               -   \n",
       "2013-02-03 17:21:34.988497       ...               -   \n",
       "2012-10-04 10:31:21.846949       ...               -   \n",
       "2012-10-04 10:31:21.851972       ...               -   \n",
       "\n",
       "                                                                       sample  \\\n",
       "2012-10-07 11:41:30.928559  BIN_Sanny-Daws_338D0B855421867732E05399A2D5667...   \n",
       "2012-10-07 11:41:25.734884  BIN_Sanny-Daws_338D0B855421867732E05399A2D5667...   \n",
       "2013-02-03 17:21:34.988497  BIN_ArdamaxKeylogger_E33AF9E602CBB7AC3634C2608...   \n",
       "2012-10-04 10:31:21.846949  BIN_Kuluoz-Asprox_9F842AD20C50AD1AAB41F20B321B...   \n",
       "2012-10-04 10:31:21.851972  BIN_Kuluoz-Asprox_9F842AD20C50AD1AAB41F20B321B...   \n",
       "\n",
       "                           second_received  \\\n",
       "2012-10-07 11:41:30.928559               -   \n",
       "2012-10-07 11:41:25.734884               -   \n",
       "2013-02-03 17:21:34.988497               -   \n",
       "2012-10-04 10:31:21.846949               -   \n",
       "2012-10-04 10:31:21.851972               -   \n",
       "\n",
       "                                                                subject  \\\n",
       "2012-10-07 11:41:30.928559                                            -   \n",
       "2012-10-07 11:41:25.734884                                            -   \n",
       "2013-02-03 17:21:34.988497                            Logs from \"Laura\"   \n",
       "2012-10-04 10:31:21.846949                 Delivery Status Notification   \n",
       "2012-10-04 10:31:21.851972  Delivery Status Notification ID#EN55073086P   \n",
       "\n",
       "                           threat                           to trans_depth  \\\n",
       "2012-10-07 11:41:30.928559    APT                            -         1.0   \n",
       "2012-10-07 11:41:25.734884    APT                            -         1.0   \n",
       "2013-02-03 17:21:34.988497  CRIME       <linux06400@yahoo.com>         1.0   \n",
       "2012-10-04 10:31:21.846949  CRIME  <wackcircadian@hotmail.com>         1.0   \n",
       "2012-10-04 10:31:21.851972  CRIME   <wackaloonusa@hotmail.com>         1.0   \n",
       "\n",
       "                                           uid  \\\n",
       "2012-10-07 11:41:30.928559   CftBECCezhXLmn0mk   \n",
       "2012-10-07 11:41:25.734884  CbTJom4G7Z1VlFRTQ2   \n",
       "2013-02-03 17:21:34.988497  CTnh6S15ye0PetpT37   \n",
       "2012-10-04 10:31:21.846949   CgRXC74fB2u221w76   \n",
       "2012-10-04 10:31:21.851972   CXa3qf4JoCVQyjmEG   \n",
       "\n",
       "                                                          user_agent  \\\n",
       "2012-10-07 11:41:30.928559                                         -   \n",
       "2012-10-07 11:41:25.734884                                         -   \n",
       "2013-02-03 17:21:34.988497  Microsoft Outlook Express 6.00.2900.2527   \n",
       "2012-10-04 10:31:21.846949  Microsoft Outlook Express 6.00.2900.2180   \n",
       "2012-10-04 10:31:21.851972  Microsoft Outlook Express 6.00.2900.2180   \n",
       "\n",
       "                           x_originating_ip  \n",
       "2012-10-07 11:41:30.928559                -  \n",
       "2012-10-07 11:41:25.734884                -  \n",
       "2013-02-03 17:21:34.988497                -  \n",
       "2012-10-04 10:31:21.846949                -  \n",
       "2012-10-04 10:31:21.851972                -  \n",
       "\n",
       "[5 rows x 26 columns]"
      ]
     },
     "execution_count": 24,
     "metadata": {},
     "output_type": "execute_result"
    }
   ],
   "source": [
    "smtpdf.head(5)"
   ]
  },
  {
   "cell_type": "code",
   "execution_count": 25,
   "metadata": {},
   "outputs": [
    {
     "data": {
      "text/html": [
       "<div>\n",
       "<style>\n",
       "    .dataframe thead tr:only-child th {\n",
       "        text-align: right;\n",
       "    }\n",
       "\n",
       "    .dataframe thead th {\n",
       "        text-align: left;\n",
       "    }\n",
       "\n",
       "    .dataframe tbody tr th {\n",
       "        vertical-align: top;\n",
       "    }\n",
       "</style>\n",
       "<table border=\"1\" class=\"dataframe\">\n",
       "  <thead>\n",
       "    <tr style=\"text-align: right;\">\n",
       "      <th></th>\n",
       "      <th>cert_hash</th>\n",
       "      <th>cipher</th>\n",
       "      <th>client_issuer_subject</th>\n",
       "      <th>client_subject</th>\n",
       "      <th>id.orig_h</th>\n",
       "      <th>id.orig_p</th>\n",
       "      <th>id.resp_h</th>\n",
       "      <th>id.resp_p</th>\n",
       "      <th>issuer_subject</th>\n",
       "      <th>last_alert</th>\n",
       "      <th>not_valid_after</th>\n",
       "      <th>not_valid_before</th>\n",
       "      <th>sample</th>\n",
       "      <th>server_name</th>\n",
       "      <th>session_id</th>\n",
       "      <th>subject</th>\n",
       "      <th>threat</th>\n",
       "      <th>uid</th>\n",
       "      <th>validation_status</th>\n",
       "      <th>version</th>\n",
       "    </tr>\n",
       "  </thead>\n",
       "  <tbody>\n",
       "    <tr>\n",
       "      <th>2013-01-05 22:33:52.068830</th>\n",
       "      <td>d666a272910c12b764a297f1e63c35c7</td>\n",
       "      <td>TLS_RSA_WITH_RC4_128_MD5</td>\n",
       "      <td>-</td>\n",
       "      <td>-</td>\n",
       "      <td>172.16.253.129</td>\n",
       "      <td>1144.0</td>\n",
       "      <td>173.231.54.69</td>\n",
       "      <td>443.0</td>\n",
       "      <td>emailAddress=root@10_01.lvqiucai,CN=10_01.lvqi...</td>\n",
       "      <td>-</td>\n",
       "      <td>1370544430.000000</td>\n",
       "      <td>1339008430.000000</td>\n",
       "      <td>BIN_Enfal_Lurid_0fb1b0833f723682346041d72ed112...</td>\n",
       "      <td>-</td>\n",
       "      <td>-</td>\n",
       "      <td>emailAddress=root@10_01.lvqiucai,CN=10_01.lvqi...</td>\n",
       "      <td>APT</td>\n",
       "      <td>CA8hE83VihcR5GQhfl</td>\n",
       "      <td>self signed certificate</td>\n",
       "      <td>TLSv10</td>\n",
       "    </tr>\n",
       "    <tr>\n",
       "      <th>2013-01-05 22:33:53.736983</th>\n",
       "      <td>-</td>\n",
       "      <td>TLS_RSA_WITH_RC4_128_MD5</td>\n",
       "      <td>-</td>\n",
       "      <td>-</td>\n",
       "      <td>172.16.253.129</td>\n",
       "      <td>1146.0</td>\n",
       "      <td>173.231.54.69</td>\n",
       "      <td>443.0</td>\n",
       "      <td>-</td>\n",
       "      <td>-</td>\n",
       "      <td>-</td>\n",
       "      <td>-</td>\n",
       "      <td>BIN_Enfal_Lurid_0fb1b0833f723682346041d72ed112...</td>\n",
       "      <td>-</td>\n",
       "      <td>9ce8ba30850ef7ea6dbbd1d62b7d14f7ecad993264344d...</td>\n",
       "      <td>-</td>\n",
       "      <td>APT</td>\n",
       "      <td>CzpdEO1dnC8Zu1mLl</td>\n",
       "      <td>-</td>\n",
       "      <td>TLSv10</td>\n",
       "    </tr>\n",
       "    <tr>\n",
       "      <th>2013-01-05 22:35:55.292804</th>\n",
       "      <td>-</td>\n",
       "      <td>TLS_RSA_WITH_RC4_128_MD5</td>\n",
       "      <td>-</td>\n",
       "      <td>-</td>\n",
       "      <td>172.16.253.129</td>\n",
       "      <td>1147.0</td>\n",
       "      <td>173.231.54.69</td>\n",
       "      <td>443.0</td>\n",
       "      <td>-</td>\n",
       "      <td>-</td>\n",
       "      <td>-</td>\n",
       "      <td>-</td>\n",
       "      <td>BIN_Enfal_Lurid_0fb1b0833f723682346041d72ed112...</td>\n",
       "      <td>-</td>\n",
       "      <td>9ce8ba30850ef7ea6dbbd1d62b7d14f7ecad993264344d...</td>\n",
       "      <td>-</td>\n",
       "      <td>APT</td>\n",
       "      <td>C8wxx64kUnuCg4QBH5</td>\n",
       "      <td>-</td>\n",
       "      <td>TLSv10</td>\n",
       "    </tr>\n",
       "    <tr>\n",
       "      <th>2013-01-05 22:35:55.969867</th>\n",
       "      <td>-</td>\n",
       "      <td>TLS_RSA_WITH_RC4_128_MD5</td>\n",
       "      <td>-</td>\n",
       "      <td>-</td>\n",
       "      <td>172.16.253.129</td>\n",
       "      <td>1148.0</td>\n",
       "      <td>173.231.54.69</td>\n",
       "      <td>443.0</td>\n",
       "      <td>-</td>\n",
       "      <td>-</td>\n",
       "      <td>-</td>\n",
       "      <td>-</td>\n",
       "      <td>BIN_Enfal_Lurid_0fb1b0833f723682346041d72ed112...</td>\n",
       "      <td>-</td>\n",
       "      <td>9ce8ba30850ef7ea6dbbd1d62b7d14f7ecad993264344d...</td>\n",
       "      <td>-</td>\n",
       "      <td>APT</td>\n",
       "      <td>CjpllO2Q90pX7GUrd6</td>\n",
       "      <td>-</td>\n",
       "      <td>TLSv10</td>\n",
       "    </tr>\n",
       "    <tr>\n",
       "      <th>2013-02-03 21:50:15.703398</th>\n",
       "      <td>b71150169f6bbe765d2541d79f92dc9b</td>\n",
       "      <td>TLS_RSA_WITH_RC4_128_MD5</td>\n",
       "      <td>-</td>\n",
       "      <td>-</td>\n",
       "      <td>172.16.253.130</td>\n",
       "      <td>1068.0</td>\n",
       "      <td>96.44.136.98</td>\n",
       "      <td>443.0</td>\n",
       "      <td>CN=eric-office</td>\n",
       "      <td>-</td>\n",
       "      <td>1.64449e+09</td>\n",
       "      <td>1.32913e+09</td>\n",
       "      <td>BIN_TrojanPage_86893886C7CBC7310F7675F4EFDE0A29</td>\n",
       "      <td>-</td>\n",
       "      <td>-</td>\n",
       "      <td>CN=eric-office</td>\n",
       "      <td>APT</td>\n",
       "      <td>CbjBsy1JWM4tZOK96h</td>\n",
       "      <td>unable to get local issuer certificate</td>\n",
       "      <td>TLSv10</td>\n",
       "    </tr>\n",
       "  </tbody>\n",
       "</table>\n",
       "</div>"
      ],
      "text/plain": [
       "                                                   cert_hash  \\\n",
       "2013-01-05 22:33:52.068830  d666a272910c12b764a297f1e63c35c7   \n",
       "2013-01-05 22:33:53.736983                                 -   \n",
       "2013-01-05 22:35:55.292804                                 -   \n",
       "2013-01-05 22:35:55.969867                                 -   \n",
       "2013-02-03 21:50:15.703398  b71150169f6bbe765d2541d79f92dc9b   \n",
       "\n",
       "                                              cipher client_issuer_subject  \\\n",
       "2013-01-05 22:33:52.068830  TLS_RSA_WITH_RC4_128_MD5                     -   \n",
       "2013-01-05 22:33:53.736983  TLS_RSA_WITH_RC4_128_MD5                     -   \n",
       "2013-01-05 22:35:55.292804  TLS_RSA_WITH_RC4_128_MD5                     -   \n",
       "2013-01-05 22:35:55.969867  TLS_RSA_WITH_RC4_128_MD5                     -   \n",
       "2013-02-03 21:50:15.703398  TLS_RSA_WITH_RC4_128_MD5                     -   \n",
       "\n",
       "                           client_subject       id.orig_h  id.orig_p  \\\n",
       "2013-01-05 22:33:52.068830              -  172.16.253.129     1144.0   \n",
       "2013-01-05 22:33:53.736983              -  172.16.253.129     1146.0   \n",
       "2013-01-05 22:35:55.292804              -  172.16.253.129     1147.0   \n",
       "2013-01-05 22:35:55.969867              -  172.16.253.129     1148.0   \n",
       "2013-02-03 21:50:15.703398              -  172.16.253.130     1068.0   \n",
       "\n",
       "                                id.resp_h  id.resp_p  \\\n",
       "2013-01-05 22:33:52.068830  173.231.54.69      443.0   \n",
       "2013-01-05 22:33:53.736983  173.231.54.69      443.0   \n",
       "2013-01-05 22:35:55.292804  173.231.54.69      443.0   \n",
       "2013-01-05 22:35:55.969867  173.231.54.69      443.0   \n",
       "2013-02-03 21:50:15.703398   96.44.136.98      443.0   \n",
       "\n",
       "                                                               issuer_subject  \\\n",
       "2013-01-05 22:33:52.068830  emailAddress=root@10_01.lvqiucai,CN=10_01.lvqi...   \n",
       "2013-01-05 22:33:53.736983                                                  -   \n",
       "2013-01-05 22:35:55.292804                                                  -   \n",
       "2013-01-05 22:35:55.969867                                                  -   \n",
       "2013-02-03 21:50:15.703398                                     CN=eric-office   \n",
       "\n",
       "                           last_alert    not_valid_after   not_valid_before  \\\n",
       "2013-01-05 22:33:52.068830          -  1370544430.000000  1339008430.000000   \n",
       "2013-01-05 22:33:53.736983          -                  -                  -   \n",
       "2013-01-05 22:35:55.292804          -                  -                  -   \n",
       "2013-01-05 22:35:55.969867          -                  -                  -   \n",
       "2013-02-03 21:50:15.703398          -        1.64449e+09        1.32913e+09   \n",
       "\n",
       "                                                                       sample  \\\n",
       "2013-01-05 22:33:52.068830  BIN_Enfal_Lurid_0fb1b0833f723682346041d72ed112...   \n",
       "2013-01-05 22:33:53.736983  BIN_Enfal_Lurid_0fb1b0833f723682346041d72ed112...   \n",
       "2013-01-05 22:35:55.292804  BIN_Enfal_Lurid_0fb1b0833f723682346041d72ed112...   \n",
       "2013-01-05 22:35:55.969867  BIN_Enfal_Lurid_0fb1b0833f723682346041d72ed112...   \n",
       "2013-02-03 21:50:15.703398    BIN_TrojanPage_86893886C7CBC7310F7675F4EFDE0A29   \n",
       "\n",
       "                           server_name  \\\n",
       "2013-01-05 22:33:52.068830           -   \n",
       "2013-01-05 22:33:53.736983           -   \n",
       "2013-01-05 22:35:55.292804           -   \n",
       "2013-01-05 22:35:55.969867           -   \n",
       "2013-02-03 21:50:15.703398           -   \n",
       "\n",
       "                                                                   session_id  \\\n",
       "2013-01-05 22:33:52.068830                                                  -   \n",
       "2013-01-05 22:33:53.736983  9ce8ba30850ef7ea6dbbd1d62b7d14f7ecad993264344d...   \n",
       "2013-01-05 22:35:55.292804  9ce8ba30850ef7ea6dbbd1d62b7d14f7ecad993264344d...   \n",
       "2013-01-05 22:35:55.969867  9ce8ba30850ef7ea6dbbd1d62b7d14f7ecad993264344d...   \n",
       "2013-02-03 21:50:15.703398                                                  -   \n",
       "\n",
       "                                                                      subject  \\\n",
       "2013-01-05 22:33:52.068830  emailAddress=root@10_01.lvqiucai,CN=10_01.lvqi...   \n",
       "2013-01-05 22:33:53.736983                                                  -   \n",
       "2013-01-05 22:35:55.292804                                                  -   \n",
       "2013-01-05 22:35:55.969867                                                  -   \n",
       "2013-02-03 21:50:15.703398                                     CN=eric-office   \n",
       "\n",
       "                           threat                 uid  \\\n",
       "2013-01-05 22:33:52.068830    APT  CA8hE83VihcR5GQhfl   \n",
       "2013-01-05 22:33:53.736983    APT   CzpdEO1dnC8Zu1mLl   \n",
       "2013-01-05 22:35:55.292804    APT  C8wxx64kUnuCg4QBH5   \n",
       "2013-01-05 22:35:55.969867    APT  CjpllO2Q90pX7GUrd6   \n",
       "2013-02-03 21:50:15.703398    APT  CbjBsy1JWM4tZOK96h   \n",
       "\n",
       "                                                 validation_status version  \n",
       "2013-01-05 22:33:52.068830                 self signed certificate  TLSv10  \n",
       "2013-01-05 22:33:53.736983                                       -  TLSv10  \n",
       "2013-01-05 22:35:55.292804                                       -  TLSv10  \n",
       "2013-01-05 22:35:55.969867                                       -  TLSv10  \n",
       "2013-02-03 21:50:15.703398  unable to get local issuer certificate  TLSv10  "
      ]
     },
     "execution_count": 25,
     "metadata": {},
     "output_type": "execute_result"
    }
   ],
   "source": [
    "ssldf.head()"
   ]
  },
  {
   "cell_type": "code",
   "execution_count": 26,
   "metadata": {},
   "outputs": [
    {
     "data": {
      "text/html": [
       "<div>\n",
       "<style>\n",
       "    .dataframe thead tr:only-child th {\n",
       "        text-align: right;\n",
       "    }\n",
       "\n",
       "    .dataframe thead th {\n",
       "        text-align: left;\n",
       "    }\n",
       "\n",
       "    .dataframe tbody tr th {\n",
       "        vertical-align: top;\n",
       "    }\n",
       "</style>\n",
       "<table border=\"1\" class=\"dataframe\">\n",
       "  <thead>\n",
       "    <tr style=\"text-align: right;\">\n",
       "      <th></th>\n",
       "      <th>action</th>\n",
       "      <th>id.orig_h</th>\n",
       "      <th>id.orig_p</th>\n",
       "      <th>id.resp_h</th>\n",
       "      <th>id.resp_p</th>\n",
       "      <th>sample</th>\n",
       "      <th>threat</th>\n",
       "      <th>tunnel_type</th>\n",
       "      <th>uid</th>\n",
       "    </tr>\n",
       "  </thead>\n",
       "  <tbody>\n",
       "    <tr>\n",
       "      <th>2013-05-26 23:27:21.195452</th>\n",
       "      <td>Tunnel::DISCOVER</td>\n",
       "      <td>172.16.0.130</td>\n",
       "      <td>61856.0</td>\n",
       "      <td>157.56.149.60</td>\n",
       "      <td>3544.0</td>\n",
       "      <td>BIN_Wordpress_Mutopy_Symmi_20A6EBF61243B760DD6...</td>\n",
       "      <td>CRIME</td>\n",
       "      <td>Tunnel::TEREDO</td>\n",
       "      <td>CDlYaUKSPEa6CZWm6</td>\n",
       "    </tr>\n",
       "    <tr>\n",
       "      <th>2013-05-26 23:28:04.331021</th>\n",
       "      <td>Tunnel::CLOSE</td>\n",
       "      <td>172.16.0.130</td>\n",
       "      <td>61856.0</td>\n",
       "      <td>157.56.149.60</td>\n",
       "      <td>3544.0</td>\n",
       "      <td>BIN_Wordpress_Mutopy_Symmi_20A6EBF61243B760DD6...</td>\n",
       "      <td>CRIME</td>\n",
       "      <td>Tunnel::TEREDO</td>\n",
       "      <td>CDlYaUKSPEa6CZWm6</td>\n",
       "    </tr>\n",
       "  </tbody>\n",
       "</table>\n",
       "</div>"
      ],
      "text/plain": [
       "                                      action     id.orig_h  id.orig_p  \\\n",
       "2013-05-26 23:27:21.195452  Tunnel::DISCOVER  172.16.0.130    61856.0   \n",
       "2013-05-26 23:28:04.331021     Tunnel::CLOSE  172.16.0.130    61856.0   \n",
       "\n",
       "                                id.resp_h  id.resp_p  \\\n",
       "2013-05-26 23:27:21.195452  157.56.149.60     3544.0   \n",
       "2013-05-26 23:28:04.331021  157.56.149.60     3544.0   \n",
       "\n",
       "                                                                       sample  \\\n",
       "2013-05-26 23:27:21.195452  BIN_Wordpress_Mutopy_Symmi_20A6EBF61243B760DD6...   \n",
       "2013-05-26 23:28:04.331021  BIN_Wordpress_Mutopy_Symmi_20A6EBF61243B760DD6...   \n",
       "\n",
       "                           threat     tunnel_type                uid  \n",
       "2013-05-26 23:27:21.195452  CRIME  Tunnel::TEREDO  CDlYaUKSPEa6CZWm6  \n",
       "2013-05-26 23:28:04.331021  CRIME  Tunnel::TEREDO  CDlYaUKSPEa6CZWm6  "
      ]
     },
     "execution_count": 26,
     "metadata": {},
     "output_type": "execute_result"
    }
   ],
   "source": [
    "tunneldf.head()  # 2 records"
   ]
  },
  {
   "cell_type": "code",
   "execution_count": 29,
   "metadata": {},
   "outputs": [
    {
     "data": {
      "text/html": [
       "<div>\n",
       "<style>\n",
       "    .dataframe thead tr:only-child th {\n",
       "        text-align: right;\n",
       "    }\n",
       "\n",
       "    .dataframe thead th {\n",
       "        text-align: left;\n",
       "    }\n",
       "\n",
       "    .dataframe tbody tr th {\n",
       "        vertical-align: top;\n",
       "    }\n",
       "</style>\n",
       "<table border=\"1\" class=\"dataframe\">\n",
       "  <thead>\n",
       "    <tr style=\"text-align: right;\">\n",
       "      <th></th>\n",
       "      <th>addl</th>\n",
       "      <th>id.orig_h</th>\n",
       "      <th>id.orig_p</th>\n",
       "      <th>id.resp_h</th>\n",
       "      <th>id.resp_p</th>\n",
       "      <th>name</th>\n",
       "      <th>notice</th>\n",
       "      <th>peer</th>\n",
       "      <th>sample</th>\n",
       "      <th>threat</th>\n",
       "      <th>uid</th>\n",
       "    </tr>\n",
       "  </thead>\n",
       "  <tbody>\n",
       "    <tr>\n",
       "      <th>2013-02-03 17:20:45.177587</th>\n",
       "      <td>-</td>\n",
       "      <td>-</td>\n",
       "      <td>-</td>\n",
       "      <td>-</td>\n",
       "      <td>-</td>\n",
       "      <td>unknown_protocol_2</td>\n",
       "      <td>F</td>\n",
       "      <td>bro</td>\n",
       "      <td>BIN_8202_6d2c12085f0018daeb9c1a53e53fd4d1</td>\n",
       "      <td>APT</td>\n",
       "      <td>-</td>\n",
       "    </tr>\n",
       "    <tr>\n",
       "      <th>2013-02-03 17:22:45.464994</th>\n",
       "      <td>-</td>\n",
       "      <td>172.16.253.129</td>\n",
       "      <td>1044</td>\n",
       "      <td>192.200.99.194</td>\n",
       "      <td>80</td>\n",
       "      <td>bad_HTTP_request</td>\n",
       "      <td>F</td>\n",
       "      <td>bro</td>\n",
       "      <td>BIN_8202_6d2c12085f0018daeb9c1a53e53fd4d1</td>\n",
       "      <td>APT</td>\n",
       "      <td>CyOOQu1OSt9tTdmo4c</td>\n",
       "    </tr>\n",
       "    <tr>\n",
       "      <th>2013-02-03 17:22:45.464994</th>\n",
       "      <td>-</td>\n",
       "      <td>172.16.253.129</td>\n",
       "      <td>1044</td>\n",
       "      <td>192.200.99.194</td>\n",
       "      <td>80</td>\n",
       "      <td>line_terminated_with_single_CR</td>\n",
       "      <td>F</td>\n",
       "      <td>bro</td>\n",
       "      <td>BIN_8202_6d2c12085f0018daeb9c1a53e53fd4d1</td>\n",
       "      <td>APT</td>\n",
       "      <td>CyOOQu1OSt9tTdmo4c</td>\n",
       "    </tr>\n",
       "    <tr>\n",
       "      <th>2013-02-03 17:23:50.546823</th>\n",
       "      <td>-</td>\n",
       "      <td>172.16.253.129</td>\n",
       "      <td>1046</td>\n",
       "      <td>192.200.99.194</td>\n",
       "      <td>80</td>\n",
       "      <td>bad_HTTP_request</td>\n",
       "      <td>F</td>\n",
       "      <td>bro</td>\n",
       "      <td>BIN_8202_6d2c12085f0018daeb9c1a53e53fd4d1</td>\n",
       "      <td>APT</td>\n",
       "      <td>CrotRO2AvrA4bneEKl</td>\n",
       "    </tr>\n",
       "    <tr>\n",
       "      <th>2013-02-03 17:23:50.546823</th>\n",
       "      <td>-</td>\n",
       "      <td>172.16.253.129</td>\n",
       "      <td>1046</td>\n",
       "      <td>192.200.99.194</td>\n",
       "      <td>80</td>\n",
       "      <td>line_terminated_with_single_CR</td>\n",
       "      <td>F</td>\n",
       "      <td>bro</td>\n",
       "      <td>BIN_8202_6d2c12085f0018daeb9c1a53e53fd4d1</td>\n",
       "      <td>APT</td>\n",
       "      <td>CrotRO2AvrA4bneEKl</td>\n",
       "    </tr>\n",
       "  </tbody>\n",
       "</table>\n",
       "</div>"
      ],
      "text/plain": [
       "                           addl       id.orig_h id.orig_p       id.resp_h  \\\n",
       "2013-02-03 17:20:45.177587    -               -         -               -   \n",
       "2013-02-03 17:22:45.464994    -  172.16.253.129      1044  192.200.99.194   \n",
       "2013-02-03 17:22:45.464994    -  172.16.253.129      1044  192.200.99.194   \n",
       "2013-02-03 17:23:50.546823    -  172.16.253.129      1046  192.200.99.194   \n",
       "2013-02-03 17:23:50.546823    -  172.16.253.129      1046  192.200.99.194   \n",
       "\n",
       "                           id.resp_p                            name notice  \\\n",
       "2013-02-03 17:20:45.177587         -              unknown_protocol_2      F   \n",
       "2013-02-03 17:22:45.464994        80                bad_HTTP_request      F   \n",
       "2013-02-03 17:22:45.464994        80  line_terminated_with_single_CR      F   \n",
       "2013-02-03 17:23:50.546823        80                bad_HTTP_request      F   \n",
       "2013-02-03 17:23:50.546823        80  line_terminated_with_single_CR      F   \n",
       "\n",
       "                           peer                                     sample  \\\n",
       "2013-02-03 17:20:45.177587  bro  BIN_8202_6d2c12085f0018daeb9c1a53e53fd4d1   \n",
       "2013-02-03 17:22:45.464994  bro  BIN_8202_6d2c12085f0018daeb9c1a53e53fd4d1   \n",
       "2013-02-03 17:22:45.464994  bro  BIN_8202_6d2c12085f0018daeb9c1a53e53fd4d1   \n",
       "2013-02-03 17:23:50.546823  bro  BIN_8202_6d2c12085f0018daeb9c1a53e53fd4d1   \n",
       "2013-02-03 17:23:50.546823  bro  BIN_8202_6d2c12085f0018daeb9c1a53e53fd4d1   \n",
       "\n",
       "                           threat                 uid  \n",
       "2013-02-03 17:20:45.177587    APT                   -  \n",
       "2013-02-03 17:22:45.464994    APT  CyOOQu1OSt9tTdmo4c  \n",
       "2013-02-03 17:22:45.464994    APT  CyOOQu1OSt9tTdmo4c  \n",
       "2013-02-03 17:23:50.546823    APT  CrotRO2AvrA4bneEKl  \n",
       "2013-02-03 17:23:50.546823    APT  CrotRO2AvrA4bneEKl  "
      ]
     },
     "execution_count": 29,
     "metadata": {},
     "output_type": "execute_result"
    }
   ],
   "source": [
    "weirddf.head(5)"
   ]
  },
  {
   "cell_type": "code",
   "execution_count": null,
   "metadata": {
    "collapsed": true
   },
   "outputs": [],
   "source": [
    "### Save DFs as "
   ]
  },
  {
   "cell_type": "code",
   "execution_count": 35,
   "metadata": {
    "collapsed": true
   },
   "outputs": [],
   "source": [
    "## Connections DF"
   ]
  },
  {
   "cell_type": "code",
   "execution_count": 37,
   "metadata": {},
   "outputs": [
    {
     "name": "stdout",
     "output_type": "stream",
     "text": [
      "<class 'pandas.core.frame.DataFrame'>\n",
      "DatetimeIndex: 71645 entries, 1969-12-31 19:00:06.985435 to NaT\n",
      "Data columns (total 21 columns):\n",
      "conn_state        71645 non-null object\n",
      "duration          71645 non-null object\n",
      "history           71645 non-null object\n",
      "id.orig_h         71645 non-null object\n",
      "id.orig_p         71645 non-null float64\n",
      "id.resp_h         71645 non-null object\n",
      "id.resp_p         71645 non-null float64\n",
      "local_orig        71645 non-null object\n",
      "missed_bytes      71645 non-null float64\n",
      "orig_bytes        71645 non-null object\n",
      "orig_ip_bytes     71645 non-null float64\n",
      "orig_pkts         71645 non-null float64\n",
      "proto             71645 non-null object\n",
      "resp_bytes        71645 non-null object\n",
      "resp_ip_bytes     71645 non-null float64\n",
      "resp_pkts         71645 non-null float64\n",
      "sample            71645 non-null object\n",
      "service           71645 non-null object\n",
      "threat            71645 non-null object\n",
      "tunnel_parents    71645 non-null object\n",
      "uid               71645 non-null object\n",
      "dtypes: float64(7), object(14)\n",
      "memory usage: 12.0+ MB\n"
     ]
    }
   ],
   "source": [
    "conndf.sort_index(inplace=True)\n",
    "conndf.info()"
   ]
  },
  {
   "cell_type": "code",
   "execution_count": 40,
   "metadata": {},
   "outputs": [
    {
     "data": {
      "text/plain": [
       "DatetimeIndex(['1969-12-31 19:00:06.985435', '1969-12-31 19:00:06.985573',\n",
       "               '1969-12-31 19:00:07.022681', '1969-12-31 19:00:07.022862',\n",
       "               '1969-12-31 19:00:07.189544', '1969-12-31 19:00:07.189727',\n",
       "               '1969-12-31 19:00:07.608794', '1969-12-31 19:00:07.608950',\n",
       "               '1969-12-31 19:00:08.501049', '1969-12-31 19:00:08.501193',\n",
       "               ...\n",
       "                                      'NaT',                        'NaT',\n",
       "                                      'NaT',                        'NaT',\n",
       "                                      'NaT',                        'NaT',\n",
       "                                      'NaT',                        'NaT',\n",
       "                                      'NaT',                        'NaT'],\n",
       "              dtype='datetime64[ns]', length=71645, freq=None)"
      ]
     },
     "execution_count": 40,
     "metadata": {},
     "output_type": "execute_result"
    }
   ],
   "source": [
    "conndf.index"
   ]
  },
  {
   "cell_type": "code",
   "execution_count": 39,
   "metadata": {},
   "outputs": [
    {
     "ename": "TypeError",
     "evalue": "Empty 'DataFrame': no numeric data to plot",
     "output_type": "error",
     "traceback": [
      "\u001b[0;31m-----------------------------------------\u001b[0m",
      "\u001b[0;31mTypeError\u001b[0mTraceback (most recent call last)",
      "\u001b[0;32m<ipython-input-39-8e3f81ae6199>\u001b[0m in \u001b[0;36m<module>\u001b[0;34m()\u001b[0m\n\u001b[0;32m----> 1\u001b[0;31m \u001b[0mconndf\u001b[0m\u001b[0;34m.\u001b[0m\u001b[0mplot\u001b[0m\u001b[0;34m(\u001b[0m\u001b[0my\u001b[0m\u001b[0;34m=\u001b[0m\u001b[0;34m'duration'\u001b[0m\u001b[0;34m)\u001b[0m\u001b[0;34m\u001b[0m\u001b[0m\n\u001b[0m",
      "\u001b[0;32m/Users/carrie/anaconda/envs/mlbook/lib/python3.5/site-packages/pandas/plotting/_core.py\u001b[0m in \u001b[0;36m__call__\u001b[0;34m(self, x, y, kind, ax, subplots, sharex, sharey, layout, figsize, use_index, title, grid, legend, style, logx, logy, loglog, xticks, yticks, xlim, ylim, rot, fontsize, colormap, table, yerr, xerr, secondary_y, sort_columns, **kwds)\u001b[0m\n\u001b[1;32m   2625\u001b[0m                           \u001b[0mfontsize\u001b[0m\u001b[0;34m=\u001b[0m\u001b[0mfontsize\u001b[0m\u001b[0;34m,\u001b[0m \u001b[0mcolormap\u001b[0m\u001b[0;34m=\u001b[0m\u001b[0mcolormap\u001b[0m\u001b[0;34m,\u001b[0m \u001b[0mtable\u001b[0m\u001b[0;34m=\u001b[0m\u001b[0mtable\u001b[0m\u001b[0;34m,\u001b[0m\u001b[0;34m\u001b[0m\u001b[0m\n\u001b[1;32m   2626\u001b[0m                           \u001b[0myerr\u001b[0m\u001b[0;34m=\u001b[0m\u001b[0myerr\u001b[0m\u001b[0;34m,\u001b[0m \u001b[0mxerr\u001b[0m\u001b[0;34m=\u001b[0m\u001b[0mxerr\u001b[0m\u001b[0;34m,\u001b[0m \u001b[0msecondary_y\u001b[0m\u001b[0;34m=\u001b[0m\u001b[0msecondary_y\u001b[0m\u001b[0;34m,\u001b[0m\u001b[0;34m\u001b[0m\u001b[0m\n\u001b[0;32m-> 2627\u001b[0;31m                           sort_columns=sort_columns, **kwds)\n\u001b[0m\u001b[1;32m   2628\u001b[0m     \u001b[0m__call__\u001b[0m\u001b[0;34m.\u001b[0m\u001b[0m__doc__\u001b[0m \u001b[0;34m=\u001b[0m \u001b[0mplot_frame\u001b[0m\u001b[0;34m.\u001b[0m\u001b[0m__doc__\u001b[0m\u001b[0;34m\u001b[0m\u001b[0m\n\u001b[1;32m   2629\u001b[0m \u001b[0;34m\u001b[0m\u001b[0m\n",
      "\u001b[0;32m/Users/carrie/anaconda/envs/mlbook/lib/python3.5/site-packages/pandas/plotting/_core.py\u001b[0m in \u001b[0;36mplot_frame\u001b[0;34m(data, x, y, kind, ax, subplots, sharex, sharey, layout, figsize, use_index, title, grid, legend, style, logx, logy, loglog, xticks, yticks, xlim, ylim, rot, fontsize, colormap, table, yerr, xerr, secondary_y, sort_columns, **kwds)\u001b[0m\n\u001b[1;32m   1867\u001b[0m                  \u001b[0myerr\u001b[0m\u001b[0;34m=\u001b[0m\u001b[0myerr\u001b[0m\u001b[0;34m,\u001b[0m \u001b[0mxerr\u001b[0m\u001b[0;34m=\u001b[0m\u001b[0mxerr\u001b[0m\u001b[0;34m,\u001b[0m\u001b[0;34m\u001b[0m\u001b[0m\n\u001b[1;32m   1868\u001b[0m                  \u001b[0msecondary_y\u001b[0m\u001b[0;34m=\u001b[0m\u001b[0msecondary_y\u001b[0m\u001b[0;34m,\u001b[0m \u001b[0msort_columns\u001b[0m\u001b[0;34m=\u001b[0m\u001b[0msort_columns\u001b[0m\u001b[0;34m,\u001b[0m\u001b[0;34m\u001b[0m\u001b[0m\n\u001b[0;32m-> 1869\u001b[0;31m                  **kwds)\n\u001b[0m\u001b[1;32m   1870\u001b[0m \u001b[0;34m\u001b[0m\u001b[0m\n\u001b[1;32m   1871\u001b[0m \u001b[0;34m\u001b[0m\u001b[0m\n",
      "\u001b[0;32m/Users/carrie/anaconda/envs/mlbook/lib/python3.5/site-packages/pandas/plotting/_core.py\u001b[0m in \u001b[0;36m_plot\u001b[0;34m(data, x, y, subplots, ax, kind, **kwds)\u001b[0m\n\u001b[1;32m   1692\u001b[0m         \u001b[0mplot_obj\u001b[0m \u001b[0;34m=\u001b[0m \u001b[0mklass\u001b[0m\u001b[0;34m(\u001b[0m\u001b[0mdata\u001b[0m\u001b[0;34m,\u001b[0m \u001b[0msubplots\u001b[0m\u001b[0;34m=\u001b[0m\u001b[0msubplots\u001b[0m\u001b[0;34m,\u001b[0m \u001b[0max\u001b[0m\u001b[0;34m=\u001b[0m\u001b[0max\u001b[0m\u001b[0;34m,\u001b[0m \u001b[0mkind\u001b[0m\u001b[0;34m=\u001b[0m\u001b[0mkind\u001b[0m\u001b[0;34m,\u001b[0m \u001b[0;34m**\u001b[0m\u001b[0mkwds\u001b[0m\u001b[0;34m)\u001b[0m\u001b[0;34m\u001b[0m\u001b[0m\n\u001b[1;32m   1693\u001b[0m \u001b[0;34m\u001b[0m\u001b[0m\n\u001b[0;32m-> 1694\u001b[0;31m     \u001b[0mplot_obj\u001b[0m\u001b[0;34m.\u001b[0m\u001b[0mgenerate\u001b[0m\u001b[0;34m(\u001b[0m\u001b[0;34m)\u001b[0m\u001b[0;34m\u001b[0m\u001b[0m\n\u001b[0m\u001b[1;32m   1695\u001b[0m     \u001b[0mplot_obj\u001b[0m\u001b[0;34m.\u001b[0m\u001b[0mdraw\u001b[0m\u001b[0;34m(\u001b[0m\u001b[0;34m)\u001b[0m\u001b[0;34m\u001b[0m\u001b[0m\n\u001b[1;32m   1696\u001b[0m     \u001b[0;32mreturn\u001b[0m \u001b[0mplot_obj\u001b[0m\u001b[0;34m.\u001b[0m\u001b[0mresult\u001b[0m\u001b[0;34m\u001b[0m\u001b[0m\n",
      "\u001b[0;32m/Users/carrie/anaconda/envs/mlbook/lib/python3.5/site-packages/pandas/plotting/_core.py\u001b[0m in \u001b[0;36mgenerate\u001b[0;34m(self)\u001b[0m\n\u001b[1;32m    241\u001b[0m     \u001b[0;32mdef\u001b[0m \u001b[0mgenerate\u001b[0m\u001b[0;34m(\u001b[0m\u001b[0mself\u001b[0m\u001b[0;34m)\u001b[0m\u001b[0;34m:\u001b[0m\u001b[0;34m\u001b[0m\u001b[0m\n\u001b[1;32m    242\u001b[0m         \u001b[0mself\u001b[0m\u001b[0;34m.\u001b[0m\u001b[0m_args_adjust\u001b[0m\u001b[0;34m(\u001b[0m\u001b[0;34m)\u001b[0m\u001b[0;34m\u001b[0m\u001b[0m\n\u001b[0;32m--> 243\u001b[0;31m         \u001b[0mself\u001b[0m\u001b[0;34m.\u001b[0m\u001b[0m_compute_plot_data\u001b[0m\u001b[0;34m(\u001b[0m\u001b[0;34m)\u001b[0m\u001b[0;34m\u001b[0m\u001b[0m\n\u001b[0m\u001b[1;32m    244\u001b[0m         \u001b[0mself\u001b[0m\u001b[0;34m.\u001b[0m\u001b[0m_setup_subplots\u001b[0m\u001b[0;34m(\u001b[0m\u001b[0;34m)\u001b[0m\u001b[0;34m\u001b[0m\u001b[0m\n\u001b[1;32m    245\u001b[0m         \u001b[0mself\u001b[0m\u001b[0;34m.\u001b[0m\u001b[0m_make_plot\u001b[0m\u001b[0;34m(\u001b[0m\u001b[0;34m)\u001b[0m\u001b[0;34m\u001b[0m\u001b[0m\n",
      "\u001b[0;32m/Users/carrie/anaconda/envs/mlbook/lib/python3.5/site-packages/pandas/plotting/_core.py\u001b[0m in \u001b[0;36m_compute_plot_data\u001b[0;34m(self)\u001b[0m\n\u001b[1;32m    350\u001b[0m         \u001b[0;32mif\u001b[0m \u001b[0mis_empty\u001b[0m\u001b[0;34m:\u001b[0m\u001b[0;34m\u001b[0m\u001b[0m\n\u001b[1;32m    351\u001b[0m             raise TypeError('Empty {0!r}: no numeric data to '\n\u001b[0;32m--> 352\u001b[0;31m                             'plot'.format(numeric_data.__class__.__name__))\n\u001b[0m\u001b[1;32m    353\u001b[0m \u001b[0;34m\u001b[0m\u001b[0m\n\u001b[1;32m    354\u001b[0m         \u001b[0mself\u001b[0m\u001b[0;34m.\u001b[0m\u001b[0mdata\u001b[0m \u001b[0;34m=\u001b[0m \u001b[0mnumeric_data\u001b[0m\u001b[0;34m\u001b[0m\u001b[0m\n",
      "\u001b[0;31mTypeError\u001b[0m: Empty 'DataFrame': no numeric data to plot"
     ]
    }
   ],
   "source": [
    "conndf.plot(y='duration')"
   ]
  },
  {
   "cell_type": "markdown",
   "metadata": {},
   "source": [
    "# Exploratory Visualization"
   ]
  },
  {
   "cell_type": "code",
   "execution_count": 61,
   "metadata": {
    "collapsed": true
   },
   "outputs": [],
   "source": [
    "import matplotlib\n",
    "import matplotlib.pyplot\n",
    "%matplotlib inline\n",
    "\n",
    "import seaborn"
   ]
  },
  {
   "cell_type": "markdown",
   "metadata": {},
   "source": [
    "## Number of events"
   ]
  },
  {
   "cell_type": "code",
   "execution_count": 157,
   "metadata": {},
   "outputs": [
    {
     "data": {
      "text/plain": [
       "DatetimeIndex(['2008-08-29 14:13:19.056673', '2008-08-29 14:17:24.420835',\n",
       "               '2008-08-29 14:18:47.254929', '2008-08-29 14:20:28.463449',\n",
       "               '2008-08-29 14:20:32.926812', '2008-08-29 14:22:56.133161',\n",
       "               '2010-02-13 09:23:18.490261', '2010-02-13 09:23:18.595196',\n",
       "               '2010-02-13 09:23:24.034844', '2010-02-13 09:23:39.455201',\n",
       "               ...\n",
       "               '2013-09-25 22:44:01.409078', '2013-09-25 22:44:02.028646',\n",
       "               '2013-09-25 22:44:02.648104', '2013-09-25 22:44:03.354803',\n",
       "               '2013-09-25 22:44:03.984858', '2013-09-25 22:44:04.609268',\n",
       "               '2013-09-25 22:44:05.197919', '2013-09-25 22:44:05.731911',\n",
       "               '2013-09-25 22:44:06.329862', '2013-09-25 22:44:06.949527'],\n",
       "              dtype='datetime64[ns]', length=51743, freq=None)"
      ]
     },
     "execution_count": 157,
     "metadata": {},
     "output_type": "execute_result"
    }
   ],
   "source": [
    "conndf.sort_index().index"
   ]
  },
  {
   "cell_type": "code",
   "execution_count": 158,
   "metadata": {},
   "outputs": [
    {
     "data": {
      "text/plain": [
       "(51743, 21)"
      ]
     },
     "execution_count": 158,
     "metadata": {},
     "output_type": "execute_result"
    }
   ],
   "source": [
    "conndf.shape"
   ]
  },
  {
   "cell_type": "code",
   "execution_count": 160,
   "metadata": {
    "collapsed": true
   },
   "outputs": [],
   "source": [
    "hourly = conndf.groupby(pd.Grouper(freq='H')).count()\n",
    "daily = hourly.groupby(pd.Grouper(freq='D')).mean()"
   ]
  },
  {
   "cell_type": "code",
   "execution_count": null,
   "metadata": {
    "collapsed": true
   },
   "outputs": [],
   "source": [
    "sns.countplot(x=)"
   ]
  },
  {
   "cell_type": "code",
   "execution_count": 176,
   "metadata": {},
   "outputs": [
    {
     "data": {
      "text/plain": [
       "<matplotlib.axes._subplots.AxesSubplot at 0x12cd9bd30>"
      ]
     },
     "execution_count": 176,
     "metadata": {},
     "output_type": "execute_result"
    },
    {
     "data": {
      "image/png": "[encoded data removed]",
      "text/plain": [
       "<matplotlib.figure.Figure at 0x12cdb1748>"
      ]
     },
     "metadata": {},
     "output_type": "display_data"
    }
   ],
   "source": [
    "hourly['2012':'2012'].uid.plot(kind='line', figsize=(15,5))"
   ]
  },
  {
   "cell_type": "code",
   "execution_count": 170,
   "metadata": {},
   "outputs": [
    {
     "data": {
      "text/plain": [
       "threat    51743\n",
       "dtype: int64"
      ]
     },
     "execution_count": 170,
     "metadata": {},
     "output_type": "execute_result"
    }
   ],
   "source": []
  },
  {
   "cell_type": "code",
   "execution_count": 172,
   "metadata": {},
   "outputs": [
    {
     "ename": "TypeError",
     "evalue": "Empty 'DataFrame': no numeric data to plot",
     "output_type": "error",
     "traceback": [
      "\u001b[0;31m-------------\u001b[0m",
      "\u001b[0;31mTypeError\u001b[0mTraceback (most recent call last)",
      "\u001b[0;32m<ipython-input-172-922a04d32366>\u001b[0m in \u001b[0;36m<module>\u001b[0;34m()\u001b[0m\n\u001b[1;32m      1\u001b[0m \u001b[0;31m# Plot the average value by condition and date\u001b[0m\u001b[0;34m\u001b[0m\u001b[0;34m\u001b[0m\u001b[0m\n\u001b[0;32m----> 2\u001b[0;31m \u001b[0max\u001b[0m \u001b[0;34m=\u001b[0m \u001b[0mdf\u001b[0m\u001b[0;34m.\u001b[0m\u001b[0mgroupby\u001b[0m\u001b[0;34m(\u001b[0m\u001b[0;34m[\u001b[0m\u001b[0;34m\"threat\"\u001b[0m\u001b[0;34m,\u001b[0m\u001b[0mpd\u001b[0m\u001b[0;34m.\u001b[0m\u001b[0mGrouper\u001b[0m\u001b[0;34m(\u001b[0m\u001b[0mfreq\u001b[0m\u001b[0;34m=\u001b[0m\u001b[0;34m'H'\u001b[0m\u001b[0;34m)\u001b[0m\u001b[0;34m]\u001b[0m\u001b[0;34m)\u001b[0m\u001b[0;34m.\u001b[0m\u001b[0mcount\u001b[0m\u001b[0;34m(\u001b[0m\u001b[0;34m)\u001b[0m\u001b[0;34m.\u001b[0m\u001b[0mplot\u001b[0m\u001b[0;34m(\u001b[0m\u001b[0;34m)\u001b[0m\u001b[0;34m\u001b[0m\u001b[0m\n\u001b[0m",
      "\u001b[0;32m/Users/carrie/anaconda/envs/mlbook/lib/python3.5/site-packages/pandas/plotting/_core.py\u001b[0m in \u001b[0;36m__call__\u001b[0;34m(self, x, y, kind, ax, subplots, sharex, sharey, layout, figsize, use_index, title, grid, legend, style, logx, logy, loglog, xticks, yticks, xlim, ylim, rot, fontsize, colormap, table, yerr, xerr, secondary_y, sort_columns, **kwds)\u001b[0m\n\u001b[1;32m   2625\u001b[0m                           \u001b[0mfontsize\u001b[0m\u001b[0;34m=\u001b[0m\u001b[0mfontsize\u001b[0m\u001b[0;34m,\u001b[0m \u001b[0mcolormap\u001b[0m\u001b[0;34m=\u001b[0m\u001b[0mcolormap\u001b[0m\u001b[0;34m,\u001b[0m \u001b[0mtable\u001b[0m\u001b[0;34m=\u001b[0m\u001b[0mtable\u001b[0m\u001b[0;34m,\u001b[0m\u001b[0;34m\u001b[0m\u001b[0m\n\u001b[1;32m   2626\u001b[0m                           \u001b[0myerr\u001b[0m\u001b[0;34m=\u001b[0m\u001b[0myerr\u001b[0m\u001b[0;34m,\u001b[0m \u001b[0mxerr\u001b[0m\u001b[0;34m=\u001b[0m\u001b[0mxerr\u001b[0m\u001b[0;34m,\u001b[0m \u001b[0msecondary_y\u001b[0m\u001b[0;34m=\u001b[0m\u001b[0msecondary_y\u001b[0m\u001b[0;34m,\u001b[0m\u001b[0;34m\u001b[0m\u001b[0m\n\u001b[0;32m-> 2627\u001b[0;31m                           sort_columns=sort_columns, **kwds)\n\u001b[0m\u001b[1;32m   2628\u001b[0m     \u001b[0m__call__\u001b[0m\u001b[0;34m.\u001b[0m\u001b[0m__doc__\u001b[0m \u001b[0;34m=\u001b[0m \u001b[0mplot_frame\u001b[0m\u001b[0;34m.\u001b[0m\u001b[0m__doc__\u001b[0m\u001b[0;34m\u001b[0m\u001b[0m\n\u001b[1;32m   2629\u001b[0m \u001b[0;34m\u001b[0m\u001b[0m\n",
      "\u001b[0;32m/Users/carrie/anaconda/envs/mlbook/lib/python3.5/site-packages/pandas/plotting/_core.py\u001b[0m in \u001b[0;36mplot_frame\u001b[0;34m(data, x, y, kind, ax, subplots, sharex, sharey, layout, figsize, use_index, title, grid, legend, style, logx, logy, loglog, xticks, yticks, xlim, ylim, rot, fontsize, colormap, table, yerr, xerr, secondary_y, sort_columns, **kwds)\u001b[0m\n\u001b[1;32m   1867\u001b[0m                  \u001b[0myerr\u001b[0m\u001b[0;34m=\u001b[0m\u001b[0myerr\u001b[0m\u001b[0;34m,\u001b[0m \u001b[0mxerr\u001b[0m\u001b[0;34m=\u001b[0m\u001b[0mxerr\u001b[0m\u001b[0;34m,\u001b[0m\u001b[0;34m\u001b[0m\u001b[0m\n\u001b[1;32m   1868\u001b[0m                  \u001b[0msecondary_y\u001b[0m\u001b[0;34m=\u001b[0m\u001b[0msecondary_y\u001b[0m\u001b[0;34m,\u001b[0m \u001b[0msort_columns\u001b[0m\u001b[0;34m=\u001b[0m\u001b[0msort_columns\u001b[0m\u001b[0;34m,\u001b[0m\u001b[0;34m\u001b[0m\u001b[0m\n\u001b[0;32m-> 1869\u001b[0;31m                  **kwds)\n\u001b[0m\u001b[1;32m   1870\u001b[0m \u001b[0;34m\u001b[0m\u001b[0m\n\u001b[1;32m   1871\u001b[0m \u001b[0;34m\u001b[0m\u001b[0m\n",
      "\u001b[0;32m/Users/carrie/anaconda/envs/mlbook/lib/python3.5/site-packages/pandas/plotting/_core.py\u001b[0m in \u001b[0;36m_plot\u001b[0;34m(data, x, y, subplots, ax, kind, **kwds)\u001b[0m\n\u001b[1;32m   1692\u001b[0m         \u001b[0mplot_obj\u001b[0m \u001b[0;34m=\u001b[0m \u001b[0mklass\u001b[0m\u001b[0;34m(\u001b[0m\u001b[0mdata\u001b[0m\u001b[0;34m,\u001b[0m \u001b[0msubplots\u001b[0m\u001b[0;34m=\u001b[0m\u001b[0msubplots\u001b[0m\u001b[0;34m,\u001b[0m \u001b[0max\u001b[0m\u001b[0;34m=\u001b[0m\u001b[0max\u001b[0m\u001b[0;34m,\u001b[0m \u001b[0mkind\u001b[0m\u001b[0;34m=\u001b[0m\u001b[0mkind\u001b[0m\u001b[0;34m,\u001b[0m \u001b[0;34m**\u001b[0m\u001b[0mkwds\u001b[0m\u001b[0;34m)\u001b[0m\u001b[0;34m\u001b[0m\u001b[0m\n\u001b[1;32m   1693\u001b[0m \u001b[0;34m\u001b[0m\u001b[0m\n\u001b[0;32m-> 1694\u001b[0;31m     \u001b[0mplot_obj\u001b[0m\u001b[0;34m.\u001b[0m\u001b[0mgenerate\u001b[0m\u001b[0;34m(\u001b[0m\u001b[0;34m)\u001b[0m\u001b[0;34m\u001b[0m\u001b[0m\n\u001b[0m\u001b[1;32m   1695\u001b[0m     \u001b[0mplot_obj\u001b[0m\u001b[0;34m.\u001b[0m\u001b[0mdraw\u001b[0m\u001b[0;34m(\u001b[0m\u001b[0;34m)\u001b[0m\u001b[0;34m\u001b[0m\u001b[0m\n\u001b[1;32m   1696\u001b[0m     \u001b[0;32mreturn\u001b[0m \u001b[0mplot_obj\u001b[0m\u001b[0;34m.\u001b[0m\u001b[0mresult\u001b[0m\u001b[0;34m\u001b[0m\u001b[0m\n",
      "\u001b[0;32m/Users/carrie/anaconda/envs/mlbook/lib/python3.5/site-packages/pandas/plotting/_core.py\u001b[0m in \u001b[0;36mgenerate\u001b[0;34m(self)\u001b[0m\n\u001b[1;32m    241\u001b[0m     \u001b[0;32mdef\u001b[0m \u001b[0mgenerate\u001b[0m\u001b[0;34m(\u001b[0m\u001b[0mself\u001b[0m\u001b[0;34m)\u001b[0m\u001b[0;34m:\u001b[0m\u001b[0;34m\u001b[0m\u001b[0m\n\u001b[1;32m    242\u001b[0m         \u001b[0mself\u001b[0m\u001b[0;34m.\u001b[0m\u001b[0m_args_adjust\u001b[0m\u001b[0;34m(\u001b[0m\u001b[0;34m)\u001b[0m\u001b[0;34m\u001b[0m\u001b[0m\n\u001b[0;32m--> 243\u001b[0;31m         \u001b[0mself\u001b[0m\u001b[0;34m.\u001b[0m\u001b[0m_compute_plot_data\u001b[0m\u001b[0;34m(\u001b[0m\u001b[0;34m)\u001b[0m\u001b[0;34m\u001b[0m\u001b[0m\n\u001b[0m\u001b[1;32m    244\u001b[0m         \u001b[0mself\u001b[0m\u001b[0;34m.\u001b[0m\u001b[0m_setup_subplots\u001b[0m\u001b[0;34m(\u001b[0m\u001b[0;34m)\u001b[0m\u001b[0;34m\u001b[0m\u001b[0m\n\u001b[1;32m    245\u001b[0m         \u001b[0mself\u001b[0m\u001b[0;34m.\u001b[0m\u001b[0m_make_plot\u001b[0m\u001b[0;34m(\u001b[0m\u001b[0;34m)\u001b[0m\u001b[0;34m\u001b[0m\u001b[0m\n",
      "\u001b[0;32m/Users/carrie/anaconda/envs/mlbook/lib/python3.5/site-packages/pandas/plotting/_core.py\u001b[0m in \u001b[0;36m_compute_plot_data\u001b[0;34m(self)\u001b[0m\n\u001b[1;32m    350\u001b[0m         \u001b[0;32mif\u001b[0m \u001b[0mis_empty\u001b[0m\u001b[0;34m:\u001b[0m\u001b[0;34m\u001b[0m\u001b[0m\n\u001b[1;32m    351\u001b[0m             raise TypeError('Empty {0!r}: no numeric data to '\n\u001b[0;32m--> 352\u001b[0;31m                             'plot'.format(numeric_data.__class__.__name__))\n\u001b[0m\u001b[1;32m    353\u001b[0m \u001b[0;34m\u001b[0m\u001b[0m\n\u001b[1;32m    354\u001b[0m         \u001b[0mself\u001b[0m\u001b[0;34m.\u001b[0m\u001b[0mdata\u001b[0m \u001b[0;34m=\u001b[0m \u001b[0mnumeric_data\u001b[0m\u001b[0;34m\u001b[0m\u001b[0m\n",
      "\u001b[0;31mTypeError\u001b[0m: Empty 'DataFrame': no numeric data to plot"
     ]
    }
   ],
   "source": [
    "# Plot the average value by condition and date\n",
    "ax = df.groupby([\"threat\",pd.Grouper(freq='H')]).count().plot()"
   ]
  },
  {
   "cell_type": "code",
   "execution_count": 177,
   "metadata": {
    "collapsed": true
   },
   "outputs": [],
   "source": [
    "### Countplots"
   ]
  },
  {
   "cell_type": "code",
   "execution_count": 181,
   "metadata": {
    "collapsed": true
   },
   "outputs": [],
   "source": [
    "import matplotlib\n",
    "import matplotlib.pyplot as plt\n",
    "import seaborn as sns\n",
    "%matplotlib inline"
   ]
  },
  {
   "cell_type": "markdown",
   "metadata": {},
   "source": [
    "#### conn.log"
   ]
  },
  {
   "cell_type": "code",
   "execution_count": 179,
   "metadata": {},
   "outputs": [
    {
     "data": {
      "text/html": [
       "<div>\n",
       "<style>\n",
       "    .dataframe thead tr:only-child th {\n",
       "        text-align: right;\n",
       "    }\n",
       "\n",
       "    .dataframe thead th {\n",
       "        text-align: left;\n",
       "    }\n",
       "\n",
       "    .dataframe tbody tr th {\n",
       "        vertical-align: top;\n",
       "    }\n",
       "</style>\n",
       "<table border=\"1\" class=\"dataframe\">\n",
       "  <thead>\n",
       "    <tr style=\"text-align: right;\">\n",
       "      <th></th>\n",
       "      <th>conn_state</th>\n",
       "      <th>duration</th>\n",
       "      <th>history</th>\n",
       "      <th>id.orig_h</th>\n",
       "      <th>id.resp_h</th>\n",
       "      <th>local_orig</th>\n",
       "      <th>orig_bytes</th>\n",
       "      <th>proto</th>\n",
       "      <th>resp_bytes</th>\n",
       "      <th>sample</th>\n",
       "      <th>service</th>\n",
       "      <th>threat</th>\n",
       "      <th>tunnel_parents</th>\n",
       "      <th>uid</th>\n",
       "    </tr>\n",
       "  </thead>\n",
       "  <tbody>\n",
       "    <tr>\n",
       "      <th>count</th>\n",
       "      <td>51743</td>\n",
       "      <td>51743</td>\n",
       "      <td>51743</td>\n",
       "      <td>51743</td>\n",
       "      <td>51743</td>\n",
       "      <td>51743</td>\n",
       "      <td>51743</td>\n",
       "      <td>51743</td>\n",
       "      <td>51743</td>\n",
       "      <td>51743</td>\n",
       "      <td>51743</td>\n",
       "      <td>51743</td>\n",
       "      <td>51743</td>\n",
       "      <td>51743</td>\n",
       "    </tr>\n",
       "    <tr>\n",
       "      <th>unique</th>\n",
       "      <td>13</td>\n",
       "      <td>38352</td>\n",
       "      <td>174</td>\n",
       "      <td>111</td>\n",
       "      <td>3861</td>\n",
       "      <td>1</td>\n",
       "      <td>3479</td>\n",
       "      <td>3</td>\n",
       "      <td>4629</td>\n",
       "      <td>95</td>\n",
       "      <td>9</td>\n",
       "      <td>3</td>\n",
       "      <td>2</td>\n",
       "      <td>51743</td>\n",
       "    </tr>\n",
       "    <tr>\n",
       "      <th>top</th>\n",
       "      <td>RSTO</td>\n",
       "      <td>-</td>\n",
       "      <td>ShAfR</td>\n",
       "      <td>192.168.248.165</td>\n",
       "      <td>10.0.2.255</td>\n",
       "      <td>-</td>\n",
       "      <td>0</td>\n",
       "      <td>tcp</td>\n",
       "      <td>-</td>\n",
       "      <td>BIN_Kuluoz-Asprox_9F842AD20C50AD1AAB41F20B321B...</td>\n",
       "      <td>-</td>\n",
       "      <td>CRIME</td>\n",
       "      <td>(empty)</td>\n",
       "      <td>Ccf1Kq4YilW9TJ9di6</td>\n",
       "    </tr>\n",
       "    <tr>\n",
       "      <th>freq</th>\n",
       "      <td>20739</td>\n",
       "      <td>10920</td>\n",
       "      <td>9974</td>\n",
       "      <td>23641</td>\n",
       "      <td>2756</td>\n",
       "      <td>51743</td>\n",
       "      <td>21169</td>\n",
       "      <td>43381</td>\n",
       "      <td>10920</td>\n",
       "      <td>17510</td>\n",
       "      <td>31585</td>\n",
       "      <td>48725</td>\n",
       "      <td>51741</td>\n",
       "      <td>1</td>\n",
       "    </tr>\n",
       "  </tbody>\n",
       "</table>\n",
       "</div>"
      ],
      "text/plain": [
       "       conn_state duration history        id.orig_h   id.resp_h local_orig  \\\n",
       "count       51743    51743   51743            51743       51743      51743   \n",
       "unique         13    38352     174              111        3861          1   \n",
       "top          RSTO        -   ShAfR  192.168.248.165  10.0.2.255          -   \n",
       "freq        20739    10920    9974            23641        2756      51743   \n",
       "\n",
       "       orig_bytes  proto resp_bytes  \\\n",
       "count       51743  51743      51743   \n",
       "unique       3479      3       4629   \n",
       "top             0    tcp          -   \n",
       "freq        21169  43381      10920   \n",
       "\n",
       "                                                   sample service threat  \\\n",
       "count                                               51743   51743  51743   \n",
       "unique                                                 95       9      3   \n",
       "top     BIN_Kuluoz-Asprox_9F842AD20C50AD1AAB41F20B321B...       -  CRIME   \n",
       "freq                                                17510   31585  48725   \n",
       "\n",
       "       tunnel_parents                 uid  \n",
       "count           51743               51743  \n",
       "unique              2               51743  \n",
       "top           (empty)  Ccf1Kq4YilW9TJ9di6  \n",
       "freq            51741                   1  "
      ]
     },
     "execution_count": 179,
     "metadata": {},
     "output_type": "execute_result"
    }
   ],
   "source": [
    "conndf.select_dtypes(include=['object']).describe()"
   ]
  },
  {
   "cell_type": "code",
   "execution_count": 184,
   "metadata": {},
   "outputs": [
    {
     "data": {
      "text/plain": [
       "(array([ 0,  1,  2,  3,  4,  5,  6,  7,  8,  9, 10, 11, 12]),\n",
       " <a list of 13 Text xticklabel objects>)"
      ]
     },
     "execution_count": 184,
     "metadata": {},
     "output_type": "execute_result"
    },
    {
     "data": {
      "image/png": "[encoded data removed]",
      "text/plain": [
       "<matplotlib.figure.Figure at 0x12cdfc3c8>"
      ]
     },
     "metadata": {},
     "output_type": "display_data"
    }
   ],
   "source": [
    "fig, ax = plt.subplots(figsize=(15, 10))\n",
    "sns.countplot(ax=ax, x=\"conn_state\", data=conndf)\n",
    "plt.xticks(rotation=90)"
   ]
  },
  {
   "cell_type": "code",
   "execution_count": 186,
   "metadata": {},
   "outputs": [
    {
     "data": {
      "text/plain": [
       "(array([0, 1, 2]), <a list of 3 Text xticklabel objects>)"
      ]
     },
     "execution_count": 186,
     "metadata": {},
     "output_type": "execute_result"
    },
    {
     "data": {
      "image/png": "[encoded data removed]",
      "text/plain": [
       "<matplotlib.figure.Figure at 0x118f6b358>"
      ]
     },
     "metadata": {},
     "output_type": "display_data"
    }
   ],
   "source": [
    "fig, ax = plt.subplots(figsize=(5, 5))\n",
    "sns.countplot(ax=ax, x=\"proto\", data=conndf)\n",
    "plt.xticks(rotation=90)"
   ]
  },
  {
   "cell_type": "code",
   "execution_count": 187,
   "metadata": {},
   "outputs": [
    {
     "data": {
      "text/plain": [
       "(array([0, 1, 2, 3, 4, 5, 6, 7, 8]), <a list of 9 Text xticklabel objects>)"
      ]
     },
     "execution_count": 187,
     "metadata": {},
     "output_type": "execute_result"
    },
    {
     "data": {
      "image/png": "[encoded data removed]",
      "text/plain": [
       "<matplotlib.figure.Figure at 0x12b47a6d8>"
      ]
     },
     "metadata": {},
     "output_type": "display_data"
    }
   ],
   "source": [
    "fig, ax = plt.subplots(figsize=(15, 10))\n",
    "sns.countplot(ax=ax, x=\"service\", data=conndf)\n",
    "plt.xticks(rotation=90)"
   ]
  },
  {
   "cell_type": "code",
   "execution_count": 188,
   "metadata": {},
   "outputs": [
    {
     "data": {
      "text/plain": [
       "(array([0, 1, 2]), <a list of 3 Text xticklabel objects>)"
      ]
     },
     "execution_count": 188,
     "metadata": {},
     "output_type": "execute_result"
    },
    {
     "data": {
      "image/png": "[encoded data removed]",
      "text/plain": [
       "<matplotlib.figure.Figure at 0x133990588>"
      ]
     },
     "metadata": {},
     "output_type": "display_data"
    }
   ],
   "source": [
    "fig, ax = plt.subplots(figsize=(15, 10))\n",
    "sns.countplot(ax=ax, x=\"threat\", data=conndf)\n",
    "plt.xticks(rotation=90)"
   ]
  },
  {
   "cell_type": "code",
   "execution_count": null,
   "metadata": {
    "collapsed": true
   },
   "outputs": [],
   "source": [
    "#### dns.log"
   ]
  },
  {
   "cell_type": "code",
   "execution_count": null,
   "metadata": {
    "collapsed": true
   },
   "outputs": [],
   "source": [
    "dnsdf.select_dtypes(include=['object']).describe()"
   ]
  }
 ],
 "metadata": {
  "kernelspec": {
   "display_name": "Python 3",
   "language": "python",
   "name": "python3"
  },
  "language_info": {
   "codemirror_mode": {
    "name": "ipython",
    "version": 3
   },
   "file_extension": ".py",
   "mimetype": "text/x-python",
   "name": "python",
   "nbconvert_exporter": "python",
   "pygments_lexer": "ipython3",
   "version": "3.6.2"
  },
  "toc": {
   "colors": {
    "hover_highlight": "#DAA520",
    "navigate_num": "#000000",
    "navigate_text": "#333333",
    "running_highlight": "#FF0000",
    "selected_highlight": "#FFD700",
    "sidebar_border": "#EEEEEE",
    "wrapper_background": "#FFFFFF"
   },
   "moveMenuLeft": true,
   "nav_menu": {
    "height": "260px",
    "width": "253px"
   },
   "navigate_menu": true,
   "number_sections": true,
   "sideBar": true,
   "threshold": 4,
   "toc_cell": false,
   "toc_section_display": "block",
   "toc_window_display": false,
   "widenNotebook": false
  }
 },
 "nbformat": 4,
 "nbformat_minor": 2
}
